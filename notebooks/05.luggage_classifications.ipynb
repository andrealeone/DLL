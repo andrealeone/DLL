{
 "cells": [
  {
   "cell_type": "markdown",
   "id": "de393d85",
   "metadata": {},
   "source": [
    "<br>\n",
    "<u>Notebook Five</u> | \n",
    "<a href=https://leone.gdn/DLL target=_blank>Report</a> | \n",
    "<a href=https://github.com/andrealeone/DLL>Repository</a>\n",
    "<br><br>\n",
    "<b>Task 1: Attribute classifiers</b><br><br>\n",
    "Andrea Leone, Alessandro E. Piotti<br>\n",
    "Deep Learning Lab — University of Trento<br>\n",
    "December 2021\n",
    "<hr><br><br>"
   ]
  },
  {
   "cell_type": "code",
   "execution_count": 1,
   "id": "b6b78df6",
   "metadata": {},
   "outputs": [],
   "source": [
    "import project \n",
    "\n",
    "import os\n",
    "import pickle\n",
    "import numpy             as np\n",
    "import pandas            as pd\n",
    "import matplotlib.pyplot as plt\n",
    "import random\n",
    "import collections\n",
    "\n",
    "import torch\n",
    "import torch.nn          as nn\n",
    "import torch.optim       as optim\n",
    "import torchvision\n",
    "import sklearn\n",
    "\n",
    "from tqdm.notebook   import tqdm\n",
    "\n",
    "project.notebook()"
   ]
  },
  {
   "cell_type": "code",
   "execution_count": 2,
   "id": "6ce97c96",
   "metadata": {},
   "outputs": [],
   "source": [
    "images, annotations = project.load_resources() "
   ]
  },
  {
   "cell_type": "markdown",
   "id": "b9d875af",
   "metadata": {},
   "source": [
    "<hr><br><br>"
   ]
  },
  {
   "cell_type": "markdown",
   "id": "b33fddd1",
   "metadata": {},
   "source": [
    "## `Backpack` classifier"
   ]
  },
  {
   "cell_type": "markdown",
   "id": "75b59166",
   "metadata": {},
   "source": [
    "<br><br>Load the train set, isolate the attribute as label, crop the image, and compute class weights"
   ]
  },
  {
   "cell_type": "code",
   "execution_count": 3,
   "id": "3c65f588",
   "metadata": {},
   "outputs": [
    {
     "data": {
      "application/vnd.jupyter.widget-view+json": {
       "model_id": "3229d3c994f24a2c84c09f1dfae8bc1c",
       "version_major": 2,
       "version_minor": 0
      },
      "text/plain": [
       "  0%|          | 0/12989 [00:00<?, ?it/s]"
      ]
     },
     "metadata": {},
     "output_type": "display_data"
    },
    {
     "name": "stdout",
     "output_type": "stream",
     "text": [
      "data:     Counter({0: 9608, 1: 3381})\n",
      "train:    Counter({0: 8365, 1: 2805})\n",
      "test:     Counter({0: 1243, 1: 576})\n"
     ]
    },
    {
     "data": {
      "image/png": "[encoded data removed]",
      "text/plain": [
       "<Figure size 1152x432 with 1 Axes>"
      ]
     },
     "metadata": {
      "needs_background": "light"
     },
     "output_type": "display_data"
    },
    {
     "data": {
      "text/plain": [
       "tensor([0.6677, 1.9911])"
      ]
     },
     "execution_count": 3,
     "metadata": {},
     "output_type": "execute_result"
    }
   ],
   "source": [
    "attribute  = 'backpack' \n",
    "\n",
    "split_val  = 640                # 751-640=151\n",
    "dictionary = dict()\n",
    "irm        = torchvision.io.ImageReadMode.RGB\n",
    "\n",
    "for image_file in tqdm(images):\n",
    "    \n",
    "    image_id = int(image_file.split('/')[-1].split('_')[0])\n",
    "    \n",
    "    label    = annotations.loc[image_id][attribute] - 1\n",
    "    tensor   = torchvision.io.read_image( image_file, irm )\n",
    "    \n",
    "    ct = list()\n",
    "    for c,channel in enumerate(tensor):\n",
    "        ct.append( tensor[c][20:80].numpy() )\n",
    "    \n",
    "    tensor   = torch.tensor(ct).float()\n",
    "    \n",
    "    if image_id not in dictionary:\n",
    "        dictionary[image_id] = list()\n",
    "        dictionary[image_id].append([tensor, label])\n",
    "    else:\n",
    "        dictionary[image_id].append([tensor, label])\n",
    "    \n",
    "data = list(dictionary.items())\n",
    "random.Random(3).shuffle(data)\n",
    "\n",
    "train_set, test_set = project.split_dataset(data, split_val)\n",
    "\n",
    "project.inspect_dataset(data, train_set, test_set)\n",
    "\n",
    "train_targets       = [y for _,y in train_set] \n",
    "train_class_weights = torch.tensor(\n",
    "    sklearn.utils.class_weight.compute_class_weight(\n",
    "        y=train_targets, classes=np.unique(train_targets),\n",
    "        class_weight='balanced'\n",
    "    ), dtype=torch.float\n",
    ")\n",
    "\n",
    "project.plot_image(train_set[0][0], fs=(16,6)) \n",
    "train_class_weights "
   ]
  },
  {
   "cell_type": "markdown",
   "id": "346aeb59",
   "metadata": {},
   "source": [
    "<hr><br><br>Fit a pretrained ResNet50 architecture"
   ]
  },
  {
   "cell_type": "code",
   "execution_count": null,
   "id": "7ef0ea02",
   "metadata": {},
   "outputs": [],
   "source": [
    "v = '3_2'                       # model version \n",
    "e =  0                          # starting epoch\n",
    "\n",
    "\n",
    "model     = torchvision.models.resnet50(pretrained=True) \n",
    "model.fc  = nn.Linear(\n",
    "    in_features=model.fc.in_features,\n",
    "    out_features=2, bias=True\n",
    ")\n",
    "\n",
    "if e > 0:\n",
    "    w = './models/{}_resnet50.v{}.x{}.net'.format(attribute, v, e)\n",
    "    model.load_state_dict( torch.load(w) )\n",
    "\n",
    "\n",
    "optimizer = optim.AdamW(model.parameters(), lr=0.001)\n",
    "criterion = nn.CrossEntropyLoss(\n",
    "    weight=train_class_weights, reduction='mean'\n",
    ")\n",
    "\n",
    "\n",
    "for i in range(10): \n",
    "\n",
    "    model_name = '{}_resnet50.v{}.x{}.net'.format(attribute, v, e+i+1)\n",
    "\n",
    "    p = project.train(model, train_set,\n",
    "        criterion, optimizer, epochs=1, li=500, monobatch=True\n",
    "    )\n",
    "\n",
    "    r = project.test(model, test_set, monobatch=True)\n",
    "\n",
    "    project.save(model, './models/{}'.format(model_name))"
   ]
  },
  {
   "cell_type": "code",
   "execution_count": null,
   "id": "07020c80",
   "metadata": {},
   "outputs": [],
   "source": [
    "# SCORE BOARD \n",
    "# \n",
    "# net_design_name | epochs | accuracy           | precision | recall\n",
    "#                 |        |                    |           |\n",
    "# resnet50 v0.1   |  1     | 0.8114348543155580 | 0.7831616 | 0.7763196\n",
    "# resnet50 v0.1   |  2     | 0.7696536558548653 | 0.7370217 | 0.7527354\n",
    "# resnet50 v0.1   |  3     | 0.7438152831225948 | 0.7138901 | 0.7352269\n",
    "#                 |        |                    |           |\n",
    "# resnet50 v0.2   |  1     | 0.6805937328202310 | 0.3412348 | 0.4979887\n",
    "# resnet50 v0.2   |  2     | 0.6827927432655305 | 0.5818364 | 0.5047215\n",
    "# resnet50 v0.2   |  3     | 0.6668499175371083 | 0.5046833 | 0.5009749\n",
    "# resnet50 v0.2   |  4     | 0.6717976910390324 | 0.5482057 | 0.5129796\n",
    "# resnet50 v0.2   |  5     | 0.6624518966465090 | 0.5609068 | 0.5326921\n",
    "# resnet50 v0.2   |  6     | 0.6619021440351842 | 0.5536044 | 0.5262344\n",
    "#"
   ]
  },
  {
   "cell_type": "markdown",
   "id": "9848fc05",
   "metadata": {},
   "source": [
    "<hr><br><br>Fit a custom CNN architecture"
   ]
  },
  {
   "cell_type": "code",
   "execution_count": null,
   "id": "4f5854de",
   "metadata": {
    "scrolled": true
   },
   "outputs": [],
   "source": [
    "v = '4'                         # model version \n",
    "e =  0                          # epoch counter\n",
    "\n",
    "\n",
    "model = project.CNN(2048)\n",
    "\n",
    "if e > 0:\n",
    "    w = './models/{}_3cnv_5fc.v{}.x{}.net'.format(attribute, v, e)\n",
    "    model.load_state_dict( torch.load(w) )\n",
    "\n",
    "\n",
    "optimizer = optim.AdamW(model.parameters(), lr=0.002)\n",
    "criterion = nn.CrossEntropyLoss(\n",
    "    weight=train_class_weights, reduction='mean'\n",
    ")\n",
    "\n",
    "\n",
    "for i in range(10): \n",
    "\n",
    "    model_name = '{}_3cnv_5fc.v{}.x{}.net'.format(attribute, v, e+i+1)\n",
    "\n",
    "    p = project.train(model, train_set,\n",
    "        criterion, optimizer, epochs=1, li=500, monobatch=True\n",
    "    )\n",
    "\n",
    "    r = project.test(model, test_set, monobatch=True)\n",
    "\n",
    "    project.save(model, './models/{}'.format(model_name))"
   ]
  },
  {
   "cell_type": "code",
   "execution_count": null,
   "id": "75814702",
   "metadata": {},
   "outputs": [],
   "source": [
    "# SCORE BOARD \n",
    "# \n",
    "# net_design_name    | epochs | accuracy           | precision | recall\n",
    "#                    |        |                    |           |\n",
    "# c.cnn 3cnv_5fc v1  |  3     | 0.7832050853128136 | /         | /\n",
    "# c.cnn 3cnv_5fc v1  |  6     | 0.7886904761904762 | /         | /\n",
    "#                    |        |                    |           |\n",
    "# c.cnn 3cnv_5fc v2  |  4     | 0.6959868059373282 | /         | /\n",
    "# c.cnn 3cnv_5fc v2  |  8     | 0.7234744365035733 | /         | /\n",
    "#                    |        |                    |           |\n",
    "# c.cnn 3cnv_5fc v4  |  1     | 0.6816932380428807 | 0.4415105 | 0.4992590\n",
    "# c.cnn 3cnv_5fc v4  |  2     | 0.6767454645409565 | 0.5170461 | 0.5016942\n",
    "#\n",
    "# c.cnn 3cnv_5fc v5  |  1     | 0.7339197361187466 | 0.7224201 | 0.6101383\n",
    "# c.cnn 3cnv_5fc v5  |  2     | 0.7311709730621221 | 0.7029169 | 0.6174431\n",
    "# c.cnn 3cnv_5fc v5  |  3     | 0.7245739417262232 | 0.7021983 | 0.5981762\n",
    "# c.cnn 3cnv_5fc v5  |  4     | 0.7322704782847719 | 0.7086343 | 0.6154528\n",
    "# c.cnn 3cnv_5fc v5  |  5     | 0.7317207256734469 | 0.7033343 | 0.6187770\n",
    "# c.cnn 3cnv_5fc v5  |  6     | 0.7185266630016492 | 0.6775287 | 0.6030675\n",
    "# c.cnn 3cnv_5fc v5  |  7     | 0.7322704782847719 | 0.7041963 | 0.6196450\n",
    "# c.cnn 3cnv_5fc v5  |  8     | 0.7223749312809236 | 0.6820069 | 0.6124045\n",
    "# c.cnn 3cnv_5fc v5  |  9     | 0.7179769103903244 | 0.6693700 | 0.6208315\n",
    "# c.cnn 3cnv_5fc v5  | 10     | 0.7097306212204508 | 0.6585595 | 0.5970972\n",
    "#"
   ]
  },
  {
   "cell_type": "markdown",
   "id": "139bbfd3",
   "metadata": {},
   "source": [
    "<hr><br><br>"
   ]
  },
  {
   "cell_type": "markdown",
   "id": "a7722c5b",
   "metadata": {},
   "source": [
    "## `Bag` classifier"
   ]
  },
  {
   "cell_type": "markdown",
   "id": "3c971007",
   "metadata": {},
   "source": [
    "<br><br>Load the train set, isolate the attribute as label, crop the image, and compute class weights"
   ]
  },
  {
   "cell_type": "code",
   "execution_count": 4,
   "id": "7265517c",
   "metadata": {},
   "outputs": [
    {
     "data": {
      "application/vnd.jupyter.widget-view+json": {
       "model_id": "caadf686be2f4e789556877c9b515cfe",
       "version_major": 2,
       "version_minor": 0
      },
      "text/plain": [
       "  0%|          | 0/12989 [00:00<?, ?it/s]"
      ]
     },
     "metadata": {},
     "output_type": "display_data"
    },
    {
     "name": "stdout",
     "output_type": "stream",
     "text": [
      "data:     Counter({0: 9744, 1: 3245})\n",
      "train:    Counter({0: 8384, 1: 2786})\n",
      "test:     Counter({0: 1360, 1: 459})\n"
     ]
    },
    {
     "data": {
      "image/png": "[encoded data removed]",
      "text/plain": [
       "<Figure size 1152x576 with 1 Axes>"
      ]
     },
     "metadata": {
      "needs_background": "light"
     },
     "output_type": "display_data"
    },
    {
     "data": {
      "text/plain": [
       "tensor([0.6661, 2.0047])"
      ]
     },
     "execution_count": 4,
     "metadata": {},
     "output_type": "execute_result"
    }
   ],
   "source": [
    "attribute  = 'bag' \n",
    "\n",
    "split_val  = 640                # 751-640=151\n",
    "dictionary = dict()\n",
    "irm        = torchvision.io.ImageReadMode.RGB\n",
    "\n",
    "for image_file in tqdm(images):\n",
    "    \n",
    "    image_id = int(image_file.split('/')[-1].split('_')[0])\n",
    "    \n",
    "    label    = annotations.loc[image_id][attribute] - 1\n",
    "    tensor   = torchvision.io.read_image( image_file, irm )\n",
    "    \n",
    "    ct = list()\n",
    "    for c,channel in enumerate(tensor):\n",
    "        ct.append( tensor[c][20:80].numpy() )\n",
    "    \n",
    "    tensor   = torch.tensor(ct).float()\n",
    "    \n",
    "    if image_id not in dictionary:\n",
    "        dictionary[image_id] = list()\n",
    "        dictionary[image_id].append([tensor, label])\n",
    "    else:\n",
    "        dictionary[image_id].append([tensor, label])\n",
    "    \n",
    "data = list(dictionary.items())\n",
    "random.Random(3).shuffle(data)\n",
    "\n",
    "train_set, test_set = project.split_dataset(data, split_val)\n",
    "\n",
    "project.inspect_dataset(data, train_set, test_set)\n",
    "\n",
    "train_targets       = [y for _,y in train_set] \n",
    "train_class_weights = torch.tensor(\n",
    "    sklearn.utils.class_weight.compute_class_weight(\n",
    "        y=train_targets, classes=np.unique(train_targets),\n",
    "        class_weight='balanced'\n",
    "    ), dtype=torch.float\n",
    ")\n",
    "\n",
    "project.plot_image(train_set[0][0]) \n",
    "train_class_weights "
   ]
  },
  {
   "cell_type": "markdown",
   "id": "6faf77e7",
   "metadata": {},
   "source": [
    "<hr><br><br>Fit a pretrained ResNet50 architecture"
   ]
  },
  {
   "cell_type": "code",
   "execution_count": null,
   "id": "f722993a",
   "metadata": {},
   "outputs": [],
   "source": [
    "v = '3_2'                       # model version \n",
    "e =  0                          # starting epoch\n",
    "\n",
    "\n",
    "model     = torchvision.models.resnet50(pretrained=True) \n",
    "model.fc  = nn.Linear(\n",
    "    in_features=model.fc.in_features,\n",
    "    out_features=2, bias=True\n",
    ")\n",
    "\n",
    "if e > 0:\n",
    "    w = './models/{}_resnet50.v{}.x{}.net'.format(attribute, v, e)\n",
    "    model.load_state_dict( torch.load(w) )\n",
    "\n",
    "\n",
    "optimizer = optim.AdamW(model.parameters(), lr=0.001)\n",
    "criterion = nn.CrossEntropyLoss(\n",
    "    weight=train_class_weights, reduction='mean'\n",
    ")\n",
    "\n",
    "\n",
    "for i in range(10): \n",
    "\n",
    "    model_name = '{}_resnet50.v{}.x{}.net'.format(attribute, v, e+i+1)\n",
    "\n",
    "    p = project.train(model, train_set,\n",
    "        criterion, optimizer, epochs=1, li=500, monobatch=True\n",
    "    )\n",
    "\n",
    "    r = project.test(model, test_set, monobatch=True)\n",
    "\n",
    "    project.save(model, './models/{}'.format(model_name))"
   ]
  },
  {
   "cell_type": "code",
   "execution_count": null,
   "id": "30ad7440",
   "metadata": {},
   "outputs": [],
   "source": [
    "# SCORE BOARD \n",
    "# \n",
    "# net_design_name    | epochs | accuracy           | precision | recall\n",
    "#                    |        |                    |           |\n",
    "# resnet50 v0.1      |  1     | 0.7212754260582738 | 0.5501560 | 0.5206018\n",
    "# resnet50 v0.1      |  2     | 0.7311709730621221 | 0.5865494 | 0.5380446\n",
    "# resnet50 v0.1      |  3     | 0.7399670148433205 | 0.6109074 | 0.5460920\n",
    "# resnet50 v0.1      |  4     | 0.7465640461792193 | 0.6226822 | 0.5266884\n",
    "# resnet50 v0.1      |  5     | 0.7498625618471688 | 0.6420684 | 0.5346677\n",
    "# resnet50 v0.1      |  6     | 0.7416162726772952 | 0.6112924 | 0.5399782\n",
    "#                    |        |                    |           |\n",
    "# resnet50 v0.2      |  1-4   | 0.7135788894997251 | 0.4762195 | 0.4930827\n",
    "#"
   ]
  },
  {
   "cell_type": "markdown",
   "id": "5b60ef72",
   "metadata": {},
   "source": [
    "<hr><br><br>Fit a custom CNN architecture"
   ]
  },
  {
   "cell_type": "code",
   "execution_count": null,
   "id": "044fa0d0",
   "metadata": {
    "scrolled": true
   },
   "outputs": [],
   "source": [
    "v = '4'                         # model version \n",
    "e =  0                          # epoch counter\n",
    "\n",
    "\n",
    "model = project.CNN(2048)\n",
    "\n",
    "if e > 0:\n",
    "    w = './models/{}_3cnv_5fc.v{}.x{}.net'.format(attribute, v, e)\n",
    "    model.load_state_dict( torch.load(w) )\n",
    "\n",
    "\n",
    "optimizer = optim.AdamW(model.parameters(), lr=0.002)\n",
    "criterion = nn.CrossEntropyLoss(\n",
    "    weight=train_class_weights, reduction='mean'\n",
    ")\n",
    "\n",
    "\n",
    "for i in range(10): \n",
    "\n",
    "    model_name = '{}_3cnv_5fc.v{}.x{}.net'.format(attribute, v, e+i+1)\n",
    "\n",
    "    p = project.train(model, train_set,\n",
    "        criterion, optimizer, epochs=1, li=500, monobatch=True\n",
    "    )\n",
    "\n",
    "    r = project.test(model, test_set, monobatch=True)\n",
    "\n",
    "    project.save(model, './models/{}'.format(model_name))"
   ]
  },
  {
   "cell_type": "code",
   "execution_count": null,
   "id": "96dbb145",
   "metadata": {},
   "outputs": [],
   "source": [
    "# SCORE BOARD \n",
    "# \n",
    "# net_design_name    | epochs | accuracy           | precision | recall\n",
    "#                    |        |                    |           |\n",
    "# c.cnn 3cnv_5fc v1  |  3     | 0.7179658748745400 | /         | /\n",
    "# c.cnn 3cnv_5fc v1  |  6     | 0.7083333333333334 | /         | /\n",
    "#                    |        |                    |           |\n",
    "# c.cnn 3cnv_5fc v2  |  4     | 0.5448048378229796 | /         | /\n",
    "# c.cnn 3cnv_5fc v2  |  8     | 0.5761407366684992 | /         | /\n",
    "#                    |        |                    |           |\n",
    "# c.cnn 3cnv_5fc v5  |  1     | 0.6635514018691588 | 0.4772313 | 0.4848856\n",
    "# c.cnn 3cnv_5fc v5  |  2     | 0.6536558548653106 | 0.4915851 | 0.4934232\n",
    "# c.cnn 3cnv_5fc v5  |  3     | 0.6646509070918087 | 0.4886781 | 0.4921160\n",
    "# c.cnn 3cnv_5fc v5  |  4     | 0.6135239142385926 | 0.4763901 | 0.4774101\n",
    "# c.cnn 3cnv_5fc v5  |  5     | 0.6223199560197911 | 0.4820697 | 0.4832925\n",
    "# c.cnn 3cnv_5fc v5  |  6     | 0.6014293567894448 | 0.4714457 | 0.4714869\n",
    "# c.cnn 3cnv_5fc v5  |  7     | 0.5904343045629467 | 0.4822755 | 0.4807326\n",
    "# c.cnn 3cnv_5fc v5  |  8     | 0.5898845519516218 | 0.4783943 | 0.4767565\n",
    "# c.cnn 3cnv_5fc v5  |  9     | 0.5953820780648708 | 0.4779258 | 0.4768246\n",
    "# c.cnn 3cnv_5fc v5  | 10     | 0.6135239142385926 | 0.4828573 | 0.4831836\n",
    "#"
   ]
  },
  {
   "cell_type": "markdown",
   "id": "123459b9",
   "metadata": {},
   "source": [
    "<hr><br><br>"
   ]
  },
  {
   "cell_type": "markdown",
   "id": "c6aba9be",
   "metadata": {},
   "source": [
    "## `Handbag` classifier"
   ]
  },
  {
   "cell_type": "markdown",
   "id": "124331d1",
   "metadata": {},
   "source": [
    "<br><br>Load the train set, isolate the attribute as label, crop the image, and compute class weights"
   ]
  },
  {
   "cell_type": "code",
   "execution_count": 5,
   "id": "f29828db",
   "metadata": {},
   "outputs": [
    {
     "data": {
      "application/vnd.jupyter.widget-view+json": {
       "model_id": "75c159cc4b794cb5a31e0570727df805",
       "version_major": 2,
       "version_minor": 0
      },
      "text/plain": [
       "  0%|          | 0/12989 [00:00<?, ?it/s]"
      ]
     },
     "metadata": {},
     "output_type": "display_data"
    },
    {
     "name": "stdout",
     "output_type": "stream",
     "text": [
      "data:     Counter({0: 11586, 1: 1403})\n",
      "train:    Counter({0: 9902, 1: 1268})\n",
      "test:     Counter({0: 1684, 1: 135})\n"
     ]
    },
    {
     "data": {
      "image/png": "[encoded data removed]",
      "text/plain": [
       "<Figure size 1152x576 with 1 Axes>"
      ]
     },
     "metadata": {
      "needs_background": "light"
     },
     "output_type": "display_data"
    },
    {
     "data": {
      "text/plain": [
       "tensor([0.5640, 4.4046])"
      ]
     },
     "execution_count": 5,
     "metadata": {},
     "output_type": "execute_result"
    }
   ],
   "source": [
    "attribute  = 'handbag' \n",
    "\n",
    "split_val  = 640                # 751-640=151\n",
    "dictionary = dict()\n",
    "irm        = torchvision.io.ImageReadMode.RGB\n",
    "\n",
    "for image_file in tqdm(images):\n",
    "    \n",
    "    image_id = int(image_file.split('/')[-1].split('_')[0])\n",
    "    \n",
    "    label    = annotations.loc[image_id][attribute] - 1\n",
    "    tensor   = torchvision.io.read_image( image_file, irm )\n",
    "    \n",
    "    ct = list()\n",
    "    for c,channel in enumerate(tensor):\n",
    "        ct.append( tensor[c][40:100].numpy() )\n",
    "    \n",
    "    tensor   = torch.tensor(ct).float()\n",
    "    \n",
    "    if image_id not in dictionary:\n",
    "        dictionary[image_id] = list()\n",
    "        dictionary[image_id].append([tensor, label])\n",
    "    else:\n",
    "        dictionary[image_id].append([tensor, label])\n",
    "    \n",
    "data = list(dictionary.items())\n",
    "random.Random(3).shuffle(data)\n",
    "\n",
    "train_set, test_set = project.split_dataset(data, split_val)\n",
    "\n",
    "project.inspect_dataset(data, train_set, test_set)\n",
    "\n",
    "train_targets       = [y for _,y in train_set] \n",
    "train_class_weights = torch.tensor(\n",
    "    sklearn.utils.class_weight.compute_class_weight(\n",
    "        y=train_targets, classes=np.unique(train_targets), class_weight='balanced'\n",
    "    ), dtype=torch.float\n",
    ")\n",
    "\n",
    "project.plot_image(train_set[0][0]) \n",
    "train_class_weights "
   ]
  },
  {
   "cell_type": "markdown",
   "id": "f1e9b753",
   "metadata": {},
   "source": [
    "<hr><br><br>Fit a pretrained ResNet50 architecture"
   ]
  },
  {
   "cell_type": "code",
   "execution_count": null,
   "id": "fc38dea0",
   "metadata": {},
   "outputs": [],
   "source": [
    "v = '3_2'                       # model version \n",
    "e =  0                          # starting epoch\n",
    "\n",
    "\n",
    "model     = torchvision.models.resnet50(pretrained=True) \n",
    "model.fc  = nn.Linear(\n",
    "    in_features=model.fc.in_features,\n",
    "    out_features=2, bias=True\n",
    ")\n",
    "\n",
    "if e > 0:\n",
    "    w = './models/{}_resnet50.v{}.x{}.net'.format(attribute, v, e)\n",
    "    model.load_state_dict( torch.load(w) )\n",
    "\n",
    "\n",
    "optimizer = optim.AdamW(model.parameters(), lr=0.001)\n",
    "criterion = nn.CrossEntropyLoss(\n",
    "    weight=train_class_weights, reduction='mean'\n",
    ")\n",
    "\n",
    "\n",
    "for i in range(10): \n",
    "\n",
    "    model_name = '{}_resnet50.v{}.x{}.net'.format(attribute, v, e+i+1)\n",
    "\n",
    "    p = project.train(model, train_set,\n",
    "        criterion, optimizer, epochs=1, li=500, monobatch=True\n",
    "    )\n",
    "\n",
    "    r = project.test(model, test_set, monobatch=True)\n",
    "\n",
    "    project.save(model, './models/{}'.format(model_name))"
   ]
  },
  {
   "cell_type": "code",
   "execution_count": null,
   "id": "16b499ba",
   "metadata": {},
   "outputs": [],
   "source": [
    "# SCORE BOARD \n",
    "# \n",
    "# net_design_name    | epochs | accuracy           | precision | recall\n",
    "#                    |        |                    |           |\n",
    "# resnet50 v0.1      |  1     | 0.9257833974711380 | 0.4628916 | 0.5000000\n",
    "# resnet50 v0.1      |  2     | 0.9153380978559648 | 0.5064515 | 0.5011722\n",
    "# resnet50 v0.1      |  3     | 0.9043430456294668 | 0.5492343 | 0.5224883\n",
    "# resnet50 v0.1      |  4     | 0.9065420560747663 | 0.5554782 | 0.5236759\n",
    "# resnet50 v0.1      |  5     | 0.9169873556899395 | 0.5970588 | 0.5259105\n",
    "# resnet50 v0.1      |  6     | 0.8823529411764706 | 0.5372360 | 0.5310526\n",
    "#                    |        |                    |           |\n",
    "# resnet50 v0.2      |  1-6   | 0.1028037383177570 | 0.4898771 | 0.4949986\n",
    "#"
   ]
  },
  {
   "cell_type": "markdown",
   "id": "c3951252",
   "metadata": {},
   "source": [
    "<hr><br><br>Fit a custom CNN architecture"
   ]
  },
  {
   "cell_type": "code",
   "execution_count": null,
   "id": "99b5ac46",
   "metadata": {},
   "outputs": [],
   "source": [
    "v = '4'                         # model version \n",
    "e =  0                          # epoch counter\n",
    "\n",
    "\n",
    "model = project.CNN(2048)\n",
    "\n",
    "if e > 0:\n",
    "    w = './models/{}_3cnv_5fc.v{}.x{}.net'.format(attribute, v, e)\n",
    "    model.load_state_dict( torch.load(w) )\n",
    "\n",
    "\n",
    "optimizer = optim.AdamW(model.parameters(), lr=0.002)\n",
    "criterion = nn.CrossEntropyLoss(\n",
    "    weight=train_class_weights, reduction='mean'\n",
    ")\n",
    "\n",
    "\n",
    "for i in range(10): \n",
    "\n",
    "    model_name = '{}_3cnv_5fc.v{}.x{}.net'.format(attribute, v, e+i+1)\n",
    "\n",
    "    p = project.train(model, train_set,\n",
    "        criterion, optimizer, epochs=1, li=500, monobatch=True\n",
    "    )\n",
    "\n",
    "    r = project.test(model, test_set, monobatch=True)\n",
    "\n",
    "    project.save(model, './models/{}'.format(model_name))"
   ]
  },
  {
   "cell_type": "code",
   "execution_count": null,
   "id": "071da129",
   "metadata": {},
   "outputs": [],
   "source": [
    "# SCORE BOARD \n",
    "# \n",
    "# net_design_name    | epochs | accuracy           | precision | recall\n",
    "#                    |        |                    |           |\n",
    "# c.cnn 3cnv_5fc v1  |  3     | 0.8882569421211107 | /         | /\n",
    "# c.cnn 3cnv_5fc v1  |  6     | 0.9206349206349206 | /         | /\n",
    "#                    |        |                    |           |\n",
    "# c.cnn 3cnv_5fc v2  |  4     | 0.8927982407916437 | /         | /\n",
    "# c.cnn 3cnv_5fc v2  |  8     | 0.8394722374931280 | /         | /\n",
    "#\n",
    "# c.cnn 3cnv_5fc v5  |  1     | 0.9147883452446399 | 0.4624792 | 0.4940618\n",
    "# c.cnn 3cnv_5fc v5  |  2     | 0.9120395821880154 | 0.5114743 | 0.5027976\n",
    "# c.cnn 3cnv_5fc v5  |  3     | 0.9026937877954920 | 0.4939829 | 0.4977501\n",
    "# c.cnn 3cnv_5fc v5  |  4     | 0.8856514568444200 | 0.5340916 | 0.5260205\n",
    "# c.cnn 3cnv_5fc v5  |  5     | 0.8785046728971962 | 0.5065345 | 0.5051267\n",
    "# c.cnn 3cnv_5fc v5  |  6     | 0.8559648158328752 | 0.5058690 | 0.5065805\n",
    "# c.cnn 3cnv_5fc v5  |  7     | 0.8724573941726224 | 0.5268084 | 0.5257082\n",
    "# c.cnn 3cnv_5fc v5  |  8     | 0.8471687740516768 | 0.5264907 | 0.5358978\n",
    "# c.cnn 3cnv_5fc v5  |  9*    | 0.8521165475536009 | 0.5225169 | 0.5283496\n",
    "# c.cnn 3cnv_5fc v5  | 10     | 0.8301264431006047 | 0.5213208 | 0.5335071\n",
    "#"
   ]
  },
  {
   "cell_type": "markdown",
   "id": "86c7d488",
   "metadata": {},
   "source": [
    "<br><br>"
   ]
  }
 ],
 "metadata": {
  "kernelspec": {
   "display_name": "Python 3 (ipykernel)",
   "language": "python",
   "name": "python3"
  },
  "language_info": {
   "codemirror_mode": {
    "name": "ipython",
    "version": 3
   },
   "file_extension": ".py",
   "mimetype": "text/x-python",
   "name": "python",
   "nbconvert_exporter": "python",
   "pygments_lexer": "ipython3",
   "version": "3.8.10"
  }
 },
 "nbformat": 4,
 "nbformat_minor": 5
}
