{
 "cells": [
  {
   "cell_type": "markdown",
   "id": "1119c9b7",
   "metadata": {},
   "source": [
    "<br>\n",
    "<u>Notebook Four</u> | \n",
    "<a href=https://leone.gdn/DLL target=_blank>Report</a> | \n",
    "<a href=https://github.com/andrealeone/DLL>Repository</a>\n",
    "<br><br>\n",
    "<b>Task 1: Attribute classifiers</b><br><br>\n",
    "Andrea Leone, Alessandro E. Piotti<br>\n",
    "Deep Learning Lab — University of Trento<br>\n",
    "December 2021\n",
    "<hr><br><br>"
   ]
  },
  {
   "cell_type": "code",
   "execution_count": 1,
   "id": "b6b78df6",
   "metadata": {},
   "outputs": [],
   "source": [
    "import project \n",
    "\n",
    "import os\n",
    "import pickle\n",
    "import numpy             as np\n",
    "import pandas            as pd\n",
    "import matplotlib.pyplot as plt\n",
    "import random\n",
    "import collections\n",
    "\n",
    "import torch\n",
    "import torch.nn          as nn\n",
    "import torch.optim       as optim\n",
    "import torchvision\n",
    "import sklearn\n",
    "\n",
    "from tqdm.notebook   import tqdm\n",
    "\n",
    "project.notebook()"
   ]
  },
  {
   "cell_type": "code",
   "execution_count": 2,
   "id": "f0df2b10",
   "metadata": {},
   "outputs": [],
   "source": [
    "images, annotations = project.load_resources() "
   ]
  },
  {
   "cell_type": "markdown",
   "id": "2a726c78",
   "metadata": {},
   "source": [
    "<hr><br><br>"
   ]
  },
  {
   "cell_type": "markdown",
   "id": "b1dffccf",
   "metadata": {},
   "source": [
    "## `Clothes` classifier"
   ]
  },
  {
   "cell_type": "markdown",
   "id": "ae188c24",
   "metadata": {},
   "source": [
    "<br><br>Load the train set, isolate the attribute as label, crop the image, and compute class weights"
   ]
  },
  {
   "cell_type": "code",
   "execution_count": 3,
   "id": "3c65f588",
   "metadata": {},
   "outputs": [
    {
     "data": {
      "application/vnd.jupyter.widget-view+json": {
       "model_id": "cb611312ae15432099970575fe7afe79",
       "version_major": 2,
       "version_minor": 0
      },
      "text/plain": [
       "  0%|          | 0/12989 [00:00<?, ?it/s]"
      ]
     },
     "metadata": {},
     "output_type": "display_data"
    },
    {
     "name": "stdout",
     "output_type": "stream",
     "text": [
      "data:     Counter({1: 11214, 0: 1775})\n",
      "train:    Counter({1: 9613, 0: 1557})\n",
      "test:     Counter({1: 1601, 0: 218})\n"
     ]
    },
    {
     "data": {
      "image/png": "[encoded data removed]",
      "text/plain": [
       "<Figure size 1152x432 with 1 Axes>"
      ]
     },
     "metadata": {
      "needs_background": "light"
     },
     "output_type": "display_data"
    },
    {
     "data": {
      "text/plain": [
       "tensor([3.5870, 0.5810])"
      ]
     },
     "execution_count": 3,
     "metadata": {},
     "output_type": "execute_result"
    }
   ],
   "source": [
    "attribute  = 'clothes' \n",
    "\n",
    "split_val  = 640                # 751-640=151\n",
    "dictionary = dict()\n",
    "irm        = torchvision.io.ImageReadMode.RGB\n",
    "\n",
    "for image_file in tqdm(images):\n",
    "    \n",
    "    image_id = int(image_file.split('/')[-1].split('_')[0])\n",
    "    \n",
    "    label    = annotations.loc[image_id][attribute] - 1\n",
    "    tensor   = torchvision.io.read_image( image_file, irm )\n",
    "    \n",
    "    ct = list()\n",
    "    for c,channel in enumerate(tensor):\n",
    "        ct.append( tensor[c][60:120].numpy() )\n",
    "    \n",
    "    tensor   = torch.tensor(ct).float()\n",
    "    \n",
    "    if image_id not in dictionary:\n",
    "        dictionary[image_id] = list()\n",
    "        dictionary[image_id].append([tensor, label])\n",
    "    else:\n",
    "        dictionary[image_id].append([tensor, label])\n",
    "    \n",
    "data = list(dictionary.items())\n",
    "random.Random(3).shuffle(data)\n",
    "\n",
    "train_set, test_set = project.split_dataset(data, split_val)\n",
    "\n",
    "project.inspect_dataset(data, train_set, test_set)\n",
    "\n",
    "train_targets       = [y for _,y in train_set] \n",
    "train_class_weights = torch.tensor(\n",
    "    sklearn.utils.class_weight.compute_class_weight(\n",
    "        y=train_targets, classes=np.unique(train_targets),\n",
    "        class_weight='balanced'\n",
    "    ), dtype=torch.float\n",
    ")\n",
    "\n",
    "project.plot_image(train_set[0][0], fs=(16,6)) \n",
    "train_class_weights "
   ]
  },
  {
   "cell_type": "markdown",
   "id": "ffb9c5f4",
   "metadata": {},
   "source": [
    "<hr><br><br>Fit a pretrained ResNet50 architecture"
   ]
  },
  {
   "cell_type": "code",
   "execution_count": null,
   "id": "7ef0ea02",
   "metadata": {},
   "outputs": [],
   "source": [
    "v = '3_2'                       # model version \n",
    "e =  0                          # starting epoch\n",
    "\n",
    "\n",
    "model     = torchvision.models.resnet50(pretrained=True) \n",
    "model.fc  = nn.Linear(\n",
    "    in_features=model.fc.in_features,\n",
    "    out_features=2, bias=True\n",
    ")\n",
    "\n",
    "if e > 0:\n",
    "    w = './models/{}_resnet50.v{}.x{}.net'.format(attribute, v, e)\n",
    "    model.load_state_dict( torch.load(w) )\n",
    "\n",
    "    \n",
    "optimizer = optim.AdamW(model.parameters(), lr=0.001)\n",
    "criterion = nn.CrossEntropyLoss(\n",
    "    weight=train_class_weights, reduction='mean'\n",
    ")\n",
    "\n",
    "\n",
    "for i in range(10): \n",
    "\n",
    "    model_name = '{}_resnet50.v{}.x{}.net'.format(attribute, v, e+i+1)\n",
    "\n",
    "    p = project.train(model, train_set,\n",
    "        criterion, optimizer, epochs=1, li=500, monobatch=True\n",
    "    )\n",
    "\n",
    "    r = project.test(model, test_set, monobatch=True)\n",
    "\n",
    "    project.save(model, './models/{}'.format(model_name))"
   ]
  },
  {
   "cell_type": "code",
   "execution_count": null,
   "id": "07020c80",
   "metadata": {},
   "outputs": [],
   "source": [
    "# SCORE BOARD \n",
    "# \n",
    "# net_design_name | epochs | accuracy           | precision | recall\n",
    "#                 |        |                    |           |\n",
    "# resnet50 v0.1   |  1     | 0.8680593732820231 | 0.6930304 | 0.7110693\n",
    "# resnet50 v0.1   |  2     | 0.8873007146783948 | 0.7310353 | 0.6566179\n",
    "# resnet50 v0.1   |  3     | 0.8878504672897196 | 0.7342730 | 0.6410801\n",
    "# resnet50 v0.1   |  4     | 0.8867509620670698 | 0.7292474 | 0.6880060\n",
    "# resnet50 v0.1   |  5     | 0.8982957669048928 | 0.7775630 | 0.6608828\n",
    "# resnet50 v0.1   |  6     | 0.8999450247388675 | 0.7858950 | 0.6618197\n",
    "#                 |        |                    |           |\n",
    "# resnet50_v2     |  1-6   | 0.8790544255085212 | 0.4400110 | 0.4993753\n",
    "#"
   ]
  },
  {
   "cell_type": "markdown",
   "id": "04496253",
   "metadata": {},
   "source": [
    "<hr><br><br>Fit a custom CNN architecture"
   ]
  },
  {
   "cell_type": "code",
   "execution_count": null,
   "id": "4f5854de",
   "metadata": {
    "scrolled": true
   },
   "outputs": [],
   "source": [
    "v = '4'                         # model version \n",
    "e =  0                          # epoch counter\n",
    "\n",
    "\n",
    "model = project.CNN(2048)\n",
    "\n",
    "if e > 0:\n",
    "    w = './models/{}_3cnv_5fc.v{}.x{}.net'.format(attribute, v, e)\n",
    "    model.load_state_dict( torch.load(w) )\n",
    "\n",
    "\n",
    "optimizer = optim.AdamW(model.parameters(), lr=0.002)\n",
    "criterion = nn.CrossEntropyLoss(\n",
    "    weight=train_class_weights, reduction='mean'\n",
    ")\n",
    "\n",
    "\n",
    "for i in range(10): \n",
    "\n",
    "    model_name = '{}_3cnv_5fc.v{}.x{}.net'.format(attribute, v, e+i+1)\n",
    "\n",
    "    p = project.train(model, train_set,\n",
    "        criterion, optimizer, epochs=1, li=500, monobatch=True\n",
    "    )\n",
    "\n",
    "    r = project.test(model, test_set, monobatch=True)\n",
    "\n",
    "    project.save(model, './models/{}'.format(model_name))"
   ]
  },
  {
   "cell_type": "code",
   "execution_count": null,
   "id": "75814702",
   "metadata": {},
   "outputs": [],
   "source": [
    "# SCORE BOARD \n",
    "# \n",
    "# net_design_name    | epochs | accuracy           | precision | recall\n",
    "#                    |        |                    |           |\n",
    "# c.cnn 3cnv_5fc v1  |  4     | 0.8548653106102254 | /         | /\n",
    "# c.cnn 3cnv_5fc v1  |  8     | 0.8620120945574490 | /         | /\n",
    "#                    |        |                    |           |\n",
    "# c.cnn 3cnv_5fc v4  |  1     | 0.8763056624518967 | 0.4398455 | 0.4978139\n",
    "# c.cnn 3cnv_5fc v4  |  2     | 0.8790544255085212 | 0.4400110 | 0.4993754\n",
    "# c.cnn 3cnv_5fc v4  |  3     | 0.3177570093457944 | 0.5143502 | 0.5252537\n",
    "# c.cnn 3cnv_5fc v4  |  4     | 0.8521165475536009 | 0.5801000 | 0.5435106\n",
    "# c.cnn 3cnv_5fc v4  |  5     | 0.8642111050027488 | 0.4554467 | 0.4929244\n",
    "# c.cnn 3cnv_5fc v4  |  6     | 0.8653106102253986 | 0.5593891 | 0.5153430\n",
    "# c.cnn 3cnv_5fc v4  |  7     | 0.8625618471687740 | 0.4390039 | 0.4900062\n",
    "# c.cnn 3cnv_5fc v4  |  8     | 0.8570643210555250 | 0.5876567 | 0.5423588\n",
    "# c.cnn 3cnv_5fc v4  |  9     | 0.8449697636063771 | 0.6031002 | 0.5810574\n",
    "# c.cnn 3cnv_5fc v4  | 10     | 0.8328752061572292 | 0.5927779 | 0.5860744\n",
    "#"
   ]
  },
  {
   "cell_type": "markdown",
   "id": "139bbfd3",
   "metadata": {},
   "source": [
    "<hr><br><br>"
   ]
  },
  {
   "cell_type": "markdown",
   "id": "a7722c5b",
   "metadata": {},
   "source": [
    "## `Up` classifier"
   ]
  },
  {
   "cell_type": "markdown",
   "id": "1287535b",
   "metadata": {},
   "source": [
    "<br><br>Load the train set, isolate the attribute as label, crop the image, and compute class weights"
   ]
  },
  {
   "cell_type": "code",
   "execution_count": 4,
   "id": "7265517c",
   "metadata": {},
   "outputs": [
    {
     "data": {
      "application/vnd.jupyter.widget-view+json": {
       "model_id": "e3a2530c0a0244bb8b1edcaa22041a8b",
       "version_major": 2,
       "version_minor": 0
      },
      "text/plain": [
       "  0%|          | 0/12989 [00:00<?, ?it/s]"
      ]
     },
     "metadata": {},
     "output_type": "display_data"
    },
    {
     "name": "stdout",
     "output_type": "stream",
     "text": [
      "data:     Counter({1: 12172, 0: 817})\n",
      "train:    Counter({1: 10474, 0: 696})\n",
      "test:     Counter({1: 1698, 0: 121})\n"
     ]
    },
    {
     "data": {
      "image/png": "[encoded data removed]",
      "text/plain": [
       "<Figure size 1152x288 with 1 Axes>"
      ]
     },
     "metadata": {
      "needs_background": "light"
     },
     "output_type": "display_data"
    },
    {
     "data": {
      "text/plain": [
       "tensor([8.0244, 0.5332])"
      ]
     },
     "execution_count": 4,
     "metadata": {},
     "output_type": "execute_result"
    }
   ],
   "source": [
    "attribute  = 'up' \n",
    "\n",
    "split_val  = 640                # 751-640=151\n",
    "dictionary = dict()\n",
    "irm        = torchvision.io.ImageReadMode.RGB\n",
    "\n",
    "for image_file in tqdm(images):\n",
    "    \n",
    "    image_id = int(image_file.split('/')[-1].split('_')[0])\n",
    "    \n",
    "    label    = annotations.loc[image_id][attribute] - 1\n",
    "    tensor   = torchvision.io.read_image( image_file, irm )\n",
    "    \n",
    "    ct = list()\n",
    "    for c,channel in enumerate(tensor):\n",
    "        ct.append( tensor[c][20:80].numpy() )\n",
    "    \n",
    "    tensor   = torch.tensor(ct).float()\n",
    "    \n",
    "    if image_id not in dictionary:\n",
    "        dictionary[image_id] = list()\n",
    "        dictionary[image_id].append([tensor, label])\n",
    "    else:\n",
    "        dictionary[image_id].append([tensor, label])\n",
    "    \n",
    "data = list(dictionary.items())\n",
    "random.Random(3).shuffle(data)\n",
    "\n",
    "train_set, test_set = project.split_dataset(data, split_val)\n",
    "\n",
    "project.inspect_dataset(data, train_set, test_set)\n",
    "\n",
    "train_targets       = [y for _,y in train_set] \n",
    "train_class_weights = torch.tensor(\n",
    "    sklearn.utils.class_weight.compute_class_weight(\n",
    "        y=train_targets, classes=np.unique(train_targets),\n",
    "        class_weight='balanced'\n",
    "    ), dtype=torch.float\n",
    ")\n",
    "\n",
    "project.plot_image(train_set[0][0], fs=(16,4)) \n",
    "train_class_weights "
   ]
  },
  {
   "cell_type": "markdown",
   "id": "fe4fa11a",
   "metadata": {},
   "source": [
    "<hr><br><br>Fit a pretrained ResNet50 architecture"
   ]
  },
  {
   "cell_type": "code",
   "execution_count": null,
   "id": "f722993a",
   "metadata": {},
   "outputs": [],
   "source": [
    "v = '3_2'                       # model version \n",
    "e =  0                          # starting epoch\n",
    "\n",
    "\n",
    "model     = torchvision.models.resnet50(pretrained=True) \n",
    "model.fc  = nn.Linear(\n",
    "    in_features=model.fc.in_features,\n",
    "    out_features=2, bias=True\n",
    ")\n",
    "\n",
    "if e > 0:\n",
    "    w = './models/{}_resnet50.v{}.x{}.net'.format(attribute, v, e)\n",
    "    model.load_state_dict( torch.load(w) )\n",
    "\n",
    "\n",
    "optimizer = optim.AdamW(model.parameters(), lr=0.001)\n",
    "criterion = nn.CrossEntropyLoss(\n",
    "    weight=train_class_weights, reduction='mean'\n",
    ")\n",
    "\n",
    "\n",
    "for i in range(10): \n",
    "\n",
    "    model_name = '{}_resnet50.v{}.x{}.net'.format(attribute, v, e+i+1)\n",
    "\n",
    "    p = project.train(model, train_set,\n",
    "        criterion, optimizer, epochs=1, li=500, monobatch=True\n",
    "    )\n",
    "\n",
    "    r = project.test(model, test_set, monobatch=True)\n",
    "\n",
    "    project.save(model, './models/{}'.format(model_name))"
   ]
  },
  {
   "cell_type": "code",
   "execution_count": null,
   "id": "30ad7440",
   "metadata": {},
   "outputs": [],
   "source": [
    "# SCORE BOARD \n",
    "# \n",
    "# net_design_name    | epochs | accuracy           | precision | recall\n",
    "#                    |        |                    |           |\n",
    "# resnet50 v0.1      |  1     | 0.9334799340296867 | 0.4667399 | 0.5\n",
    "# resnet50 v0.1      |  2     | 0.9230346344145135 | 0.6600038 | 0.6018626\n",
    "# resnet50 v0.1      |  3     | 0.8840021990104453 | 0.6066807 | 0.6577110\n",
    "# resnet50 v0.1      |  4     | 0.8697086311159978 | 0.5980794 | 0.6692438\n",
    "# resnet50 v0.1      |  5     | 0.8433205057724025 | 0.6064122 | 0.7472159\n",
    "# resnet50 v0.1      |  6     | 0.8598130841121495 | 0.6025521 | 0.7023211\n",
    "#                    |        |                    |           |\n",
    "# resnet50 v0.2      |  1-2   | 0.4029686641011545 | 0.4881923 | 0.4955504\n",
    "#"
   ]
  },
  {
   "cell_type": "markdown",
   "id": "649e2774",
   "metadata": {},
   "source": [
    "<hr><br><br>Fit a custom CNN architecture"
   ]
  },
  {
   "cell_type": "code",
   "execution_count": null,
   "id": "044fa0d0",
   "metadata": {},
   "outputs": [],
   "source": [
    "v = '4'                         # model version \n",
    "e =  0                          # epoch counter\n",
    "\n",
    "\n",
    "model = project.CNN(2048)\n",
    "\n",
    "optimizer = optim.AdamW(model.parameters(), lr=0.002)\n",
    "criterion = nn.CrossEntropyLoss(\n",
    "    weight=train_class_weights, reduction='mean'\n",
    ")\n",
    "\n",
    "\n",
    "for i in range(10): \n",
    "\n",
    "    model_name = '{}_3cnv_5fc.v{}.x{}.net'.format(attribute, v, e+i+1)\n",
    "\n",
    "    p = project.train(model, train_set,\n",
    "        criterion, optimizer, epochs=1, li=500, monobatch=True\n",
    "    )\n",
    "\n",
    "    r = project.test(model, test_set, monobatch=True)\n",
    "\n",
    "    project.save(model, './models/{}'.format(model_name))"
   ]
  },
  {
   "cell_type": "code",
   "execution_count": null,
   "id": "96dbb145",
   "metadata": {},
   "outputs": [],
   "source": [
    "# SCORE BOARD \n",
    "# \n",
    "# net_design_name    | epochs | accuracy           | precision | recall\n",
    "#                    |        |                    |           |\n",
    "# c.cnn 3cnv_5fc v1  |  4     | 0.9268829026937878 | /         | /\n",
    "# c.cnn 3cnv_5fc v1  | 12     | 0.9081913139087411 | /         | /\n",
    "#\n",
    "# c.cnn 3cnv_5fc v4  |  1     | 0.9334799340296867 | 0.46674   | 0.5\n",
    "# c.cnn 3cnv_5fc v4  |  2     | 0.9334799340296867 | 0.46674   | 0.5\n",
    "# c.cnn 3cnv_5fc v4  |  3     | 0.9257833974711380 | 0.4664820 | 0.4958775\n",
    "# c.cnn 3cnv_5fc v4  |  4     | 0.8905992303463441 | 0.4652499 | 0.4770318\n",
    "# c.cnn 3cnv_5fc v4  |  5     | 0.9290819131390874 | 0.4665930 | 0.4976443\n",
    "# c.cnn 3cnv_5fc v4  |  6     | 0.9334799340296867 | 0.46674   | 0.5\n",
    "# c.cnn 3cnv_5fc v4  |  7     | 0.9334799340296867 | 0.46674   | 0.5\n",
    "# c.cnn 3cnv_5fc v4  |  8     | 0.9329301814183617 | 0.4667217 | 0.4997055\n",
    "# c.cnn 3cnv_5fc v4  |  9     | 0.9257833974711380 | 0.4664820 | 0.4958775\n",
    "# c.cnn 3cnv_5fc v4  | 10     | 0.9257833974711380 | 0.4979721 | 0.4997153\n",
    "#"
   ]
  },
  {
   "cell_type": "markdown",
   "id": "123459b9",
   "metadata": {},
   "source": [
    "<hr><br><br>"
   ]
  },
  {
   "cell_type": "markdown",
   "id": "c6aba9be",
   "metadata": {},
   "source": [
    "## `Down` classifier"
   ]
  },
  {
   "cell_type": "markdown",
   "id": "9f7b6b96",
   "metadata": {},
   "source": [
    "<br><br>Load the train set, isolate the attribute as label, crop the image, and compute class weights"
   ]
  },
  {
   "cell_type": "code",
   "execution_count": 5,
   "id": "f29828db",
   "metadata": {},
   "outputs": [
    {
     "data": {
      "application/vnd.jupyter.widget-view+json": {
       "model_id": "d530087909df428abfac2d75627ce501",
       "version_major": 2,
       "version_minor": 0
      },
      "text/plain": [
       "  0%|          | 0/12989 [00:00<?, ?it/s]"
      ]
     },
     "metadata": {},
     "output_type": "display_data"
    },
    {
     "name": "stdout",
     "output_type": "stream",
     "text": [
      "data:     Counter({1: 8157, 0: 4832})\n",
      "train:    Counter({1: 7037, 0: 4133})\n",
      "test:     Counter({1: 1120, 0: 699})\n"
     ]
    },
    {
     "data": {
      "image/png": "[encoded data removed]",
      "text/plain": [
       "<Figure size 1152x432 with 1 Axes>"
      ]
     },
     "metadata": {
      "needs_background": "light"
     },
     "output_type": "display_data"
    },
    {
     "data": {
      "text/plain": [
       "tensor([1.3513, 0.7937])"
      ]
     },
     "execution_count": 5,
     "metadata": {},
     "output_type": "execute_result"
    }
   ],
   "source": [
    "attribute  = 'down' \n",
    "\n",
    "split_val  = 640                # 751-640=151\n",
    "dictionary = dict()\n",
    "irm        = torchvision.io.ImageReadMode.RGB\n",
    "\n",
    "for image_file in tqdm(images):\n",
    "    \n",
    "    image_id = int(image_file.split('/')[-1].split('_')[0])\n",
    "    \n",
    "    label    = annotations.loc[image_id][attribute] - 1\n",
    "    tensor   = torchvision.io.read_image( image_file, irm )\n",
    "    \n",
    "    ct = list()\n",
    "    for c,channel in enumerate(tensor):\n",
    "        ct.append( tensor[c][60:120].numpy() )\n",
    "    \n",
    "    tensor   = torch.tensor(ct).float()\n",
    "    \n",
    "    if image_id not in dictionary:\n",
    "        dictionary[image_id] = list()\n",
    "        dictionary[image_id].append([tensor, label])\n",
    "    else:\n",
    "        dictionary[image_id].append([tensor, label])\n",
    "    \n",
    "data = list(dictionary.items())\n",
    "random.Random(3).shuffle(data)\n",
    "\n",
    "train_set, test_set = project.split_dataset(data, split_val)\n",
    "\n",
    "project.inspect_dataset(data, train_set, test_set)\n",
    "\n",
    "train_targets       = [y for _,y in train_set] \n",
    "train_class_weights = torch.tensor(\n",
    "    sklearn.utils.class_weight.compute_class_weight(\n",
    "        y=train_targets, classes=np.unique(train_targets), class_weight='balanced'\n",
    "    ), dtype=torch.float\n",
    ")\n",
    "\n",
    "project.plot_image(train_set[0][0], fs=(16,6)) \n",
    "train_class_weights "
   ]
  },
  {
   "cell_type": "markdown",
   "id": "9ac00d97",
   "metadata": {},
   "source": [
    "<hr><br><br>Fit a pretrained ResNet50 architecture"
   ]
  },
  {
   "cell_type": "code",
   "execution_count": null,
   "id": "fc38dea0",
   "metadata": {},
   "outputs": [],
   "source": [
    "v = '3_2'                       # model version \n",
    "e =  0                          # starting epoch\n",
    "\n",
    "\n",
    "model     = torchvision.models.resnet50(pretrained=True) \n",
    "model.fc  = nn.Linear(\n",
    "    in_features=model.fc.in_features,\n",
    "    out_features=2, bias=True\n",
    ")\n",
    "\n",
    "if e > 0:\n",
    "    w = './models/{}_resnet50.v{}.x{}.net'.format(attribute, v, e)\n",
    "    model.load_state_dict( torch.load(w) )\n",
    "\n",
    "\n",
    "optimizer = optim.AdamW(model.parameters(), lr=0.001)\n",
    "criterion = nn.CrossEntropyLoss(\n",
    "    weight=train_class_weights, reduction='mean'\n",
    ")\n",
    "\n",
    "\n",
    "for i in range(10): \n",
    "\n",
    "    model_name = '{}_resnet50.v{}.x{}.net'.format(attribute, v, e+i+1)\n",
    "\n",
    "    p = project.train(model, train_set,\n",
    "        criterion, optimizer, epochs=1, li=500, monobatch=True\n",
    "    )\n",
    "\n",
    "    r = project.test(model, test_set, monobatch=True)\n",
    "\n",
    "    project.save(model, './models/{}'.format(model_name))"
   ]
  },
  {
   "cell_type": "code",
   "execution_count": null,
   "id": "16b499ba",
   "metadata": {},
   "outputs": [],
   "source": [
    "# SCORE BOARD \n",
    "# \n",
    "# net_design_name    | epochs | accuracy           | precision | recall\n",
    "#                    |        |                    |           |\n",
    "# resnet50 v0.1      |  1     | 0.7196261682242990 | 0.7452358 | 0.6542835\n",
    "# resnet50 v0.1      |  2     | 0.7163276525563497 | 0.7068820 | 0.6723086\n",
    "# resnet50 v0.1      |  3     | 0.7322704782847719 | 0.7220493 | 0.6954724\n",
    "# resnet50 v0.1      |  4     | 0.7372182517866960 | 0.7221490 | 0.7191185\n",
    "# resnet50 v0.1      |  5     | 0.7883452446399121 | 0.7769193 | 0.7851043\n",
    "# resnet50 v0.1      |  6     | 0.7921935129191864 | 0.7827902 | 0.7723654\n",
    "#                    |        |                    |           |\n",
    "# resnet50 v0.2      |  1-2   | 0.5645959318306762 | 0.5340307 | 0.5329616\n",
    "#"
   ]
  },
  {
   "cell_type": "markdown",
   "id": "cc349fad",
   "metadata": {},
   "source": [
    "<hr><br><br>Fit a custom CNN architecture"
   ]
  },
  {
   "cell_type": "code",
   "execution_count": null,
   "id": "99b5ac46",
   "metadata": {
    "scrolled": true
   },
   "outputs": [],
   "source": [
    "v = '4'                         # model version \n",
    "e =  0                          # epoch counter\n",
    "\n",
    "model = project.CNN(2048)\n",
    "\n",
    "if e > 0:\n",
    "    w = './models/{}_3cnv_5fc.v{}.x{}.net'.format(attribute, v, e)\n",
    "    model.load_state_dict( torch.load(w) )\n",
    "\n",
    "\n",
    "optimizer = optim.AdamW(model.parameters(), lr=0.002)\n",
    "criterion = nn.CrossEntropyLoss(\n",
    "    weight=train_class_weights, reduction='mean'\n",
    ")\n",
    "\n",
    "\n",
    "for i in range(10): \n",
    "\n",
    "    model_name = '{}_3cnv_5fc.v{}.x{}.net'.format(attribute, v, e+i+1)\n",
    "\n",
    "    p = project.train(model, train_set,\n",
    "        criterion, optimizer, epochs=1, li=500, monobatch=True\n",
    "    )\n",
    "\n",
    "    r = project.test(model, test_set, monobatch=True)\n",
    "\n",
    "    project.save(model, './models/{}'.format(model_name))"
   ]
  },
  {
   "cell_type": "code",
   "execution_count": null,
   "id": "071da129",
   "metadata": {},
   "outputs": [],
   "source": [
    "# SCORE BOARD \n",
    "# \n",
    "# net_design_name    | epochs | accuracy           | precision | recall\n",
    "#                    |        |                    |           |\n",
    "# c.cnn 3cnv_5fc v1  |  4     | 0.6981858163826278 | /         | /\n",
    "# c.cnn 3cnv_5fc v1  |  8     | 0.7306212204507971 | /         | /\n",
    "# c.cnn 3cnv_5fc v1  | 12     | 0.7157778999450247 | /         | /\n",
    "#\n",
    "# c.cnn 3cnv_5fc v2  |  1     | 0.6162726772952172 | 0.8080308 | 0.5007153\n",
    "# c.cnn 3cnv_5fc v2  |  2     | 0.6168224299065420 | 0.6416621 | 0.5019684\n",
    "# c.cnn 3cnv_5fc v2  |  3     | 0.6234194612424409 | 0.6952679 | 0.5116276\n",
    "# c.cnn 3cnv_5fc v2  |  4     | 0.6140736668499175 | 0.5476055 | 0.5067271\n",
    "# c.cnn 3cnv_5fc v2  |  5-10  | 0.6157229246838922 | 0.3078615 | 0.5\n",
    "#\n",
    "# c.cnn 3cnv_5fc v4  |  1     | 0.5596481583287520 | 0.4479413 | 0.4740925\n",
    "# c.cnn 3cnv_5fc v4  |  2     | 0.7586586036283672 | 0.7613998 | 0.7760544\n",
    "# c.cnn 3cnv_5fc v4  |  3     | 0.5882352941176471 | 0.5105129 | 0.5053731\n",
    "# c.cnn 3cnv_5fc v4  |  4     | 0.5448048378229796 | 0.4806576 | 0.4848936\n",
    "# c.cnn 3cnv_5fc v4  |  5     | 0.4777350192413414 | 0.3666504 | 0.4059613\n",
    "# c.cnn 3cnv_5fc v4  |  6     | 0.5404068169323805 | 0.4143452 | 0.4555098\n",
    "# c.cnn 3cnv_5fc v4  |  7     | 0.6118746564046179 | 0.5242270 | 0.5027903\n",
    "# c.cnn 3cnv_5fc v4  |  8     | 0.6992853216052777 | 0.6949761 | 0.6428744\n",
    "# c.cnn 3cnv_5fc v4  |  9     | 0.6162726772952172 | 0.5681320 | 0.5042107\n",
    "# c.cnn 3cnv_5fc v4  | 10     | 0.6173721825178670 | 0.5983626 | 0.5042970\n",
    "#\n",
    "# c.cnn 3cnv_5fc v5  |  1     | 0.7251236943375481 | 0.7308848 | 0.7434447\n",
    "# c.cnn 3cnv_5fc v5  |  2     | 0.7174271577789995 | 0.7228734 | 0.7350437\n",
    "# c.cnn 3cnv_5fc v5  |  3     | 0.6877405167674546 | 0.7003903 | 0.7098610\n",
    "# c.cnn 3cnv_5fc v5  |  4     | 0.6739967014843321 | 0.6894448 | 0.6976248\n",
    "# c.cnn 3cnv_5fc v5  |  5     | 0.6487080813633864 | 0.6628195 | 0.6700982\n",
    "# c.cnn 3cnv_5fc v5  |  6     | 0.6586036283672347 | 0.6724898 | 0.6802850\n",
    "# c.cnn 3cnv_5fc v5  |  7     | 0.6558548653106102 | 0.6573433 | 0.6662222\n",
    "# c.cnn 3cnv_5fc v5  |  8     | 0.6261682242990654 | 0.6379554 | 0.6445349\n",
    "# c.cnn 3cnv_5fc v5  |  9     | 0.6250687190764156 | 0.6332095 | 0.6401466\n",
    "# c.cnn 3cnv_5fc v5  | 10     | 0.6382627817482133 | 0.6366981 | 0.6444078\n",
    "#"
   ]
  },
  {
   "cell_type": "markdown",
   "id": "8e4ffab2",
   "metadata": {},
   "source": [
    "<br><br>"
   ]
  }
 ],
 "metadata": {
  "kernelspec": {
   "display_name": "Python 3 (ipykernel)",
   "language": "python",
   "name": "python3"
  },
  "language_info": {
   "codemirror_mode": {
    "name": "ipython",
    "version": 3
   },
   "file_extension": ".py",
   "mimetype": "text/x-python",
   "name": "python",
   "nbconvert_exporter": "python",
   "pygments_lexer": "ipython3",
   "version": "3.8.10"
  }
 },
 "nbformat": 4,
 "nbformat_minor": 5
}
