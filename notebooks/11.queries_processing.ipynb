{
 "cells": [
  {
   "cell_type": "markdown",
   "id": "2e9821e4",
   "metadata": {},
   "source": [
    "<br>\n",
    "<u>Notebook Eleven</u> | \n",
    "<a href=https://leone.gdn/DLL target=_blank>Report</a> | \n",
    "<a href=https://github.com/andrealeone/DLL>Repository</a>\n",
    "<br><br>\n",
    "<b>Task 2: Query Preprocessing</b><br><br>\n",
    "Andrea Leone, Alessandro E. Piotti<br>\n",
    "Deep Learning Lab — University of Trento<br>\n",
    "December 2021\n",
    "<hr><br><br>"
   ]
  },
  {
   "cell_type": "code",
   "execution_count": null,
   "id": "140ae1ca",
   "metadata": {},
   "outputs": [],
   "source": [
    "import project \n",
    "\n",
    "import os\n",
    "import numpy           as np\n",
    "import pickle\n",
    "\n",
    "import torch\n",
    "import torch.nn        as nn\n",
    "import torchvision\n",
    "import networks\n",
    "\n",
    "from tqdm.notebook import tqdm\n",
    "\n",
    "project.notebook()"
   ]
  },
  {
   "cell_type": "code",
   "execution_count": null,
   "id": "3b6a2727",
   "metadata": {},
   "outputs": [],
   "source": [
    "_, annotations = project.load_resources() "
   ]
  },
  {
   "cell_type": "markdown",
   "id": "9efb0f42",
   "metadata": {},
   "source": [
    "<hr><br><br>"
   ]
  },
  {
   "cell_type": "markdown",
   "id": "6a121503",
   "metadata": {},
   "source": [
    "## Queries processing"
   ]
  },
  {
   "cell_type": "markdown",
   "id": "3ee87082",
   "metadata": {},
   "source": [
    "<br><br>Load the test and query images"
   ]
  },
  {
   "cell_type": "code",
   "execution_count": null,
   "id": "458a47ca",
   "metadata": {},
   "outputs": [],
   "source": [
    "sets       = [ 'test', 'queries' ] \n",
    "irm        = torchvision.io.ImageReadMode.RGB \n",
    "images     = dict()\n",
    "\n",
    "for key in sets: \n",
    "    \n",
    "    path         = '../dataset/{}/'.format(key)\n",
    "    paths        = sorted([(path + file) for file in os.listdir(path)])\n",
    "    images[key]  = dict()\n",
    "    \n",
    "    for image_file in tqdm(paths):\n",
    "        \n",
    "        image_id = image_file.split('/')[-1].split('.')[0]\n",
    "        tensor   = torchvision.io.read_image( image_file,irm )\n",
    "        tensor   = tensor.unsqueeze(0).float()\n",
    "        \n",
    "        images[key][image_id] = tensor"
   ]
  },
  {
   "cell_type": "markdown",
   "id": "abdb22e1",
   "metadata": {},
   "source": [
    "<br><br>Define the query-encoding network"
   ]
  },
  {
   "cell_type": "code",
   "execution_count": null,
   "id": "adc1d7a4",
   "metadata": {},
   "outputs": [],
   "source": [
    "vs =    vector_size = len(annotations.columns) \n",
    "es = embedding_size = 300 "
   ]
  },
  {
   "cell_type": "code",
   "execution_count": null,
   "id": "658b3f46",
   "metadata": {},
   "outputs": [],
   "source": [
    "encoder    = torchvision.models.resnet50(pretrained=True) \n",
    "encoder.fc = nn.Linear(\n",
    "    in_features=encoder.fc.in_features,\n",
    "    out_features=embedding_size, bias=True\n",
    ")"
   ]
  },
  {
   "cell_type": "markdown",
   "id": "f2b85ab1",
   "metadata": {},
   "source": [
    "<br><br>Test the encoder"
   ]
  },
  {
   "cell_type": "code",
   "execution_count": null,
   "id": "48a2bb33",
   "metadata": {},
   "outputs": [],
   "source": [
    "q = images['queries']['000000'] \n",
    "encoder(q).shape"
   ]
  },
  {
   "cell_type": "markdown",
   "id": "0091da93",
   "metadata": {},
   "source": [
    "<br><br>Load the test sample-embedding network"
   ]
  },
  {
   "cell_type": "code",
   "execution_count": null,
   "id": "0c4fed0a",
   "metadata": {},
   "outputs": [],
   "source": [
    "w = './models/siamese_cnn.v4.x30.net' \n",
    "\n",
    "model = networks.SiameseCNN() \n",
    "model.load_state_dict( torch.load(w) )\n",
    "model"
   ]
  },
  {
   "cell_type": "markdown",
   "id": "8d0c3dcf",
   "metadata": {},
   "source": [
    "<br><br>Load and init the attributes super-model"
   ]
  },
  {
   "cell_type": "code",
   "execution_count": null,
   "id": "c57ca5c6",
   "metadata": {},
   "outputs": [],
   "source": [
    "extractor_src = pickle.load( open('./data/models.v2.pkl', 'rb') ) \n",
    "extractor = lambda _input : project.super_model(_input, src=extractor_src) "
   ]
  },
  {
   "cell_type": "markdown",
   "id": "5c8e62cc",
   "metadata": {},
   "source": [
    "<br><br>Test the models pipeline"
   ]
  },
  {
   "cell_type": "code",
   "execution_count": null,
   "id": "68fa5803",
   "metadata": {},
   "outputs": [],
   "source": [
    "img_id = '000016' "
   ]
  },
  {
   "cell_type": "code",
   "execution_count": null,
   "id": "3b92df54",
   "metadata": {},
   "outputs": [],
   "source": [
    "m = extractor( images['test'][img_id] ) \n",
    "m = m.int().detach().numpy()\n",
    "print( m )"
   ]
  },
  {
   "cell_type": "markdown",
   "id": "604d751d",
   "metadata": {},
   "source": [
    "<br><br>Load the pre-computed attributes"
   ]
  },
  {
   "cell_type": "code",
   "execution_count": null,
   "id": "a74030d4",
   "metadata": {},
   "outputs": [],
   "source": [
    "attributes = pickle.load( open('./data/attributes.v2.pkl', 'rb') ) "
   ]
  },
  {
   "cell_type": "code",
   "execution_count": null,
   "id": "2ba541d1",
   "metadata": {},
   "outputs": [],
   "source": [
    "n = attributes['test'][img_id] - 1 \n",
    "print( n )"
   ]
  },
  {
   "cell_type": "code",
   "execution_count": null,
   "id": "6c8a3624",
   "metadata": {},
   "outputs": [],
   "source": [
    "project.compare_image_attributes( \n",
    "    image=images['test'][img_id],\n",
    "    labels=annotations.columns, r1=m, r2=n\n",
    ")"
   ]
  },
  {
   "cell_type": "markdown",
   "id": "2fb5b8d9",
   "metadata": {},
   "source": [
    "<hr>"
   ]
  },
  {
   "cell_type": "markdown",
   "id": "5ef9886f",
   "metadata": {},
   "source": [
    "<br><br>Encode the queries"
   ]
  },
  {
   "cell_type": "code",
   "execution_count": null,
   "id": "17ccd35d",
   "metadata": {},
   "outputs": [],
   "source": [
    "queries = dict() \n",
    "\n",
    "for key in tqdm(list( images['queries'].keys() )): \n",
    "    \n",
    "    queries[key] = encoder( images['queries'][key] )"
   ]
  },
  {
   "cell_type": "markdown",
   "id": "fba036fb",
   "metadata": {},
   "source": [
    "<br><br>Export the results"
   ]
  },
  {
   "cell_type": "code",
   "execution_count": null,
   "id": "9c481a0f",
   "metadata": {},
   "outputs": [],
   "source": [
    "v = '2' \n",
    "\n",
    "with open('./data/queries.v{}.pkl'.format(v), 'wb') as file: \n",
    "    pickle.dump(queries, file)"
   ]
  },
  {
   "cell_type": "markdown",
   "id": "f63ad7f2",
   "metadata": {},
   "source": [
    "<br><br>"
   ]
  }
 ],
 "metadata": {
  "kernelspec": {
   "display_name": "Python 3 (ipykernel)",
   "language": "python",
   "name": "python3"
  },
  "language_info": {
   "codemirror_mode": {
    "name": "ipython",
    "version": 3
   },
   "file_extension": ".py",
   "mimetype": "text/x-python",
   "name": "python",
   "nbconvert_exporter": "python",
   "pygments_lexer": "ipython3",
   "version": "3.8.10"
  }
 },
 "nbformat": 4,
 "nbformat_minor": 5
}
