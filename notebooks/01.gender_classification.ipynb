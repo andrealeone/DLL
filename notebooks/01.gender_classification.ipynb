{
 "cells": [
  {
   "cell_type": "markdown",
   "id": "99988ab5",
   "metadata": {},
   "source": [
    "<br>\n",
    "<u>Notebook One</u> | \n",
    "<a href=https://leone.gdn/DLL target=_blank>Report</a> | \n",
    "<a href=https://github.com/andrealeone/DLL>Repository</a>\n",
    "<br><br>\n",
    "<b>Task 1: Attribute classifiers</b><br><br>\n",
    "Andrea Leone, Alessandro E. Piotti<br>\n",
    "Deep Learning Lab — University of Trento<br>\n",
    "December 2021\n",
    "<hr><br><br>"
   ]
  },
  {
   "cell_type": "code",
   "execution_count": 1,
   "id": "b6b78df6",
   "metadata": {},
   "outputs": [],
   "source": [
    "import project \n",
    "\n",
    "import os\n",
    "import pickle\n",
    "import numpy             as np\n",
    "import pandas            as pd\n",
    "import matplotlib.pyplot as plt\n",
    "import random\n",
    "import collections\n",
    "\n",
    "import torch\n",
    "import torch.nn          as nn\n",
    "import torch.optim       as optim\n",
    "import torchvision\n",
    "import sklearn\n",
    "\n",
    "from tqdm.notebook   import tqdm\n",
    "\n",
    "project.notebook()"
   ]
  },
  {
   "cell_type": "code",
   "execution_count": 2,
   "id": "6334f1a4",
   "metadata": {},
   "outputs": [],
   "source": [
    "images, annotations = project.load_resources() "
   ]
  },
  {
   "cell_type": "markdown",
   "id": "9595431f",
   "metadata": {},
   "source": [
    "<hr><br><br>"
   ]
  },
  {
   "cell_type": "markdown",
   "id": "da369a2d",
   "metadata": {},
   "source": [
    "## `Gender` classifier"
   ]
  },
  {
   "cell_type": "markdown",
   "id": "4583e16b",
   "metadata": {},
   "source": [
    "<br><br>Load the train set, isolate the attribute as label, and compute class weights"
   ]
  },
  {
   "cell_type": "code",
   "execution_count": 3,
   "id": "3c65f588",
   "metadata": {},
   "outputs": [
    {
     "data": {
      "application/vnd.jupyter.widget-view+json": {
       "model_id": "916e989818934d0b9b21744f6a34cfd1",
       "version_major": 2,
       "version_minor": 0
      },
      "text/plain": [
       "  0%|          | 0/12989 [00:00<?, ?it/s]"
      ]
     },
     "metadata": {},
     "output_type": "display_data"
    },
    {
     "name": "stdout",
     "output_type": "stream",
     "text": [
      "data:     Counter({0: 7199, 1: 5790})\n",
      "train:    Counter({0: 6172, 1: 4998})\n",
      "test:     Counter({0: 1027, 1: 792})\n"
     ]
    },
    {
     "data": {
      "image/png": "[encoded data removed]",
      "text/plain": [
       "<Figure size 1152x576 with 1 Axes>"
      ]
     },
     "metadata": {
      "needs_background": "light"
     },
     "output_type": "display_data"
    },
    {
     "data": {
      "text/plain": [
       "tensor([0.9049, 1.1174])"
      ]
     },
     "execution_count": 3,
     "metadata": {},
     "output_type": "execute_result"
    }
   ],
   "source": [
    "attribute  = 'gender' \n",
    "\n",
    "split_val  = 640                # 751-640=151\n",
    "dictionary = dict()\n",
    "irm        = torchvision.io.ImageReadMode.RGB\n",
    "\n",
    "for image_file in tqdm(images):\n",
    "    \n",
    "    image_id = int(image_file.split('/')[-1].split('_')[0])\n",
    "    \n",
    "    label    = annotations.loc[image_id][attribute] - 1\n",
    "    tensor   = torchvision.io.read_image(image_file, irm).float()\n",
    "    \n",
    "    if image_id not in dictionary:\n",
    "        dictionary[image_id] = list()\n",
    "        dictionary[image_id].append([tensor, label])\n",
    "    else:\n",
    "        dictionary[image_id].append([tensor, label])\n",
    "    \n",
    "data = list(dictionary.items())\n",
    "random.Random(3).shuffle(data)\n",
    "\n",
    "train_set, test_set = project.split_dataset(data, split_val)\n",
    "\n",
    "project.inspect_dataset(data, train_set, test_set)\n",
    "\n",
    "train_targets       = [y for _,y in train_set] \n",
    "train_class_weights = torch.tensor(\n",
    "    sklearn.utils.class_weight.compute_class_weight(\n",
    "        y=train_targets, classes=np.unique(train_targets),\n",
    "        class_weight='balanced'\n",
    "    ), dtype=torch.float\n",
    ")\n",
    "\n",
    "project.plot_image(train_set[0][0]) \n",
    "train_class_weights "
   ]
  },
  {
   "cell_type": "markdown",
   "id": "2aafc221",
   "metadata": {},
   "source": [
    "<hr><br><br>Fit a pretrained ResNet50 architecture"
   ]
  },
  {
   "cell_type": "code",
   "execution_count": null,
   "id": "7ef0ea02",
   "metadata": {},
   "outputs": [],
   "source": [
    "v = '3_2'                       # model version \n",
    "e =  0                          # starting epoch\n",
    "\n",
    "\n",
    "model     = torchvision.models.resnet50(pretrained=True) \n",
    "model.fc  = nn.Linear(\n",
    "    in_features=model.fc.in_features,\n",
    "    out_features=2, bias=True\n",
    ")\n",
    "\n",
    "if e > 0:\n",
    "    w = './models/{}_resnet50.v{}.x{}.net'.format(attribute, v, e)\n",
    "    model.load_state_dict( torch.load(w) )\n",
    "\n",
    "\n",
    "optimizer = optim.AdamW(model.parameters(), lr=0.001)\n",
    "criterion = nn.CrossEntropyLoss(\n",
    "    weight=train_class_weights, reduction='mean'\n",
    ")\n",
    "\n",
    "\n",
    "for i in range(10): \n",
    "\n",
    "    model_name = '{}_resnet50.v{}.x{}.net'.format(attribute, v, e+i+1)\n",
    "\n",
    "    p = project.train(model, train_set,\n",
    "        criterion, optimizer, epochs=1, li=500, monobatch=True\n",
    "    )\n",
    "\n",
    "    r = project.test(model, test_set, monobatch=True)\n",
    "\n",
    "    project.save(model, './models/{}'.format(model_name))"
   ]
  },
  {
   "cell_type": "code",
   "execution_count": null,
   "id": "07020c80",
   "metadata": {},
   "outputs": [],
   "source": [
    "# SCORE BOARD \n",
    "# \n",
    "# net_design_name    | epochs | accuracy           | precision | recall\n",
    "#                    |        |                    |           |\n",
    "# resnet34           |  1     | 0.6102253985706432 | 0.600355  | 0.586202\n",
    "# resnet34           |  2     | 0.6129741616272677 | 0.618999  | 0.573901\n",
    "# resnet34           |  3     | 0.6322155030236394 | 0.627621  | 0.606832\n",
    "# resnet34           |  4     | 0.6613523914238593 | 0.675932  | 0.629601\n",
    "# resnet34           |  5     | 0.6849917537108301 | 0.692799  | 0.659926\n",
    "# resnet34           |  6     | 0.6844420010995053 | 0.693667  | 0.658572\n",
    "# resnet34           |  7     | 0.6690489279824079 | 0.662693  | 0.657653\n",
    "#                    |        |                    |           |\n",
    "# resnet50 v3.2      |  1     | 0.5772402418911490 | 0.565346  | 0.529688\n",
    "# resnet50 v3.2      |  2     | 0.6256184716877405 | 0.623345  | 0.625258\n",
    "# resnet50 v3.2      |  3     | 0.6388125343595382 | 0.656842  | 0.653700\n",
    "# resnet50 v3.2      |  4     | 0.6278174821330401 | 0.638699  | 0.638618\n",
    "# resnet50 v3.2      |  5     | 0.6311159978009896 | 0.655453  | 0.649051\n",
    "# resnet50 v3.2      |  6     | 0.6728971962616822 | 0.688611  | 0.686630\n",
    "# resnet50 v3.2      |  7     | 0.6937877954920286 | 0.692553  | 0.695740\n",
    "# resnet50 v3.2      |  8     | 0.6558548653106102 | 0.676523  | 0.671971\n",
    "# resnet50 v3.2      |  9     | 0.6684991753710830 | 0.670444  | 0.673201\n",
    "# resnet50 v3.2      | 10     | 0.6701484332050577 | 0.674835  | 0.677117\n",
    "# resnet50 v3.2      | 11     | 0.6261682242990654 | 0.650685  | 0.644236\n",
    "# resnet50 v3.2      | 12     | 0.6459593183067620 | 0.650924  | 0.652806\n",
    "#                    |        |                    |           |\n",
    "# resnet152          |  1     | 0.5645959318306762 | 0.282297  | 0.500000\n",
    "# resnet152          |  2     | 0.6388125343595382 | 0.632163  | 0.618741\n",
    "# resnet152          |  3     | 0.6811434854315558 | 0.677046  | 0.665619\n",
    "# resnet152          |  4     | 0.6525563496426608 | 0.647398  | 0.648247\n",
    "# resnet152          |  5     | 0.6564046179219352 | 0.649693  | 0.647611\n",
    "# resnet152          |  6     | 0.6564046179219352 | 0.649693  | 0.647611\n",
    "# resnet152          |  7     | 0.6564046179219352 | 0.649693  | 0.647611\n",
    "#"
   ]
  },
  {
   "cell_type": "markdown",
   "id": "763bb078",
   "metadata": {},
   "source": [
    "<hr><br><br>Fit a custom CNN architecture"
   ]
  },
  {
   "cell_type": "code",
   "execution_count": null,
   "id": "98ce42eb",
   "metadata": {},
   "outputs": [],
   "source": [
    "class Network(nn.Module): \n",
    "    \n",
    "    def __init__(self, size):\n",
    "        super().__init__()\n",
    "        \n",
    "        self.cnv1 = nn.Conv2d(  3,  32, kernel_size=(5,5) )\n",
    "        self.cnv2 = nn.Conv2d( 32,  64, kernel_size=(4,4) )\n",
    "        self.cnv3 = nn.Conv2d( 64, 128, kernel_size=(3,3) )\n",
    "        \n",
    "        self.bn1  = nn.BatchNorm2d( 32)\n",
    "        self.bn2  = nn.BatchNorm2d( 64)\n",
    "        self.bn3  = nn.BatchNorm2d(128)\n",
    "        \n",
    "        self.pool = nn.MaxPool2d(kernel_size=(3,3), stride=(2,2))\n",
    "        self.drop = nn.Dropout(p=0.25)\n",
    "        \n",
    "        self.fc1  = nn.Linear(size, 500)\n",
    "        self.fc2  = nn.Linear( 500, 100)\n",
    "        self.fc3  = nn.Linear( 100,  50)\n",
    "        self.fc4  = nn.Linear(  50,  10)\n",
    "        self.fc5  = nn.Linear(  10,   2)\n",
    "    \n",
    "    def forward(self, x):\n",
    "        \n",
    "        x = nn.functional.relu( self.cnv1(x) )\n",
    "        x = self.bn1(x)\n",
    "        x = self.pool(x)\n",
    "        \n",
    "        x = nn.functional.relu( self.cnv2(x) )\n",
    "        x = self.bn2(x)\n",
    "        x = self.pool(x)\n",
    "        \n",
    "        x = nn.functional.relu( self.cnv3(x) )\n",
    "        x = self.bn3(x)\n",
    "        x = self.pool(x)\n",
    "        \n",
    "        x = x.reshape(x.shape[0], -1)\n",
    "        x = self.drop(x)\n",
    "        \n",
    "        x = nn.functional.relu( self.fc1(x) )\n",
    "        x = nn.functional.relu( self.fc2(x) )\n",
    "        x = nn.functional.relu( self.fc3(x) )\n",
    "        x = nn.functional.relu( self.fc4(x) )\n",
    "        x = nn.functional.tanh( self.fc5(x) )\n",
    "        \n",
    "        return x"
   ]
  },
  {
   "cell_type": "code",
   "execution_count": null,
   "id": "4f5854de",
   "metadata": {
    "scrolled": true
   },
   "outputs": [],
   "source": [
    "v = '4'                         # model version \n",
    "e =  0                          # epoch counter\n",
    "\n",
    "\n",
    "model = Network(6144)\n",
    "\n",
    "if e > 0:\n",
    "    w = './models/{}_3cnv_5fc.v{}.x{}.net'.format(attribute, v, e)\n",
    "    model.load_state_dict( torch.load(w) )\n",
    "\n",
    "\n",
    "optimizer = optim.AdamW(model.parameters(), lr=0.002)\n",
    "criterion = nn.CrossEntropyLoss(\n",
    "    weight=train_class_weights, reduction='mean'\n",
    ")\n",
    "\n",
    "\n",
    "for i in range(10): \n",
    "\n",
    "    model_name = '{}_3cnv_5fc.v{}.x{}.net'.format(attribute, v, e+i+1)\n",
    "\n",
    "    p = project.train(model, train_set,\n",
    "        criterion, optimizer, epochs=1, li=500, monobatch=True\n",
    "    )\n",
    "\n",
    "    r = project.test(model, test_set, monobatch=True)\n",
    "\n",
    "    project.save(model, './models/{}'.format(model_name))"
   ]
  },
  {
   "cell_type": "code",
   "execution_count": null,
   "id": "0b275f6a",
   "metadata": {},
   "outputs": [],
   "source": [
    "# SCORE BOARD \n",
    "# \n",
    "# net_design_name    | epochs | accuracy           | precision | recall\n",
    "#                    |        |                    |           |\n",
    "# c.cnn 3cnv_5fc 1.1 |  1     | 0.6399120395821880 | 0.6344154 | 0.6350279\n",
    "# c.cnn 3cnv_5fc 1.1 |  2     | 0.6118746564046179 | 0.6198806 | 0.6205992\n",
    "# c.cnn 3cnv_5fc 1.1 |  3     | 0.6811434854315558 | 0.6755041 | 0.6748645\n",
    "# c.cnn 3cnv_5fc 1.1 |  4     | 0.6410115448048378 | 0.6376350 | 0.6394686\n",
    "# c.cnn 3cnv_5fc 1.1 |  5     | 0.6591533809785597 | 0.6525980 | 0.6451338\n",
    "# c.cnn 3cnv_5fc 1.1 |  6     | 0.6668499175371083 | 0.6637171 | 0.6659622\n",
    "# c.cnn 3cnv_5fc 1.1 |  7     | 0.7014843320505773 | 0.6965373 | 0.6969230\n",
    "# c.cnn 3cnv_5fc 1.1 |  8     | 0.6992853216052777 | 0.6985660 | 0.7019096\n",
    "# c.cnn 3cnv_5fc 1.1 |  9     | 0.6866410115448048 | 0.6813016 | 0.6749659\n",
    "# c.cnn 3cnv_5fc 1.1 | 10     | 0.6822429906542056 | 0.6802219 | 0.6830611\n",
    "#                    |        |                    |           |\n",
    "# c.cnn 3cnv_5fc 1.2 |  1     | 0.6256184716877405 | 0.6315094 | 0.6329151\n",
    "# c.cnn 3cnv_5fc 1.2 |  2     | 0.6657504123144585 | 0.6603556 | 0.6607992\n",
    "# c.cnn 3cnv_5fc 1.2 |  3     | 0.6987355689939527 | 0.6938081 | 0.6943442\n",
    "# c.cnn 3cnv_5fc 1.2 |  4     | 0.6492578339747114 | 0.6498746 | 0.6524053\n",
    "# c.cnn 3cnv_5fc 1.2 |  5     | 0.6481583287520616 | 0.6423791 | 0.6426196\n",
    "# c.cnn 3cnv_5fc 1.2 |  6     | 0.7091808686091259 | 0.7043168 | 0.7046057\n",
    "# c.cnn 3cnv_5fc 1.2 |  7     | 0.6503573391973612 | 0.6445473 | 0.6447115\n",
    "# c.cnn 3cnv_5fc 1.2 |  8     | 0.6575041231445850 | 0.6506221 | 0.6449733\n",
    "# c.cnn 3cnv_5fc 1.2 |  9     | 0.6668499175371083 | 0.6621624 | 0.6497829\n",
    "# c.cnn 3cnv_5fc 1.2 | 10     | 0.6520065970313359 | 0.6460700 | 0.6460276\n",
    "#                    |        |                    |           |\n",
    "# c.cnn 3cnv_5fc v4  |  1     | 0.6728971962616822 | 0.6677726 | 0.6578830\n",
    "# c.cnn 3cnv_5fc v4  |  2     | 0.6344145134689390 | 0.6275938 | 0.6268368\n",
    "# c.cnn 3cnv_5fc v4  |  3     | 0.6910390324354041 | 0.6890411 | 0.6740937\n",
    "# c.cnn 3cnv_5fc v4  |  4     | 0.6860912589334799 | 0.6813697 | 0.6726011\n",
    "# c.cnn 3cnv_5fc v4  |  5     | 0.6728971962616822 | 0.6666371 | 0.6630835\n",
    "# c.cnn 3cnv_5fc v4  |  6*    | 0.6959868059373282 | 0.6913969 | 0.6926323\n",
    "# c.cnn 3cnv_5fc v4  |  7     | 0.6597031335898845 | 0.6644443 | 0.6665671\n",
    "# c.cnn 3cnv_5fc v4  |  8     | 0.5838372732270478 | 0.5787367 | 0.5794459\n",
    "# c.cnn 3cnv_5fc v4  |  9     | 0.6805937328202309 | 0.6752813 | 0.6675881\n",
    "# c.cnn 3cnv_5fc v4  | 10     | 0.6245189664650908 | 0.6157450 | 0.6112838\n",
    "#\n",
    "# c.cnn 3cnv_5fc v5  |  1     | 0.6256184716877405 | 0.6211400 | 0.6223696\n",
    "# c.cnn 3cnv_5fc v5  |  2     | 0.6179219351291919 | 0.6198272 | 0.6217654\n",
    "# c.cnn 3cnv_5fc v5  |  3     | 0.6063771302913689 | 0.6118769 | 0.6131305\n",
    "# c.cnn 3cnv_5fc v5  |  4     | 0.6080263881253436 | 0.6192097 | 0.6189248\n",
    "# c.cnn 3cnv_5fc v5  |  5     | 0.6085761407366685 | 0.6192274 | 0.6191227\n",
    "# c.cnn 3cnv_5fc v5  |  6     | 0.5948323254535459 | 0.6107163 | 0.6086848\n",
    "# c.cnn 3cnv_5fc v5  |  7     | 0.5799890049477735 | 0.5978101 | 0.5951064\n",
    "# c.cnn 3cnv_5fc v5  |  8     | 0.6129741616272677 | 0.6250386 | 0.6244621\n",
    "# c.cnn 3cnv_5fc v5  |  9     | 0.6206706981858163 | 0.6224997 | 0.6244886\n",
    "# c.cnn 3cnv_5fc v5  | 10     | 0.6074766355140186 | 0.6191993 | 0.6187268\n",
    "#"
   ]
  },
  {
   "cell_type": "code",
   "execution_count": null,
   "id": "c41e0b82",
   "metadata": {},
   "outputs": [],
   "source": [
    "# SCORE BOARD — optimisers\n",
    "# \n",
    "# net_design_name    | epochs | accuracy           | precision | recall\n",
    "#                    |        |                    |           |\n",
    "# c.cnn w/Adagrad    |  1     | 0.6706981858163826 | 0.6670128 | 0.6527575\n",
    "# c.cnn w/Adagrad    |  2     | 0.6586036283672347 | 0.6517437 | 0.6466693\n",
    "# c.cnn w/Adagrad    |  3     | 0.6536558548653106 | 0.6465388 | 0.6419987\n",
    "# c.cnn w/Adagrad    |  4     | 0.6371632765255635 | 0.6307392 | 0.6304267\n",
    "#\n",
    "# c.cnn w/Adam       |  1     | 0.6217702034084662 | 0.6125111 | 0.6056715\n",
    "# c.cnn w/Adam       |  2     | 0.6602528862012095 | 0.6539673 | 0.6528970\n",
    "# c.cnn w/Adam       |  3     | 0.6778449697636064 | 0.6731554 | 0.6628425\n",
    "# c.cnn w/Adam       |  4     | 0.6663001649257834 | 0.6597733 | 0.6560856\n",
    "#\n",
    "# c.cnn w/AdamW      |  1     | 0.6531061022539857 | 0.6459828 | 0.6403562\n",
    "# c.cnn w/AdamW      |  2     | 0.6487080813633864 | 0.6415242 | 0.6386282\n",
    "# c.cnn w/AdamW      |  3     | 0.6838922484881803 | 0.6826539 | 0.6856774\n",
    "# c.cnn w/AdamW      |  4     | 0.7229246838922485 | 0.7192356 | 0.7124433\n",
    "#"
   ]
  },
  {
   "cell_type": "markdown",
   "id": "3aecdc41",
   "metadata": {},
   "source": [
    "<br><br>"
   ]
  }
 ],
 "metadata": {
  "kernelspec": {
   "display_name": "Python 3 (ipykernel)",
   "language": "python",
   "name": "python3"
  },
  "language_info": {
   "codemirror_mode": {
    "name": "ipython",
    "version": 3
   },
   "file_extension": ".py",
   "mimetype": "text/x-python",
   "name": "python",
   "nbconvert_exporter": "python",
   "pygments_lexer": "ipython3",
   "version": "3.8.10"
  }
 },
 "nbformat": 4,
 "nbformat_minor": 5
}
