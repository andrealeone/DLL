{
 "cells": [
  {
   "cell_type": "markdown",
   "id": "4c652358",
   "metadata": {},
   "source": [
    "<br>\n",
    "<u>Notebook Seven</u> | \n",
    "<a href=https://leone.gdn/DLL target=_blank>Report</a> | \n",
    "<a href=https://github.com/andrealeone/DLL>Repository</a>\n",
    "<br><br>\n",
    "<b>Task 1: Ensemble of the attribute classifiers</b><br><br>\n",
    "Andrea Leone, Alessandro E. Piotti<br>\n",
    "Deep Learning Lab — University of Trento<br>\n",
    "December 2021\n",
    "<hr><br><br>"
   ]
  },
  {
   "cell_type": "code",
   "execution_count": 1,
   "id": "4cde7027",
   "metadata": {},
   "outputs": [],
   "source": [
    "import project \n",
    "import networks\n",
    "\n",
    "import os\n",
    "import pickle\n",
    "import numpy             as np\n",
    "import pandas            as pd\n",
    "import matplotlib.pyplot as plt\n",
    "import random\n",
    "import collections\n",
    "\n",
    "import torch\n",
    "import torch.nn          as nn\n",
    "import torch.optim       as optim\n",
    "import torchvision\n",
    "\n",
    "import sklearn\n",
    "import sklearn.neural_network\n",
    "\n",
    "from tqdm.notebook   import tqdm\n",
    "\n",
    "project.notebook()"
   ]
  },
  {
   "cell_type": "code",
   "execution_count": 2,
   "id": "19ad53f8",
   "metadata": {},
   "outputs": [],
   "source": [
    "images, annotations = project.load_resources() "
   ]
  },
  {
   "cell_type": "markdown",
   "id": "7de5c7b9",
   "metadata": {},
   "source": [
    "<hr><br><br>"
   ]
  },
  {
   "cell_type": "markdown",
   "id": "e5420d5d",
   "metadata": {},
   "source": [
    "## `Age` classifier"
   ]
  },
  {
   "cell_type": "markdown",
   "id": "f9a406b7",
   "metadata": {},
   "source": [
    "<br><br>Load the models"
   ]
  },
  {
   "cell_type": "code",
   "execution_count": 3,
   "id": "9c332fea",
   "metadata": {},
   "outputs": [],
   "source": [
    "device     = torch.device('cpu') \n",
    "models     = list() \n",
    "models_src = [ \n",
    "    ( './models/age_3cnv_5fc_f0.v4.x10.net', project.CNN(6144) ),\n",
    "    ( './models/age_3cnv_5fc_f1.v4.x10.net', project.CNN(6144) ),\n",
    "    ( './models/age_3cnv_5fc_f2.v4.x10.net', project.CNN(6144) ),\n",
    "    ( './models/age_3cnv_5fc_f3.v4.x10.net', project.CNN(6144) )\n",
    "]\n",
    "\n",
    "for weights_dir, model in models_src: \n",
    "    model.load_state_dict( torch.load(weights_dir, map_location=device) )\n",
    "    models.append( model ) "
   ]
  },
  {
   "cell_type": "markdown",
   "id": "79b93c47",
   "metadata": {},
   "source": [
    "<br><br>Load the data"
   ]
  },
  {
   "cell_type": "code",
   "execution_count": 4,
   "id": "b00b386e",
   "metadata": {},
   "outputs": [
    {
     "data": {
      "application/vnd.jupyter.widget-view+json": {
       "model_id": "41b62ea6a597442e87291ad452b8c4a0",
       "version_major": 2,
       "version_minor": 0
      },
      "text/plain": [
       "  0%|          | 0/12989 [00:00<?, ?it/s]"
      ]
     },
     "metadata": {},
     "output_type": "display_data"
    },
    {
     "name": "stdout",
     "output_type": "stream",
     "text": [
      "data:     Counter({1: 10660, 2: 2039, 3: 186, 0: 104})\n",
      "train:    Counter({1: 9159, 2: 1798, 3: 125, 0: 88})\n",
      "test:     Counter({1: 1501, 2: 241, 3: 61, 0: 16})\n"
     ]
    },
    {
     "data": {
      "text/plain": [
       "tensor([31.7330,  0.3049,  1.5531, 22.3400])"
      ]
     },
     "execution_count": 4,
     "metadata": {},
     "output_type": "execute_result"
    }
   ],
   "source": [
    "attribute  = 'age' \n",
    "\n",
    "split_val  = 640                # 751-640=151\n",
    "dictionary = dict()\n",
    "irm        = torchvision.io.ImageReadMode.RGB\n",
    "\n",
    "for image_file in tqdm(images):\n",
    "    \n",
    "    image_id = int(image_file.split('/')[-1].split('_')[0])\n",
    "    \n",
    "    label    = annotations.loc[image_id][attribute] - 1\n",
    "    tensor   = torchvision.io.read_image( image_file, irm ).float()\n",
    "\n",
    "    channels, height, width = tensor.shape\n",
    "    tensor    = tensor.reshape(1, channels, height, width)\n",
    "    \n",
    "    if image_id not in dictionary:\n",
    "        dictionary[image_id] = list()\n",
    "        dictionary[image_id].append([tensor, label])\n",
    "    else:\n",
    "        dictionary[image_id].append([tensor, label])\n",
    "    \n",
    "data = list(dictionary.items())\n",
    "random.Random(3).shuffle(data)\n",
    "\n",
    "train_set, test_set = project.split_dataset(data,split_val)\n",
    "\n",
    "project.inspect_dataset(data,train_set,test_set)\n",
    "\n",
    "train_targets       = [y for _,y in train_set] \n",
    "train_class_weights = torch.tensor(\n",
    "    sklearn.utils.class_weight.compute_class_weight(\n",
    "        y=train_targets, classes=np.unique(train_targets),\n",
    "        class_weight='balanced'\n",
    "    ), dtype=torch.float\n",
    ") \n",
    "\n",
    "train_class_weights "
   ]
  },
  {
   "cell_type": "markdown",
   "id": "b262824b",
   "metadata": {},
   "source": [
    "<br><br>Process sample from `train_set`"
   ]
  },
  {
   "cell_type": "code",
   "execution_count": 5,
   "id": "f3a59dbc",
   "metadata": {},
   "outputs": [],
   "source": [
    "x, y = train_set[0] "
   ]
  },
  {
   "cell_type": "code",
   "execution_count": 6,
   "id": "f57c2ff2",
   "metadata": {},
   "outputs": [
    {
     "data": {
      "text/plain": [
       "array([[-0.07829417,  0.31066269],\n",
       "       [-0.46796942,  0.50943929],\n",
       "       [-0.01339693, -0.03324118],\n",
       "       [-0.09660313, -0.45051453]])"
      ]
     },
     "execution_count": 6,
     "metadata": {},
     "output_type": "execute_result"
    }
   ],
   "source": [
    "np.array([ model( x.float() ).tolist()[0] for model in models ]) "
   ]
  },
  {
   "cell_type": "markdown",
   "id": "971d59b9",
   "metadata": {},
   "source": [
    "<br><br>Combine the models and obtain the result embedding"
   ]
  },
  {
   "cell_type": "code",
   "execution_count": 7,
   "id": "cb7983a2",
   "metadata": {},
   "outputs": [],
   "source": [
    "v  = '2'                        # archive version \n",
    "s1 = 'ensembled.train.{}.v{}.pkl'.format(attribute, v) \n",
    "\n",
    "if s1 in os.listdir('./data/'): \n",
    "\n",
    "    with open('./data/' + s1, 'rb') as file: \n",
    "        s1 = list( pickle.load( file ) )\n",
    "\n",
    "    Y = [ y for _,y in s1 ] \n",
    "    X = [ x for x,_ in s1 ] \n",
    "\n",
    "else:\n",
    "\n",
    "    Y = [ y for _,y in train_set ] \n",
    "    X = [\n",
    "        np.array([\n",
    "            model( x.float() ).tolist()[0] for model in models\n",
    "        ]).reshape(-1) for x,_ in tqdm( train_set )\n",
    "    ]\n",
    "\n",
    "    with open('./data/' + s1, 'wb') as file: \n",
    "        pickle.dump( zip(X,Y), file ) "
   ]
  },
  {
   "cell_type": "code",
   "execution_count": 8,
   "id": "dc4674a0",
   "metadata": {},
   "outputs": [],
   "source": [
    "v  = '2'                        # archive version \n",
    "s2 = 'ensembled.test.{}.v{}.pkl'.format(attribute, v) \n",
    "\n",
    "if s2 in os.listdir('./data/'): \n",
    "\n",
    "    with open('./data/' + s2, 'rb') as file: \n",
    "        s2 = list( pickle.load( file ) )\n",
    "\n",
    "    T = [ t for _,t in s2 ] \n",
    "    Z = [ z for z,_ in s2 ] \n",
    "\n",
    "else:\n",
    "\n",
    "    T = [ t for _,t in test_set ] \n",
    "    Z = [\n",
    "        np.array([\n",
    "            model( z.float() ).tolist()[0] for model in models\n",
    "        ]).reshape(-1) for z,_ in tqdm( test_set )\n",
    "    ]\n",
    "\n",
    "    with open('./data/' + s2, 'wb') as file: \n",
    "        pickle.dump( zip(Z,T), file ) "
   ]
  },
  {
   "cell_type": "markdown",
   "id": "294cadb3",
   "metadata": {},
   "source": [
    "<br><br>Scikit-Learn simple MLP classifier"
   ]
  },
  {
   "cell_type": "code",
   "execution_count": 9,
   "id": "3ca55121",
   "metadata": {},
   "outputs": [],
   "source": [
    "mlp = sklearn.neural_network.MLPClassifier().fit(X,Y) "
   ]
  },
  {
   "cell_type": "code",
   "execution_count": 10,
   "id": "830ef1ce",
   "metadata": {},
   "outputs": [],
   "source": [
    "z = mlp.predict(Z) "
   ]
  },
  {
   "cell_type": "code",
   "execution_count": 11,
   "id": "f6700445",
   "metadata": {},
   "outputs": [
    {
     "data": {
      "text/plain": [
       "0.8042880703683343"
      ]
     },
     "execution_count": 11,
     "metadata": {},
     "output_type": "execute_result"
    }
   ],
   "source": [
    "project.prediction_accuracy(z, T) "
   ]
  },
  {
   "cell_type": "markdown",
   "id": "7dab9b4c",
   "metadata": {},
   "source": [
    "<br><br>PyTorch custom CNN classifier"
   ]
  },
  {
   "cell_type": "code",
   "execution_count": null,
   "id": "d2f639f0",
   "metadata": {},
   "outputs": [],
   "source": [
    "s1 = list( zip( \n",
    "    [ torch.tensor(x)        for x in X ],\n",
    "    [ torch.tensor(y).long() for y in Y ]\n",
    "))"
   ]
  },
  {
   "cell_type": "code",
   "execution_count": null,
   "id": "0ea41d0b",
   "metadata": {},
   "outputs": [],
   "source": [
    "s2 = list( zip( \n",
    "    [ torch.tensor(x)        for x in Z ],\n",
    "    [ torch.tensor(y).long() for y in T ]\n",
    "))"
   ]
  },
  {
   "cell_type": "code",
   "execution_count": null,
   "id": "6792d156",
   "metadata": {},
   "outputs": [],
   "source": [
    "class Network(nn.Module): \n",
    "    \n",
    "    def __init__(self):\n",
    "        super().__init__()\n",
    "        \n",
    "        self.fc1 = nn.Linear(  8, 32 )\n",
    "        self.fc2 = nn.Linear( 32, 64 )\n",
    "        self.fc3 = nn.Linear( 64, 32 )\n",
    "        self.fc4 = nn.Linear( 32,  4 )\n",
    "    \n",
    "    def forward(self, x):\n",
    "    \n",
    "        x = x.unsqueeze(0)\n",
    "        x = x.float()\n",
    "        \n",
    "        x = nn.functional.gelu( self.fc1(x) )\n",
    "        x = nn.functional.gelu( self.fc2(x) )\n",
    "        x = nn.functional.gelu( self.fc3(x) )\n",
    "        x = nn.functional.gelu( self.fc4(x) )\n",
    "        \n",
    "        return x"
   ]
  },
  {
   "cell_type": "code",
   "execution_count": null,
   "id": "f6748161",
   "metadata": {
    "scrolled": false
   },
   "outputs": [],
   "source": [
    "v = '1_2'                       # model version \n",
    "e =  0                          # starting epoch\n",
    "\n",
    "\n",
    "model = Network()\n",
    "\n",
    "if e > 0:\n",
    "    w = './models/{}_ensemble.v{}.x{}.net'.format(attribute, v, e)\n",
    "    model.load_state_dict( torch.load(w) )\n",
    "\n",
    "\n",
    "optimizer = optim.Adagrad(model.parameters(), lr=0.002)\n",
    "criterion = nn.CrossEntropyLoss(\n",
    "    weight=train_class_weights, reduction='mean'\n",
    ")\n",
    "\n",
    "\n",
    "for i in range(1): \n",
    "\n",
    "    model_name = '{}_ensemble.v{}.x{}.net'.format(attribute, v, e+i+1)\n",
    "\n",
    "    p = project.train(model, s1,\n",
    "        criterion, optimizer, epochs=1, li=2234, monobatch=False\n",
    "    )\n",
    "\n",
    "    r = project.test(model, s2, monobatch=False) \n",
    "\n",
    "    if (i+1) % 5 == 0:\n",
    "        project.save(model, './models/{}'.format(model_name))"
   ]
  },
  {
   "cell_type": "code",
   "execution_count": null,
   "id": "be5d009c",
   "metadata": {},
   "outputs": [],
   "source": [
    "# SCORE BOARD \n",
    "# \n",
    "# net_design_name    | epochs | accuracy           | precision | recall\n",
    "#                    |        |                    |           |\n",
    "# c.cnn w/Adagrad    |  1     | 0.8037383177570093 | 0.2933509 | 0.2887853\n",
    "# c.cnn w/Adagrad    |  2     | 0.8070368334249588 | 0.2963891 | 0.2889139\n",
    "# c.cnn w/Adagrad    |  3     | 0.8070368334249588 | 0.2946399 | 0.2871723\n",
    "# c.cnn w/Adagrad    |  4     | 0.8059373282023090 | 0.2916899 | 0.2850976\n",
    "# c.cnn w/Adagrad    |  5     | 0.8048378229796591 | 0.2898511 | 0.2838937\n",
    "# c.cnn w/Adagrad    |  6     | 0.8042880703683343 | 0.2881619 | 0.2828564\n",
    "# c.cnn w/Adagrad    |  7     | 0.8042880703683343 | 0.2881619 | 0.2828564\n",
    "# c.cnn w/Adagrad    |  8     | 0.8048378229796591 | 0.2894567 | 0.2838937\n",
    "# c.cnn w/Adagrad    |  9     | 0.8048378229796591 | 0.2894567 | 0.2838937\n",
    "# c.cnn w/Adagrad    | 10     | 0.8053875755909841 | 0.2914549 | 0.2858019\n",
    "#                    |        |                    |           |\n",
    "# c.cnn w/Adagrad    | 11     | 0.8053875755909841 | 0.2914549 | 0.2858019\n",
    "# c.cnn w/Adagrad    | 12     | 0.8059373282023090 | 0.2916048 | 0.2859684\n",
    "# c.cnn w/Adagrad    | 13     | 0.8059373282023090 | 0.2916048 | 0.2859684\n",
    "# c.cnn w/Adagrad    | 14     | 0.8064870808136338 | 0.2921501 | 0.2861350\n",
    "# c.cnn w/Adagrad    | 15     | 0.8059373282023090 | 0.2908858 | 0.2850976\n",
    "# c.cnn w/Adagrad    | 16     | 0.8059373282023090 | 0.2908858 | 0.2850976\n",
    "# c.cnn w/Adagrad    | 17     | 0.8070368334249588 | 0.2931118 | 0.2863015\n",
    "# c.cnn w/Adagrad    | 18     | 0.8064870808136338 | 0.2922525 | 0.2852642\n",
    "# c.cnn w/Adagrad    | 19     | 0.8059373282023090 | 0.2916899 | 0.2850976\n",
    "# c.cnn w/Adagrad    | 20     | 0.8053875755909841 | 0.2911345 | 0.2849311"
   ]
  },
  {
   "cell_type": "markdown",
   "id": "cc520671",
   "metadata": {},
   "source": [
    "<hr><br><br>"
   ]
  },
  {
   "cell_type": "markdown",
   "id": "615c14ee",
   "metadata": {},
   "source": [
    "## `Colors_Up` classifier"
   ]
  },
  {
   "cell_type": "markdown",
   "id": "2f77e110",
   "metadata": {},
   "source": [
    "<br><br>Load the models"
   ]
  },
  {
   "cell_type": "code",
   "execution_count": 12,
   "id": "57c1819a",
   "metadata": {},
   "outputs": [],
   "source": [
    "device     = torch.device('cpu') \n",
    "models     = list() \n",
    "models_src = [ \n",
    "    ( './models/colors_up_resnet50_f0.v3_2.x22.net', networks.ResNet50() ),\n",
    "    ( './models/colors_up_resnet50_f1.v3_2.x8.net',  networks.ResNet50() ),\n",
    "    ( './models/colors_up_resnet50_f2.v3_2.x3.net',  networks.ResNet50() ),\n",
    "    ( './models/colors_up_resnet50_f3.v3_2.x3.net',  networks.ResNet50() ),\n",
    "    ( './models/colors_up_resnet50_f4.v3_2.x5.net',  networks.ResNet50() ),\n",
    "    ( './models/colors_up_resnet50_f5.v3_2.x4.net',  networks.ResNet50() ),\n",
    "    ( './models/colors_up_resnet50_f6.v3_2.x12.net', networks.ResNet50() ),\n",
    "    ( './models/colors_up_resnet50_f7.v3_2.x8.net',  networks.ResNet50() ),\n",
    "    ( './models/colors_up_resnet50_f8.v3_2.x4.net',  networks.ResNet50() )\n",
    "]\n",
    "\n",
    "for weights_dir, model in models_src: \n",
    "    model.load_state_dict( torch.load(weights_dir, map_location=device) )\n",
    "    models.append( model ) "
   ]
  },
  {
   "cell_type": "markdown",
   "id": "2a96fc8a",
   "metadata": {},
   "source": [
    "<br><br>Load the data"
   ]
  },
  {
   "cell_type": "code",
   "execution_count": 13,
   "id": "33544a6c",
   "metadata": {},
   "outputs": [
    {
     "data": {
      "application/vnd.jupyter.widget-view+json": {
       "model_id": "6670cb2297b548d6b857b57be653db08",
       "version_major": 2,
       "version_minor": 0
      },
      "text/plain": [
       "  0%|          | 0/12989 [00:00<?, ?it/s]"
      ]
     },
     "metadata": {},
     "output_type": "display_data"
    },
    {
     "name": "stdout",
     "output_type": "stream",
     "text": [
      "data:     Counter({2: 3695, 1: 1774, 6: 1501, 3: 1408, 7: 1185, 0: 1133, 5: 983, 8: 883, 4: 427})\n",
      "train:    Counter({2: 3143, 1: 1506, 3: 1285, 6: 1246, 7: 1097, 0: 998, 5: 819, 8: 664, 4: 412})\n",
      "test:     Counter({2: 552, 1: 268, 6: 255, 8: 219, 5: 164, 0: 135, 3: 123, 7: 88, 4: 15})\n"
     ]
    },
    {
     "data": {
      "image/png": "[encoded data removed]",
      "text/plain": [
       "<Figure size 1152x432 with 1 Axes>"
      ]
     },
     "metadata": {
      "needs_background": "light"
     },
     "output_type": "display_data"
    }
   ],
   "source": [
    "attribute  = 'colors_up' \n",
    "\n",
    "split_val  = 640                # 751-640=151\n",
    "dictionary = dict()\n",
    "irm        = torchvision.io.ImageReadMode.RGB\n",
    "colors     = [\n",
    "    'upblack', 'upwhite', 'upred', 'uppurple',\n",
    "    'upyellow', 'upgray', 'upblue', 'upgreen'\n",
    "]\n",
    "\n",
    "for image_file in tqdm(images):\n",
    "    \n",
    "    image_id  = int(image_file.split('/')[-1].split('_')[0])\n",
    "    array     = [(annotations.loc[image_id][color] - 1) for color in colors]\n",
    "    tensor    = torchvision.io.read_image( image_file, irm ).float()\n",
    "    \n",
    "    if 1 in array:\n",
    "        label = (array.index(1) + 1)\n",
    "    else:\n",
    "        label = 0\n",
    "    \n",
    "    ct = list()\n",
    "    for c,channel in enumerate(tensor):\n",
    "        ct.append( tensor[c][20:80].numpy() )\n",
    "    \n",
    "    tensor    = torch.tensor(ct).float()\n",
    "    \n",
    "    channels, height, width = tensor.shape\n",
    "    tensor    = tensor.reshape(1, channels, height, width)\n",
    "    \n",
    "    if image_id not in dictionary:\n",
    "        dictionary[image_id] = list()\n",
    "        dictionary[image_id].append([tensor, label])\n",
    "    else:\n",
    "        dictionary[image_id].append([tensor, label])\n",
    "    \n",
    "data = list(dictionary.items())\n",
    "random.Random(3).shuffle(data)\n",
    "\n",
    "train_set, test_set = project.split_dataset(data, split_val)\n",
    "\n",
    "project.inspect_dataset(data,train_set,test_set) \n",
    "project.plot_image(train_set[0][0].reshape([3, 60, 64]), fs=(16,6)) "
   ]
  },
  {
   "cell_type": "markdown",
   "id": "c695afa8",
   "metadata": {},
   "source": [
    "<br><br>Combine the models and obtain the result embedding"
   ]
  },
  {
   "cell_type": "code",
   "execution_count": 14,
   "id": "7676cad4",
   "metadata": {},
   "outputs": [],
   "source": [
    "v  = '2'                        # archive version \n",
    "s1 = 'ensembled.train.{}.v{}.pkl'.format(attribute, v) \n",
    "\n",
    "if s1 in os.listdir('./data/'): \n",
    "\n",
    "    with open('./data/' + s1, 'rb') as file: \n",
    "        s1 = list( pickle.load( file ) )\n",
    "\n",
    "    Y = [ y for _,y in s1 ] \n",
    "    X = [ x for x,_ in s1 ] \n",
    "\n",
    "else:\n",
    "\n",
    "    Y = [ y for _,y in train_set ] \n",
    "    X = [\n",
    "        np.array([\n",
    "            model( x.float() ).tolist()[0] for model in models\n",
    "        ]).reshape(-1) for x,_ in tqdm( train_set )\n",
    "    ]\n",
    "\n",
    "    with open('./data/' + s1, 'wb') as file: \n",
    "        pickle.dump( zip(X,Y), file ) "
   ]
  },
  {
   "cell_type": "code",
   "execution_count": 15,
   "id": "ad572b55",
   "metadata": {},
   "outputs": [],
   "source": [
    "v  = '2'                        # archive version \n",
    "s2 = 'ensembled.test.{}.v{}.pkl'.format(attribute, v) \n",
    "\n",
    "if s2 in os.listdir('./data/'): \n",
    "\n",
    "    with open('./data/' + s2, 'rb') as file: \n",
    "        s2 = list( pickle.load( file ) )\n",
    "\n",
    "    T = [ t for _,t in s2 ] \n",
    "    Z = [ z for z,_ in s2 ] \n",
    "\n",
    "else:\n",
    "\n",
    "    T = [ t for _,t in test_set ] \n",
    "    Z = [\n",
    "        np.array([\n",
    "            model( z.float() ).tolist()[0] for model in models\n",
    "        ]).reshape(-1) for z,_ in tqdm( test_set )\n",
    "    ]\n",
    "\n",
    "    with open('./data/' + s2, 'wb') as file: \n",
    "        pickle.dump( zip(Z,T), file ) "
   ]
  },
  {
   "cell_type": "markdown",
   "id": "ae606ace",
   "metadata": {},
   "source": [
    "<br><br>Scikit-Learn simple MLP classifier"
   ]
  },
  {
   "cell_type": "code",
   "execution_count": 16,
   "id": "84c6fe25",
   "metadata": {},
   "outputs": [],
   "source": [
    "mlp = sklearn.neural_network.MLPClassifier().fit(X,Y) "
   ]
  },
  {
   "cell_type": "code",
   "execution_count": 17,
   "id": "5c9fa94a",
   "metadata": {},
   "outputs": [],
   "source": [
    "z = mlp.predict(Z) "
   ]
  },
  {
   "cell_type": "code",
   "execution_count": 18,
   "id": "588407f1",
   "metadata": {},
   "outputs": [
    {
     "data": {
      "text/plain": [
       "0.6509070918086861"
      ]
     },
     "execution_count": 18,
     "metadata": {},
     "output_type": "execute_result"
    }
   ],
   "source": [
    "project.prediction_accuracy(z, T) "
   ]
  },
  {
   "cell_type": "markdown",
   "id": "41bcf6cf",
   "metadata": {},
   "source": [
    "<br><br>PyTorch custom CNN classifier"
   ]
  },
  {
   "cell_type": "code",
   "execution_count": null,
   "id": "e63b78ae",
   "metadata": {},
   "outputs": [],
   "source": [
    "s1 = list( zip( \n",
    "    [ torch.tensor(x)        for x in X ],\n",
    "    [ torch.tensor(y).long() for y in Y ]\n",
    "))"
   ]
  },
  {
   "cell_type": "code",
   "execution_count": null,
   "id": "fa8456f7",
   "metadata": {},
   "outputs": [],
   "source": [
    "s2 = list( zip( \n",
    "    [ torch.tensor(x)        for x in Z ],\n",
    "    [ torch.tensor(y).long() for y in T ]\n",
    "))"
   ]
  },
  {
   "cell_type": "code",
   "execution_count": null,
   "id": "91b931fb",
   "metadata": {},
   "outputs": [],
   "source": [
    "train_class_weights = torch.tensor( \n",
    "    sklearn.utils.class_weight.compute_class_weight(\n",
    "        y=Y, classes=np.unique(Y), class_weight='balanced'\n",
    "    ), dtype=torch.float\n",
    ") \n",
    "\n",
    "train_class_weights "
   ]
  },
  {
   "cell_type": "code",
   "execution_count": null,
   "id": "d28aa308",
   "metadata": {},
   "outputs": [],
   "source": [
    "class Network(nn.Module): \n",
    "    \n",
    "    def __init__(self):\n",
    "        super().__init__()\n",
    "        \n",
    "        self.fc1 = nn.Linear( 18, 72 )\n",
    "        self.fc2 = nn.Linear( 72, 36 )\n",
    "        self.fc3 = nn.Linear( 36,  9 )\n",
    "    \n",
    "    def forward(self, x):\n",
    "    \n",
    "        x = x.unsqueeze(0)\n",
    "        x = x.float()\n",
    "        \n",
    "        x = nn.functional.gelu( self.fc1(x) )\n",
    "        x = nn.functional.gelu( self.fc2(x) )\n",
    "        x = nn.functional.gelu( self.fc3(x) )\n",
    "        \n",
    "        return x"
   ]
  },
  {
   "cell_type": "code",
   "execution_count": null,
   "id": "8eac9c2b",
   "metadata": {},
   "outputs": [],
   "source": [
    "v = '1_2'                       # model version \n",
    "e =  0                          # starting epoch\n",
    "\n",
    "\n",
    "model = Network()\n",
    "\n",
    "if e > 0:\n",
    "    w = './models/{}_ensemble.v{}.x{}.net'.format(attribute, v, e)\n",
    "    model.load_state_dict( torch.load(w) )\n",
    "\n",
    "\n",
    "optimizer = optim.Adagrad(model.parameters(), lr=0.002)\n",
    "criterion = nn.CrossEntropyLoss(\n",
    "    weight=train_class_weights, reduction='mean'\n",
    ")\n",
    "\n",
    "\n",
    "for i in range(1): \n",
    "\n",
    "    model_name = '{}_ensemble.v{}.x{}.net'.format(attribute, v, e+i+1)\n",
    "\n",
    "    p = project.train(model, s1,\n",
    "        criterion, optimizer, epochs=1, li=2234, monobatch=False\n",
    "    )\n",
    "\n",
    "    r = project.test(model, s2, monobatch=False) \n",
    "\n",
    "    if (i+1) % 5 == 0:\n",
    "        project.save(model, './models/{}'.format(model_name))"
   ]
  },
  {
   "cell_type": "code",
   "execution_count": null,
   "id": "83cd40b7",
   "metadata": {},
   "outputs": [],
   "source": [
    "# SCORE BOARD \n",
    "# \n",
    "# net_design_name    | epochs | accuracy           | precision | recall\n",
    "#                    |        |                    |           |\n",
    "# c.cnn w/Adagrad    |  1     | 0.6569543705332600 | 0.4948931 | 0.5492292\n",
    "# c.cnn w/Adagrad    |  2     | 0.6712479384277076 | 0.5032331 | 0.5564977\n",
    "# c.cnn w/Adagrad    |  3     | 0.6695986805937328 | 0.5000484 | 0.5532341\n",
    "# c.cnn w/Adagrad    |  4     | 0.6739967014843321 | 0.5162510 | 0.5701317\n",
    "# c.cnn w/Adagrad    |  5     | 0.6723474436503574 | 0.5136101 | 0.5670996\n",
    "# c.cnn w/Adagrad    |  6     | 0.6734469488730072 | 0.5142811 | 0.5676467\n",
    "# c.cnn w/Adagrad    |  7     | 0.6723474436503574 | 0.5131112 | 0.5663499\n",
    "# c.cnn w/Adagrad    |  8     | 0.6750962067069819 | 0.5159815 | 0.5684374\n",
    "# c.cnn w/Adagrad    |  9     | 0.6756459593183067 | 0.5165721 | 0.5688520\n",
    "# c.cnn w/Adagrad    | 10     | 0.6761957119296317 | 0.5173036 | 0.5692877\n",
    "#                    |        |                    |           |\n",
    "# c.cnn w/Adagrad    | 11     | 0.6734469488730072 | 0.5202553 | 0.5736903\n",
    "# c.cnn w/Adagrad    | 12     | 0.6745464540956569 | 0.5253676 | 0.5817468\n",
    "# c.cnn w/Adagrad    | 13     | 0.6745464540956569 | 0.5257351 | 0.5820529\n",
    "# c.cnn w/Adagrad    | 14     | 0.6750962067069819 | 0.5263613 | 0.5824170\n",
    "# c.cnn w/Adagrad    | 15     | 0.6745464540956569 | 0.5271684 | 0.5822157\n",
    "# c.cnn w/Adagrad    | 16     | 0.6761957119296317 | 0.5287802 | 0.5834806\n",
    "# c.cnn w/Adagrad    | 17     | 0.6761957119296317 | 0.5264371 | 0.5829918\n",
    "# c.cnn w/Adagrad    | 18     | 0.6767454645409565 | 0.5268501 | 0.5834276\n",
    "# c.cnn w/Adagrad    | 19     | 0.6767454645409565 | 0.5267132 | 0.5826007\n",
    "# c.cnn w/Adagrad    | 20     | 0.6767454645409565 | 0.5266958 | 0.5826007\n",
    "#"
   ]
  },
  {
   "cell_type": "markdown",
   "id": "56e44d81",
   "metadata": {},
   "source": [
    "<hr><br><br>"
   ]
  },
  {
   "cell_type": "markdown",
   "id": "fc6fb753",
   "metadata": {},
   "source": [
    "## `Colors_Down` classifier"
   ]
  },
  {
   "cell_type": "markdown",
   "id": "9cdb99d8",
   "metadata": {},
   "source": [
    "<br><br>Load the models"
   ]
  },
  {
   "cell_type": "code",
   "execution_count": 19,
   "id": "8eccccb4",
   "metadata": {},
   "outputs": [],
   "source": [
    "device     = torch.device('cpu') \n",
    "models     = list() \n",
    "models_src = [ \n",
    "    ( './models/colors_down_resnet50_f0.v3_2.x5.net',  networks.ResNet50() ),\n",
    "    ( './models/colors_down_resnet50_f1.v3_2.x6.net',  networks.ResNet50() ),\n",
    "    ( './models/colors_down_resnet50_f2.v3_2.x9.net',  networks.ResNet50() ),\n",
    "    ( './models/colors_down_resnet50_f3.v3_2.x15.net', networks.ResNet50() ),\n",
    "    ( './models/colors_down_resnet50_f4.v3_2.x12.net', networks.ResNet50() ),\n",
    "    ( './models/colors_down_resnet50_f5.v3_2.x11.net', networks.ResNet50() ),\n",
    "    ( './models/colors_down_resnet50_f6.v3_2.x9.net',  networks.ResNet50() ),\n",
    "    ( './models/colors_down_resnet50_f7.v3_2.x7.net',  networks.ResNet50() ),\n",
    "    ( './models/colors_down_resnet50_f8.v3_2.x4.net',  networks.ResNet50() ),\n",
    "    ( './models/colors_down_resnet50_f9.v3_2.x8.net',  networks.ResNet50() )\n",
    "]\n",
    "\n",
    "for weights_dir, model in models_src: \n",
    "    model.load_state_dict( torch.load(weights_dir, map_location=device) )\n",
    "    models.append( model ) "
   ]
  },
  {
   "cell_type": "markdown",
   "id": "2f48d1db",
   "metadata": {},
   "source": [
    "<br><br>Load the data"
   ]
  },
  {
   "cell_type": "code",
   "execution_count": 20,
   "id": "ab0217c3",
   "metadata": {},
   "outputs": [
    {
     "data": {
      "application/vnd.jupyter.widget-view+json": {
       "model_id": "8bbd8485740640709a19a76b7b39bc7f",
       "version_major": 2,
       "version_minor": 0
      },
      "text/plain": [
       "  0%|          | 0/12989 [00:00<?, ?it/s]"
      ]
     },
     "metadata": {},
     "output_type": "display_data"
    },
    {
     "name": "stdout",
     "output_type": "stream",
     "text": [
      "data:     Counter({1: 5083, 7: 2367, 6: 1999, 9: 1060, 2: 842, 0: 688, 3: 470, 8: 330, 5: 139, 4: 11})\n",
      "train:    Counter({1: 4256, 7: 2091, 6: 1777, 9: 857, 2: 722, 0: 607, 3: 422, 8: 288, 5: 139, 4: 11})\n",
      "test:     Counter({1: 827, 7: 276, 6: 222, 9: 203, 2: 120, 0: 81, 3: 48, 8: 42})\n"
     ]
    },
    {
     "data": {
      "image/png": "[encoded data removed]",
      "text/plain": [
       "<Figure size 1152x432 with 1 Axes>"
      ]
     },
     "metadata": {
      "needs_background": "light"
     },
     "output_type": "display_data"
    }
   ],
   "source": [
    "attribute  = 'colors_down' \n",
    "\n",
    "split_val  = 640                # 751-640=151\n",
    "dictionary = dict()\n",
    "irm        = torchvision.io.ImageReadMode.RGB\n",
    "colors     = [\n",
    "    'downblack', 'downwhite', 'downpink', 'downpurple', 'downyellow',\n",
    "    'downgray', 'downblue', 'downgreen', 'downbrown'\n",
    "]\n",
    "\n",
    "for image_file in tqdm(images):\n",
    "    \n",
    "    image_id  = int(image_file.split('/')[-1].split('_')[0])\n",
    "    array     = [(annotations.loc[image_id][color] - 1) for color in colors]\n",
    "    tensor    = torchvision.io.read_image( image_file,irm ).float()\n",
    "    \n",
    "    if 1 in array:\n",
    "        label = (array.index(1) + 1)\n",
    "    else:\n",
    "        label = 0\n",
    "    \n",
    "    ct = list()\n",
    "    for c,channel in enumerate(tensor):\n",
    "        ct.append( tensor[c][60:120].numpy() )\n",
    "    \n",
    "    tensor    = torch.tensor(ct).float()\n",
    "    \n",
    "    channels, height, width = tensor.shape\n",
    "    tensor    = tensor.reshape(1, channels, height, width)\n",
    "    \n",
    "    if image_id not in dictionary:\n",
    "        dictionary[image_id] = list()\n",
    "        dictionary[image_id].append([tensor, label])\n",
    "    else:\n",
    "        dictionary[image_id].append([tensor, label])\n",
    "    \n",
    "data = list(dictionary.items())\n",
    "random.Random(3).shuffle(data)\n",
    "\n",
    "train_set, test_set = project.split_dataset(data, split_val)\n",
    "\n",
    "project.inspect_dataset(data,train_set,test_set) \n",
    "project.plot_image(train_set[0][0].reshape([3, 60, 64]), fs=(16,6)) "
   ]
  },
  {
   "cell_type": "markdown",
   "id": "e3dd9812",
   "metadata": {},
   "source": [
    "<br><br>Combine the models and obtain the result embedding"
   ]
  },
  {
   "cell_type": "code",
   "execution_count": 21,
   "id": "c81df992",
   "metadata": {},
   "outputs": [],
   "source": [
    "v  = '2'                        # archive version \n",
    "s1 = 'ensembled.train.{}.v{}.pkl'.format(attribute, v) \n",
    "\n",
    "if s1 in os.listdir('./data/'): \n",
    "\n",
    "    with open('./data/' + s1, 'rb') as file: \n",
    "        s1 = list( pickle.load( file ) )\n",
    "\n",
    "    Y = [ y for _,y in s1 ] \n",
    "    X = [ x for x,_ in s1 ] \n",
    "\n",
    "else:\n",
    "\n",
    "    Y = [ y for _,y in train_set ] \n",
    "    X = [\n",
    "        np.array([\n",
    "            model( x.float() ).tolist()[0] for model in models\n",
    "        ]).reshape(-1) for x,_ in tqdm( train_set )\n",
    "    ]\n",
    "\n",
    "    with open('./data/' + s1, 'wb') as file: \n",
    "        pickle.dump( zip(X,Y), file ) "
   ]
  },
  {
   "cell_type": "code",
   "execution_count": 22,
   "id": "6b784e3e",
   "metadata": {},
   "outputs": [],
   "source": [
    "v  = '2'                        # archive version \n",
    "s2 = 'ensembled.test.{}.v{}.pkl'.format(attribute, v) \n",
    "\n",
    "if s2 in os.listdir('./data/'): \n",
    "\n",
    "    with open('./data/' + s2, 'rb') as file: \n",
    "        s2 = list( pickle.load( file ) )\n",
    "\n",
    "    T = [ t for _,t in s2 ] \n",
    "    Z = [ z for z,_ in s2 ] \n",
    "\n",
    "else:\n",
    "\n",
    "    T = [ t for _,t in test_set ] \n",
    "    Z = [\n",
    "        np.array([\n",
    "            model( z.float() ).tolist()[0] for model in models\n",
    "        ]).reshape(-1) for z,_ in tqdm( test_set )\n",
    "    ]\n",
    "\n",
    "    with open('./data/' + s2, 'wb') as file: \n",
    "        pickle.dump( zip(Z,T), file ) "
   ]
  },
  {
   "cell_type": "markdown",
   "id": "df8ae4ee",
   "metadata": {},
   "source": [
    "<br><br>Scikit-Learn simple MLP classifier"
   ]
  },
  {
   "cell_type": "code",
   "execution_count": 23,
   "id": "a9aa8ba8",
   "metadata": {},
   "outputs": [],
   "source": [
    "mlp = sklearn.neural_network.MLPClassifier().fit(X,Y) "
   ]
  },
  {
   "cell_type": "code",
   "execution_count": 24,
   "id": "18f34aac",
   "metadata": {},
   "outputs": [],
   "source": [
    "z = mlp.predict(Z) "
   ]
  },
  {
   "cell_type": "code",
   "execution_count": 25,
   "id": "ad19f5b7",
   "metadata": {},
   "outputs": [
    {
     "data": {
      "text/plain": [
       "0.5880263825469305"
      ]
     },
     "execution_count": 25,
     "metadata": {},
     "output_type": "execute_result"
    }
   ],
   "source": [
    "project.prediction_accuracy(z, T) "
   ]
  },
  {
   "cell_type": "markdown",
   "id": "36306aa1",
   "metadata": {},
   "source": [
    "<br><br>PyTorch custom CNN classifier"
   ]
  },
  {
   "cell_type": "code",
   "execution_count": null,
   "id": "5598d296",
   "metadata": {},
   "outputs": [],
   "source": [
    "s1 = list( zip( \n",
    "    [ torch.tensor(x)        for x in X ],\n",
    "    [ torch.tensor(y).long() for y in Y ]\n",
    "))"
   ]
  },
  {
   "cell_type": "code",
   "execution_count": null,
   "id": "a2e682f5",
   "metadata": {},
   "outputs": [],
   "source": [
    "s2 = list( zip( \n",
    "    [ torch.tensor(z)        for z in Z ],\n",
    "    [ torch.tensor(t).long() for t in T ]\n",
    "))"
   ]
  },
  {
   "cell_type": "code",
   "execution_count": null,
   "id": "1ca75f2a",
   "metadata": {},
   "outputs": [],
   "source": [
    "train_class_weights = torch.tensor( \n",
    "    sklearn.utils.class_weight.compute_class_weight(\n",
    "        y=Y, classes=np.unique(Y), class_weight='balanced'\n",
    "    ), dtype=torch.float\n",
    ") \n",
    "\n",
    "train_class_weights "
   ]
  },
  {
   "cell_type": "code",
   "execution_count": null,
   "id": "14ffb7d2",
   "metadata": {},
   "outputs": [],
   "source": [
    "class Network(nn.Module): \n",
    "    \n",
    "    def __init__(self):\n",
    "        super().__init__()\n",
    "        \n",
    "        self.fc1 = nn.Linear( 20, 80 )\n",
    "        self.fc2 = nn.Linear( 80, 40 )\n",
    "        self.fc3 = nn.Linear( 40, 10 )\n",
    "    \n",
    "    def forward(self, x):\n",
    "    \n",
    "        x = x.unsqueeze(0)\n",
    "        x = x.float()\n",
    "        \n",
    "        x = nn.functional.gelu( self.fc1(x) )\n",
    "        x = nn.functional.gelu( self.fc2(x) )\n",
    "        x = nn.functional.gelu( self.fc3(x) )\n",
    "        \n",
    "        return x"
   ]
  },
  {
   "cell_type": "code",
   "execution_count": null,
   "id": "051cf684",
   "metadata": {
    "scrolled": true
   },
   "outputs": [],
   "source": [
    "v = '1_2'                       # model version \n",
    "e =  0                          # starting epoch\n",
    "\n",
    "\n",
    "model = Network()\n",
    "\n",
    "if e > 0:\n",
    "    w = './models/{}_ensemble.v{}.x{}.net'.format(attribute, v, e)\n",
    "    model.load_state_dict( torch.load(w) )\n",
    "\n",
    "\n",
    "optimizer = optim.Adagrad(model.parameters(), lr=0.002)\n",
    "criterion = nn.CrossEntropyLoss(\n",
    "    weight=train_class_weights, reduction='mean'\n",
    ")\n",
    "\n",
    "\n",
    "for i in range(1): \n",
    "\n",
    "    model_name = '{}_ensemble.v{}.x{}.net'.format(attribute, v, e+i+1)\n",
    "\n",
    "    p = project.train(model, s1,\n",
    "        criterion, optimizer, epochs=1, li=2234, monobatch=False\n",
    "    )\n",
    "\n",
    "    r = project.test(model, s2, monobatch=False) \n",
    "\n",
    "    if (i+1) % 5 == 0:\n",
    "        project.save(model, './models/{}'.format(model_name))"
   ]
  },
  {
   "cell_type": "code",
   "execution_count": null,
   "id": "4251147f",
   "metadata": {},
   "outputs": [],
   "source": [
    "# SCORE BOARD \n",
    "# \n",
    "# net_design_name    | epochs | accuracy           | precision | recall\n",
    "#                    |        |                    |           |\n",
    "# c.cnn w/Adagrad    |  1     | 0.5717909690512430 | 0.2986831 | 0.3809349\n",
    "# c.cnn w/Adagrad    |  2     | 0.5778792491121258 | 0.3044822 | 0.4125680\n",
    "# c.cnn w/Adagrad    |  3     | 0.5834601725012684 | 0.3073872 | 0.4149471\n",
    "# c.cnn w/Adagrad    |  4     | 0.5865043125317098 | 0.3099118 | 0.4158917\n",
    "# c.cnn w/Adagrad    |  5     | 0.5900558092338914 | 0.3127141 | 0.4203315\n",
    "# c.cnn w/Adagrad    |  6     | 0.5915778792491121 | 0.3132961 | 0.4213663\n",
    "# c.cnn w/Adagrad    |  7     | 0.5930999492643328 | 0.3149152 | 0.4228751\n",
    "# c.cnn w/Adagrad    |  8     | 0.5930999492643328 | 0.3150858 | 0.4229994\n",
    "# c.cnn w/Adagrad    |  9     | 0.5915778792491121 | 0.3145255 | 0.4224248\n",
    "# c.cnn w/Adagrad    | 10     | 0.5920852359208524 | 0.3149563 | 0.4227054\n",
    "#                    |        |                    |           |\n",
    "# c.cnn w/Adagrad    | 15     | 0.5915778792491121 | 0.3141158 | 0.4223724\n",
    "# c.cnn w/Adagrad    | 20     | 0.5925925925925926 | 0.3134097 | 0.4175161\n",
    "# c.cnn w/Adagrad    | 25     | 0.5956367326230340 | 0.3161548 | 0.4214133\n",
    "# c.cnn w/Adagrad    | 30     | 0.5961440892947742 | 0.3160007 | 0.4209002\n",
    "#"
   ]
  },
  {
   "cell_type": "markdown",
   "id": "8d2c3b9c",
   "metadata": {},
   "source": [
    "<br><br>"
   ]
  }
 ],
 "metadata": {
  "kernelspec": {
   "display_name": "Python 3 (ipykernel)",
   "language": "python",
   "name": "python3"
  },
  "language_info": {
   "codemirror_mode": {
    "name": "ipython",
    "version": 3
   },
   "file_extension": ".py",
   "mimetype": "text/x-python",
   "name": "python",
   "nbconvert_exporter": "python",
   "pygments_lexer": "ipython3",
   "version": "3.8.10"
  }
 },
 "nbformat": 4,
 "nbformat_minor": 5
}
