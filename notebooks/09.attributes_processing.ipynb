{
 "cells": [
  {
   "cell_type": "markdown",
   "id": "421bf086",
   "metadata": {},
   "source": [
    "<br>\n",
    "<u>Notebook Nine</u> | \n",
    "<a href=https://leone.gdn/DLL target=_blank>Report</a> | \n",
    "<a href=https://github.com/andrealeone/DLL>Repository</a>\n",
    "<br><br>\n",
    "<b>Task 1: Attributes computation</b><br><br>\n",
    "Andrea Leone, Alessandro E. Piotti<br>\n",
    "Deep Learning Lab — University of Trento<br>\n",
    "December 2021\n",
    "<hr><br><br>"
   ]
  },
  {
   "cell_type": "code",
   "execution_count": 1,
   "id": "b0d34ae0",
   "metadata": {},
   "outputs": [],
   "source": [
    "import project \n",
    "\n",
    "import os\n",
    "import pandas          as pd\n",
    "import pickle\n",
    "\n",
    "import torch\n",
    "import torchvision\n",
    "import networks\n",
    "\n",
    "from tqdm.notebook import tqdm\n",
    "\n",
    "project.notebook()"
   ]
  },
  {
   "cell_type": "markdown",
   "id": "29a8e021",
   "metadata": {},
   "source": [
    "<hr><br><br>"
   ]
  },
  {
   "cell_type": "markdown",
   "id": "6deb032b",
   "metadata": {},
   "source": [
    "## Attributes processing"
   ]
  },
  {
   "cell_type": "markdown",
   "id": "0b9dee8d",
   "metadata": {},
   "source": [
    "<br><br>Load train, test and query images"
   ]
  },
  {
   "cell_type": "code",
   "execution_count": 2,
   "id": "2abce270",
   "metadata": {},
   "outputs": [],
   "source": [
    "images     =  dict() \n",
    "images_pkl = 'images.pkl'\n",
    "sets       = [ 'train', 'test', 'queries' ] \n",
    "irm        = torchvision.io.ImageReadMode.RGB \n",
    "\n",
    "if images_pkl in os.listdir('./data/'):\n",
    "    \n",
    "    with open('./data/' + images_pkl, 'rb') as file: \n",
    "        images = pickle.load( file )\n",
    "\n",
    "else:\n",
    "    \n",
    "    for key in sets: \n",
    "\n",
    "        path         = '../dataset/{}/'.format(key)\n",
    "        paths        = sorted([(path + file) for file in os.listdir(path)])\n",
    "        images[key]  = dict()\n",
    "\n",
    "        for image_file in tqdm(paths):\n",
    "\n",
    "            image_id = image_file.split('/')[-1].split('.')[0]\n",
    "            tensor   = torchvision.io.read_image( image_file,irm )\n",
    "            tensor   = tensor.unsqueeze(0).float()\n",
    "\n",
    "            images[key][image_id] = tensor\n",
    "    \n",
    "    with open('./data/' + images_pkl, 'wb') as file: \n",
    "        pickle.dump( images, file )"
   ]
  },
  {
   "cell_type": "markdown",
   "id": "524b7c55",
   "metadata": {},
   "source": [
    "<br><br>Load the model sources"
   ]
  },
  {
   "cell_type": "code",
   "execution_count": 3,
   "id": "3ef28eaa",
   "metadata": {},
   "outputs": [],
   "source": [
    "models  = pickle.load( open('./data/models.v2.pkl', 'rb') ) "
   ]
  },
  {
   "cell_type": "markdown",
   "id": "b93997fb",
   "metadata": {},
   "source": [
    "<br><br>Init the super-model"
   ]
  },
  {
   "cell_type": "code",
   "execution_count": 4,
   "id": "ae43c083",
   "metadata": {},
   "outputs": [],
   "source": [
    "model   = lambda _input : project.super_model(_input, src=models) "
   ]
  },
  {
   "cell_type": "markdown",
   "id": "23c38590",
   "metadata": {},
   "source": [
    "<br><br>Test the output"
   ]
  },
  {
   "cell_type": "code",
   "execution_count": 6,
   "id": "76e2415e",
   "metadata": {},
   "outputs": [
    {
     "name": "stdout",
     "output_type": "stream",
     "text": [
      "[2 1 2 1 1 2 2 1 1 2 1 2 1 1 1 1 1 1 1 2 1 1 1 1 1 1 1]\n"
     ]
    }
   ],
   "source": [
    "print( model( images['test']['000000'] ).int().detach().numpy() + 1 ) "
   ]
  },
  {
   "cell_type": "markdown",
   "id": "b51bb686",
   "metadata": {},
   "source": [
    "<br><br>Compute the attribute vectors from both test and query images"
   ]
  },
  {
   "cell_type": "code",
   "execution_count": null,
   "id": "ea06fd97",
   "metadata": {},
   "outputs": [],
   "source": [
    "attributes = dict() \n",
    "\n",
    "for key in sets:\n",
    "    \n",
    "    attributes[key] = dict()\n",
    "    tensors         = list( images[key].items() )\n",
    "    \n",
    "    for image_id, tensor in tqdm(tensors):\n",
    "        \n",
    "        attributes[key][image_id] = model( tensor ) + 1"
   ]
  },
  {
   "cell_type": "markdown",
   "id": "eaefc719",
   "metadata": {},
   "source": [
    "<br><br>Export the results"
   ]
  },
  {
   "cell_type": "code",
   "execution_count": null,
   "id": "ce421e4f",
   "metadata": {},
   "outputs": [],
   "source": [
    "v  = '2'                        # release version \n",
    "\n",
    "with open('./data/attributes.v{}.pkl'.format(v), 'wb') as file: \n",
    "    pickle.dump(attributes, file)\n",
    "\n",
    "for key in sets:\n",
    "    \n",
    "    pd.DataFrame( \n",
    "        data    = attributes[key].values(),\n",
    "        index   = attributes[key].keys(),\n",
    "        columns = [\n",
    "            'age', 'backpack', 'bag', 'handbag',\n",
    "            'clothes', 'down', 'up', 'hair', 'hat', 'gender',\n",
    "            'upblack', 'upwhite', 'upred', 'uppurple',\n",
    "            'upyellow', 'upgray', 'upblue', 'upgreen',\n",
    "            'downblack', 'downwhite', 'downpink', 'downpurple', 'downyellow',\n",
    "            'downgray', 'downblue', 'downgreen', 'downbrown'\n",
    "        ]\n",
    "    ).to_csv('./data/attributes.{}.v{}.csv'.format(key, v))"
   ]
  },
  {
   "cell_type": "markdown",
   "id": "2d647379",
   "metadata": {},
   "source": [
    "<br><br>"
   ]
  }
 ],
 "metadata": {
  "kernelspec": {
   "display_name": "Python 3 (ipykernel)",
   "language": "python",
   "name": "python3"
  },
  "language_info": {
   "codemirror_mode": {
    "name": "ipython",
    "version": 3
   },
   "file_extension": ".py",
   "mimetype": "text/x-python",
   "name": "python",
   "nbconvert_exporter": "python",
   "pygments_lexer": "ipython3",
   "version": "3.8.10"
  }
 },
 "nbformat": 4,
 "nbformat_minor": 5
}
