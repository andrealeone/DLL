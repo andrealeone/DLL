{
 "cells": [
  {
   "cell_type": "markdown",
   "id": "0a43c9b1",
   "metadata": {},
   "source": [
    "<br>\n",
    "<u>Notebook Three</u> | \n",
    "<a href=https://leone.gdn/DLL target=_blank>Report</a> | \n",
    "<a href=https://github.com/andrealeone/DLL>Repository</a>\n",
    "<br><br>\n",
    "<b>Task 1: Attribute classifiers</b><br><br>\n",
    "Andrea Leone, Alessandro E. Piotti<br>\n",
    "Deep Learning Lab — University of Trento<br>\n",
    "December 2021\n",
    "<hr><br><br>"
   ]
  },
  {
   "cell_type": "code",
   "execution_count": 1,
   "id": "b6b78df6",
   "metadata": {},
   "outputs": [],
   "source": [
    "import project \n",
    "\n",
    "import os\n",
    "import pickle\n",
    "import numpy             as np\n",
    "import pandas            as pd\n",
    "import matplotlib.pyplot as plt\n",
    "import random\n",
    "import collections\n",
    "\n",
    "import torch\n",
    "import torch.nn          as nn\n",
    "import torch.optim       as optim\n",
    "import torchvision\n",
    "import sklearn\n",
    "\n",
    "from tqdm.notebook   import tqdm\n",
    "\n",
    "project.notebook()"
   ]
  },
  {
   "cell_type": "code",
   "execution_count": 2,
   "id": "946b8adb",
   "metadata": {},
   "outputs": [],
   "source": [
    "images, annotations = project.load_resources() "
   ]
  },
  {
   "cell_type": "markdown",
   "id": "b9d875af",
   "metadata": {},
   "source": [
    "<hr><br><br>"
   ]
  },
  {
   "cell_type": "markdown",
   "id": "6ab4e32e",
   "metadata": {},
   "source": [
    "## `Hair` classifier"
   ]
  },
  {
   "cell_type": "markdown",
   "id": "28d930e3",
   "metadata": {},
   "source": [
    "<br><br>Load the train set, isolate the attribute as label, crop the image, and compute class weights"
   ]
  },
  {
   "cell_type": "code",
   "execution_count": 3,
   "id": "3c65f588",
   "metadata": {},
   "outputs": [
    {
     "data": {
      "application/vnd.jupyter.widget-view+json": {
       "model_id": "acb3990b32254eaf8ec6627060c009a7",
       "version_major": 2,
       "version_minor": 0
      },
      "text/plain": [
       "  0%|          | 0/12989 [00:00<?, ?it/s]"
      ]
     },
     "metadata": {},
     "output_type": "display_data"
    },
    {
     "name": "stdout",
     "output_type": "stream",
     "text": [
      "data:     Counter({0: 8411, 1: 4578})\n",
      "train:    Counter({0: 7208, 1: 3962})\n",
      "test:     Counter({0: 1203, 1: 616})\n"
     ]
    },
    {
     "data": {
      "image/png": "[encoded data removed]",
      "text/plain": [
       "<Figure size 1152x288 with 1 Axes>"
      ]
     },
     "metadata": {
      "needs_background": "light"
     },
     "output_type": "display_data"
    },
    {
     "data": {
      "text/plain": [
       "tensor([0.7748, 1.4096])"
      ]
     },
     "execution_count": 3,
     "metadata": {},
     "output_type": "execute_result"
    }
   ],
   "source": [
    "attribute  = 'hair' \n",
    "\n",
    "split_val  = 640                # 751-640=151\n",
    "dictionary = dict()\n",
    "irm        = torchvision.io.ImageReadMode.RGB\n",
    "\n",
    "for image_file in tqdm(images):\n",
    "    \n",
    "    image_id = int(image_file.split('/')[-1].split('_')[0])\n",
    "    \n",
    "    label    = annotations.loc[image_id][attribute] - 1\n",
    "    tensor   = torchvision.io.read_image( image_file,irm )\n",
    "    \n",
    "    ct = list()\n",
    "    for c,channel in enumerate(tensor):\n",
    "        ct.append( tensor[c][:35].numpy() )\n",
    "    \n",
    "    tensor   = torch.tensor(ct).float()\n",
    "    \n",
    "    if image_id not in dictionary:\n",
    "        dictionary[image_id] = list()\n",
    "        dictionary[image_id].append([tensor, label])\n",
    "    else:\n",
    "        dictionary[image_id].append([tensor, label])\n",
    "    \n",
    "data = list(dictionary.items())\n",
    "random.Random(3).shuffle(data)\n",
    "\n",
    "train_set, test_set = project.split_dataset(data,split_val)\n",
    "\n",
    "project.inspect_dataset(data,train_set,test_set)\n",
    "\n",
    "train_targets       = [y for _,y in train_set] \n",
    "train_class_weights = torch.tensor(\n",
    "    sklearn.utils.class_weight.compute_class_weight(\n",
    "        y=train_targets, classes=np.unique(train_targets),\n",
    "        class_weight='balanced'\n",
    "    ), dtype=torch.float\n",
    ")\n",
    "\n",
    "project.plot_image(train_set[0][0], fs=(16,4)) \n",
    "train_class_weights "
   ]
  },
  {
   "cell_type": "markdown",
   "id": "dfe1f860",
   "metadata": {},
   "source": [
    "<hr><br><br>Fit a pretrained ResNet50 architecture"
   ]
  },
  {
   "cell_type": "code",
   "execution_count": null,
   "id": "7ef0ea02",
   "metadata": {},
   "outputs": [],
   "source": [
    "v = '3_2'                       # model version \n",
    "e =  0                          # starting epoch\n",
    "\n",
    "\n",
    "model     = torchvision.models.resnet50(pretrained=True) \n",
    "model.fc  = nn.Linear(\n",
    "    in_features=model.fc.in_features,\n",
    "    out_features=2, bias=True\n",
    ")\n",
    "\n",
    "if e > 0:\n",
    "    w = './models/{}_resnet50.v{}.x{}.net'.format(attribute, v, e)\n",
    "    model.load_state_dict( torch.load(w) )\n",
    "\n",
    "\n",
    "optimizer = optim.AdamW(model.parameters(), lr=0.001)\n",
    "criterion = nn.CrossEntropyLoss(\n",
    "    weight=train_class_weights, reduction='mean'\n",
    ")\n",
    "\n",
    "\n",
    "for i in range(10): \n",
    "\n",
    "    model_name = '{}_resnet50.v{}.x{}.net'.format(attribute, v, e+i+1)\n",
    "\n",
    "    p = project.train(model, train_set,\n",
    "        criterion, optimizer, epochs=1, li=500, monobatch=True\n",
    "    )\n",
    "\n",
    "    r = project.test(model, test_set, monobatch=True)\n",
    "\n",
    "    project.save(model, './models/{}'.format(model_name))"
   ]
  },
  {
   "cell_type": "code",
   "execution_count": null,
   "id": "07020c80",
   "metadata": {},
   "outputs": [],
   "source": [
    "# SCORE BOARD \n",
    "# \n",
    "# net_design_name    | epochs | accuracy           | precision | recall\n",
    "#                    |        |                    |           |\n",
    "# resnet50 v0.1      |  1     | 0.6613523914238593 | 0.3306761 | 0.5\n",
    "# resnet50 v0.1      |  2     | 0.6613523914238593 | 0.3306761 | 0.5\n",
    "#                    |        |                    |           |\n",
    "# resnet50 v0.2      |  1     | 0.6322155030236394 | 0.4993275 | 0.4997550\n",
    "# resnet50 v0.2      |  2     | 0.6322155030236394 | 0.4993275 | 0.4997550\n",
    "#                    |        |                    |           |\n",
    "# resnet50 v3.2      |  1     | 0.6294667399670149 | 0.5560049 | 0.5424317\n",
    "# resnet50 v3.2      |  2     | 0.6305662451896646 | 0.5705125 | 0.5614818\n",
    "# resnet50 v3.2      |  3     | 0.6360637713029137 | 0.5947504 | 0.5953426\n",
    "# resnet50 v3.2      |  4*    | 0.6349642660802639 | 0.5985943 | 0.6020365\n",
    "# resnet50 v3.2      |  5     | 0.6305662451896646 | 0.6041116 | 0.6121776\n",
    "# resnet50 v3.2      |  6     | 0.6487080813633864 | 0.6189170 | 0.6262893\n",
    "# resnet50 v3.2      |  7     | 0.6377130291368884 | 0.6119256 | 0.6207492\n",
    "# resnet50 v3.2      |  8     | 0.6564046179219352 | 0.6239064 | 0.6297318\n",
    "# resnet50 v3.2      |  9     | 0.6805937328202310 | 0.6370832 | 0.6262360\n",
    "# resnet50 v3.2      | 10     | 0.6684991753710830 | 0.6267569 | 0.6230331\n",
    "#"
   ]
  },
  {
   "cell_type": "markdown",
   "id": "60e7fa47",
   "metadata": {},
   "source": [
    "<hr><br><br>Fit the custom CNN architecture"
   ]
  },
  {
   "cell_type": "code",
   "execution_count": null,
   "id": "4f5854de",
   "metadata": {
    "scrolled": true
   },
   "outputs": [],
   "source": [
    "v = '4'                         # model version \n",
    "e =  0                          # starting epoch\n",
    "\n",
    "\n",
    "model = project.CNN(512)\n",
    "\n",
    "if e > 0:\n",
    "    w = './models/{}_3cnv_5fc.v{}.x{}.net'.format(attribute, v, e)\n",
    "    model.load_state_dict( torch.load(w) )\n",
    "\n",
    "\n",
    "optimizer = optim.AdamW(model.parameters(), lr=0.002)\n",
    "criterion = nn.CrossEntropyLoss(\n",
    "    weight=train_class_weights, reduction='mean'\n",
    ")\n",
    "\n",
    "\n",
    "for i in range(10): \n",
    "\n",
    "    model_name = '{}_3cnv_5fc.v{}.x{}.net'.format(attribute, v, e+i+1)\n",
    "\n",
    "    p = project.train(model, train_set,\n",
    "        criterion, optimizer, epochs=1, li=500, monobatch=True\n",
    "    )\n",
    "\n",
    "    r = project.test(model, test_set, monobatch=True)\n",
    "\n",
    "    project.save(model, './models/{}'.format(model_name))"
   ]
  },
  {
   "cell_type": "code",
   "execution_count": null,
   "id": "75814702",
   "metadata": {},
   "outputs": [],
   "source": [
    "# SCORE BOARD \n",
    "# \n",
    "# net_design_name    | epochs | accuracy           | precision | recall\n",
    "#                    |        |                    |           |\n",
    "# c.cnn 3cnv_5fc v1  |  3     | 0.5684442001099506 | /         | /\n",
    "# c.cnn 3cnv_5fc v1  |  6     | 0.6311159978009896 | /         | /\n",
    "#                    |        |                    |           |\n",
    "# c.cnn 3cnv_5fc v2  |  3     | 0.5898845519516218 | /         | /\n",
    "# c.cnn 3cnv_5fc v2  |  6     | 0.6437603078614623 | /         | /\n",
    "# c.cnn 3cnv_5fc v2  |  8     | 0.5508521165475536 | /         | /\n",
    "#                    |        |                    |           |\n",
    "# c.cnn 3cnv_5fc v3  |  3     | 0.5415063221550303 | /         | /\n",
    "# c.cnn 3cnv_5fc v3  |  6     | 0.5953820780648708 | /         | /\n",
    "# c.cnn 3cnv_5fc v3  |  8     | 0.5629466739967015 | /         | /\n",
    "#                    |        |                    |           |\n",
    "# c.cnn 3cnv_5fc v4  |  1     | 0.5288620120945574 | 0.4806834 | 0.4802341\n",
    "# c.cnn 3cnv_5fc v4  |  2     | 0.4431006047278724 | 0.4701471 | 0.4676762\n",
    "# c.cnn 3cnv_5fc v4  |  3     | 0.4964266080263881 | 0.4627434 | 0.4600687\n",
    "# c.cnn 3cnv_5fc v4  |  4     | 0.5640461792193513 | 0.5062364 | 0.5060421\n",
    "# c.cnn 3cnv_5fc v4  |  5     | 0.5596481583287520 | 0.4779281 | 0.4809338\n",
    "# c.cnn 3cnv_5fc v4  |  6     | 0.6432105552501375 | 0.5673195 | 0.5441092\n",
    "# c.cnn 3cnv_5fc v4  |  7     | 0.5601979109400770 | 0.4762838 | 0.4797651\n",
    "# c.cnn 3cnv_5fc v4  |  8     | 0.5448048378229796 | 0.5036186 | 0.5037730\n",
    "# c.cnn 3cnv_5fc v4  |  9     | 0.5689939527212754 | 0.5235769 | 0.5240410\n",
    "# c.cnn 3cnv_5fc v4  | 10     | 0.5843870258383728 | 0.5194995 | 0.5178558\n",
    "# c.cnn 3cnv_5fc v4  | 11     | 0.6113249037932931 | 0.5090770 | 0.5057446\n",
    "# c.cnn 3cnv_5fc v4  | 12     | 0.5283122594832326 | 0.4936986 | 0.4932845\n",
    "# c.cnn 3cnv_5fc v4  | 13     | 0.5651456844420011 | 0.5125294 | 0.5124182\n",
    "# c.cnn 3cnv_5fc v4  | 14     | 0.5200659703133590 | 0.4935489 | 0.4929910\n",
    "# c.cnn 3cnv_5fc v4  | 15     | 0.6228697086311160 | 0.5403671 | 0.5287309\n",
    "# c.cnn 3cnv_5fc v4  | 16     | 0.6036283672347443 | 0.5473909 | 0.5446806\n",
    "# c.cnn 3cnv_5fc v4  | 17     | 0.5645959318306762 | 0.5180370 | 0.5183396\n",
    "# c.cnn 3cnv_5fc v4  | 18     | 0.5711929631665751 | 0.5161779 | 0.5158019\n",
    "# c.cnn 3cnv_5fc v4  | 19     | 0.5398570643210555 | 0.5397684 | 0.5443912\n",
    "# c.cnn 3cnv_5fc v4  | 20     | 0.6036283672347443 | 0.5347599 | 0.5300264\n",
    "#\n",
    "# c.cnn 3cnv_5fc v5  |  1     | 0.5717427157778999 | 0.5285048 | 0.5292876\n",
    "# c.cnn 3cnv_5fc v5  |  2     | 0.5695437053326003 | 0.5496910 | 0.5545572\n",
    "# c.cnn 3cnv_5fc v5  |  3     | 0.5486531061022540 | 0.5187238 | 0.5201485\n",
    "# c.cnn 3cnv_5fc v5  |  4     | 0.5634964266080263 | 0.5246804 | 0.5258256\n",
    "# c.cnn 3cnv_5fc v5  |  5     | 0.5794392523364486 | 0.5574707 | 0.5628306\n",
    "# c.cnn 3cnv_5fc v5  |  6     | 0.5574491478834525 | 0.5363766 | 0.5398685\n",
    "# c.cnn 3cnv_5fc v5  |  7     | 0.5557998900494777 | 0.5263100 | 0.5283241\n",
    "# c.cnn 3cnv_5fc v5  |  8     | 0.5316107751511819 | 0.5158866 | 0.5175616\n",
    "# c.cnn 3cnv_5fc v5  |  9     | 0.5310610225398571 | 0.5070026 | 0.5076405\n",
    "# c.cnn 3cnv_5fc v5  | 10     | 0.5343595382078065 | 0.5107329 | 0.5117185\n",
    "#"
   ]
  },
  {
   "cell_type": "markdown",
   "id": "139bbfd3",
   "metadata": {},
   "source": [
    "<hr><br><br>"
   ]
  },
  {
   "cell_type": "markdown",
   "id": "a7722c5b",
   "metadata": {},
   "source": [
    "## `Hat` classifier"
   ]
  },
  {
   "cell_type": "markdown",
   "id": "8f90f6ec",
   "metadata": {},
   "source": [
    "<br><br>Load the train set, isolate the attribute as label, crop the image, and compute class weights"
   ]
  },
  {
   "cell_type": "code",
   "execution_count": 6,
   "id": "7265517c",
   "metadata": {},
   "outputs": [
    {
     "data": {
      "application/vnd.jupyter.widget-view+json": {
       "model_id": "801a030c66114802b84a40a242914123",
       "version_major": 2,
       "version_minor": 0
      },
      "text/plain": [
       "  0%|          | 0/12989 [00:00<?, ?it/s]"
      ]
     },
     "metadata": {},
     "output_type": "display_data"
    },
    {
     "name": "stdout",
     "output_type": "stream",
     "text": [
      "data:     Counter({0: 12634, 1: 355})\n",
      "train:    Counter({0: 10834, 1: 336})\n",
      "test:     Counter({0: 1800, 1: 19})\n"
     ]
    },
    {
     "data": {
      "image/png": "[encoded data removed]",
      "text/plain": [
       "<Figure size 1152x288 with 1 Axes>"
      ]
     },
     "metadata": {
      "needs_background": "light"
     },
     "output_type": "display_data"
    },
    {
     "data": {
      "text/plain": [
       "tensor([ 0.5155, 16.6220])"
      ]
     },
     "execution_count": 6,
     "metadata": {},
     "output_type": "execute_result"
    }
   ],
   "source": [
    "attribute  = 'hat' \n",
    "\n",
    "split_val  = 640                # 751-640=151\n",
    "dictionary = dict()\n",
    "irm        = torchvision.io.ImageReadMode.RGB\n",
    "\n",
    "for image_file in tqdm(images):\n",
    "    \n",
    "    image_id = int(image_file.split('/')[-1].split('_')[0])\n",
    "    \n",
    "    label    = annotations.loc[image_id][attribute] - 1\n",
    "    tensor   = torchvision.io.read_image( image_file,irm )\n",
    "    \n",
    "    ct = list()\n",
    "    for c,channel in enumerate(tensor):\n",
    "        ct.append( tensor[c][:35].numpy() )\n",
    "    \n",
    "    tensor   = torch.tensor(ct).float()\n",
    "    \n",
    "    if image_id not in dictionary:\n",
    "        dictionary[image_id] = list()\n",
    "        dictionary[image_id].append([tensor, label])\n",
    "    else:\n",
    "        dictionary[image_id].append([tensor, label])\n",
    "    \n",
    "data = list(dictionary.items())\n",
    "random.Random(3).shuffle(data)\n",
    "\n",
    "train_set, test_set = project.split_dataset(data,split_val)\n",
    "\n",
    "project.inspect_dataset(data,train_set,test_set)\n",
    "\n",
    "train_targets       = [y for _,y in train_set] \n",
    "train_class_weights = torch.tensor(\n",
    "    sklearn.utils.class_weight.compute_class_weight(\n",
    "        y=train_targets, classes=np.unique(train_targets),\n",
    "        class_weight='balanced'\n",
    "    ), dtype=torch.float\n",
    ")\n",
    "\n",
    "project.plot_image(train_set[0][0], fs=(16,4)) \n",
    "train_class_weights "
   ]
  },
  {
   "cell_type": "markdown",
   "id": "b27b2995",
   "metadata": {},
   "source": [
    "<hr><br><br>Fit a pretrained ResNet50 architecture"
   ]
  },
  {
   "cell_type": "code",
   "execution_count": null,
   "id": "f722993a",
   "metadata": {},
   "outputs": [],
   "source": [
    "v = '3_2'                       # model version \n",
    "e =  0                          # starting epoch\n",
    "\n",
    "model     = torchvision.models.resnet50(pretrained=True) \n",
    "model.fc  = nn.Linear(\n",
    "    in_features=model.fc.in_features,\n",
    "    out_features=2, bias=True\n",
    ")\n",
    "\n",
    "if e > 0:\n",
    "    w = './models/{}_resnet50.v{}.x{}.net'.format(attribute, v, e)\n",
    "    model.load_state_dict( torch.load(w) )\n",
    "\n",
    "\n",
    "optimizer = optim.AdamW(model.parameters(), lr=0.001)\n",
    "criterion = nn.CrossEntropyLoss(\n",
    "    weight=train_class_weights, reduction='mean'\n",
    ")\n",
    "\n",
    "\n",
    "for i in range(10): \n",
    "\n",
    "    model_name = '{}_resnet50.v{}.x{}.net'.format(attribute, v, e+i+1)\n",
    "\n",
    "    p = project.train(model, train_set,\n",
    "        criterion, optimizer, epochs=1, li=500, monobatch=True\n",
    "    )\n",
    "\n",
    "    r = project.test(model, test_set, monobatch=True)\n",
    "\n",
    "    project.save(model, './models/{}'.format(model_name))"
   ]
  },
  {
   "cell_type": "code",
   "execution_count": null,
   "id": "30ad7440",
   "metadata": {},
   "outputs": [],
   "source": [
    "# SCORE BOARD \n",
    "# \n",
    "# net_design_name    | epochs | accuracy           | precision | recall\n",
    "#                    |        |                    |           |\n",
    "# resnet50 v0.1      |  1     | 0.9906542056074766 | 0.9953219 | 0.5526315\n",
    "# resnet50 v0.1      |  2     | 0.9752611324903794 | 0.5841273 | 0.6750438\n",
    "# resnet50 v0.1      |  3     | 0.9802089059923035 | 0.5998169 | 0.6515058\n",
    "# resnet50 v0.1      |  4     | 0.9873556899395272 | 0.6625161 | 0.6030409\n",
    "# resnet50 v0.1      |  5     | 0.9868059373282023 | 0.6627864 | 0.6288011\n",
    "# resnet50 v0.1      |  6     | 0.9840571742715778 | 0.6327464 | 0.6534502\n",
    "#                    |        |                    |           |\n",
    "# resnet50 v0.2      |  1     | 0.9895547003848268 | 0.4947773 | 0.5\n",
    "# resnet50 v0.2      |  2     | 0.9873556899395272 | 0.4947658 | 0.4988888\n",
    "# resnet50 v0.2      |  3     | 0.9835074216602528 | 0.6010964 | 0.6010964\n",
    "# resnet50 v0.2      |  4     | 0.9796591533809785 | 0.5963666 | 0.6512280\n",
    "# resnet50 v0.2      |  5     | 0.9791094007696537 | 0.6027011 | 0.6769883\n",
    "# resnet50 v0.2      |  6*    | 0.9725123694337549 | 0.5890118 | 0.7257309\n",
    "#                    |        |                    |           |\n",
    "# resnet50 v3.2      |  1     | 0.9895547003848268 | 0.4947774 | 0.5\n",
    "# resnet50 v3.2      |  2     | 0.9895547003848268 | 0.4947774 | 0.5\n",
    "# resnet50 v3.2      |  3     | 0.9895547003848268 | 0.4947774 | 0.5\n",
    "# resnet50 v3.2      |  4     | 0.9895547003848268 | 0.4947774 | 0.5\n",
    "# resnet50 v3.2      |  5     | 0.9895547003848268 | 0.4947774 | 0.5\n",
    "# resnet50 v3.2      |  6     | 0.9791094007696537 | 0.5188040 | 0.5207602\n",
    "# resnet50 v3.2      |  7     | 0.9890049477735019 | 0.6617107 | 0.5257602\n",
    "# resnet50 v3.2      |  8     | 0.9895547003848268 | 0.4947774 | 0.5\n",
    "# resnet50 v3.2      |  9     | 0.9868059373282023 | 0.5664617 | 0.5246491\n",
    "# resnet50 v3.2      | 10     | 0.9901044529961517 | 0.8286527 | 0.5523538\n",
    "#"
   ]
  },
  {
   "cell_type": "markdown",
   "id": "b667facf",
   "metadata": {},
   "source": [
    "<hr><br><br>Fit the custom CNN architecture"
   ]
  },
  {
   "cell_type": "code",
   "execution_count": null,
   "id": "044fa0d0",
   "metadata": {},
   "outputs": [],
   "source": [
    "v = '4'                         # model version \n",
    "e =  0                          # epoch counter\n",
    "\n",
    "model = project.CNN(512)\n",
    "\n",
    "if e > 0:\n",
    "    w = './models/{}_3cnv_5fc.v{}.x{}.net'.format(attribute, v, e)\n",
    "    model.load_state_dict( torch.load(w) )\n",
    "\n",
    "\n",
    "optimizer = optim.AdamW(model.parameters(), lr=0.002)\n",
    "criterion = nn.CrossEntropyLoss(\n",
    "    weight=train_class_weights, reduction='mean'\n",
    ")\n",
    "\n",
    "\n",
    "for i in range(10): \n",
    "\n",
    "    model_name = '{}_3cnv_5fc.v{}.x{}.net'.format(attribute, v, e+i+1)\n",
    "\n",
    "    p = project.train(model, train_set,\n",
    "        criterion, optimizer, epochs=1, li=500, monobatch=True\n",
    "    )\n",
    "\n",
    "    r = project.test(model, test_set, monobatch=True)\n",
    "\n",
    "    project.save(model, './models/{}'.format(model_name))"
   ]
  },
  {
   "cell_type": "code",
   "execution_count": null,
   "id": "96dbb145",
   "metadata": {},
   "outputs": [],
   "source": [
    "# SCORE BOARD \n",
    "# \n",
    "# net_design_name    | epochs | accuracy           | precision | recall\n",
    "#                    |        |                    |           |\n",
    "# c.cnn 3cnv_5fc v4  |  1     | 0.9681143485431556 | 0.4946629 | 0.4891667\n",
    "# c.cnn 3cnv_5fc v4  |  2     | 0.9648158328752061 | 0.4946449 | 0.4875000\n",
    "# c.cnn 3cnv_5fc v4  |  3     | 0.9895547003848268 | 0.4947774 | 0.5\n",
    "# c.cnn 3cnv_5fc v4  |  4     | 0.9890049477735019 | 0.4947745 | 0.4997222\n",
    "# c.cnn 3cnv_5fc v4  |  5     | 0.9895547003848268 | 0.4947774 | 0.5\n",
    "# c.cnn 3cnv_5fc v4  |  6     | 0.9862561847168774 | 0.4947601 | 0.4983333\n",
    "# c.cnn 3cnv_5fc v4  |  7     | 0.9334799340296867 | 0.5137933 | 0.5758187\n",
    "# c.cnn 3cnv_5fc v4  |  8     | 0.9593183067619572 | 0.4946145 | 0.4847222\n",
    "# c.cnn 3cnv_5fc v4  |  9     | 0.9818581638262782 | 0.4947368 | 0.4961111\n",
    "# c.cnn 3cnv_5fc v4  | 10     | 0.9884551951621771 | 0.4947716 | 0.4994444\n",
    "#"
   ]
  },
  {
   "cell_type": "markdown",
   "id": "c6d0f84c",
   "metadata": {},
   "source": [
    "<br><br>"
   ]
  }
 ],
 "metadata": {
  "kernelspec": {
   "display_name": "Python 3 (ipykernel)",
   "language": "python",
   "name": "python3"
  },
  "language_info": {
   "codemirror_mode": {
    "name": "ipython",
    "version": 3
   },
   "file_extension": ".py",
   "mimetype": "text/x-python",
   "name": "python",
   "nbconvert_exporter": "python",
   "pygments_lexer": "ipython3",
   "version": "3.8.10"
  }
 },
 "nbformat": 4,
 "nbformat_minor": 5
}
