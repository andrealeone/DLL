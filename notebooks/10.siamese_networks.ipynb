{
 "cells": [
  {
   "cell_type": "markdown",
   "id": "adf5cfa4",
   "metadata": {},
   "source": [
    "<br>\n",
    "<u>Notebook Ten</u> | \n",
    "<a href=https://leone.gdn/DLL target=_blank>Report</a> | \n",
    "<a href=https://github.com/andrealeone/DLL>Repository</a>\n",
    "<br><br>\n",
    "<b>Task 2: Siamese Net</b><br><br>\n",
    "Andrea Leone, Alessandro E. Piotti<br>\n",
    "Deep Learning Lab — University of Trento<br>\n",
    "December 2021\n",
    "<hr><br><br>"
   ]
  },
  {
   "cell_type": "code",
   "execution_count": 1,
   "id": "60144ee7",
   "metadata": {},
   "outputs": [],
   "source": [
    "import project \n",
    "\n",
    "import os\n",
    "import numpy             as np\n",
    "import scipy             as sp\n",
    "import pandas            as pd\n",
    "import matplotlib.pyplot as plt\n",
    "import random\n",
    "import pickle\n",
    "import collections\n",
    "\n",
    "import torch\n",
    "import torch.nn          as nn\n",
    "import torch.optim       as optim\n",
    "import torchvision\n",
    "\n",
    "from tqdm.notebook   import tqdm\n",
    "\n",
    "project.notebook()"
   ]
  },
  {
   "cell_type": "code",
   "execution_count": 2,
   "id": "ec911218",
   "metadata": {},
   "outputs": [],
   "source": [
    "_, annotations = project.load_resources() "
   ]
  },
  {
   "cell_type": "markdown",
   "id": "dde079c0",
   "metadata": {},
   "source": [
    "<hr><br><br>"
   ]
  },
  {
   "cell_type": "markdown",
   "id": "9b722460",
   "metadata": {},
   "source": [
    "## Content-Based Image Retrieval<br>with Siamese Networks"
   ]
  },
  {
   "cell_type": "markdown",
   "id": "55fe5533",
   "metadata": {},
   "source": [
    "<br><br>Load the pickled data (from nb. 8)"
   ]
  },
  {
   "cell_type": "code",
   "execution_count": 3,
   "id": "8ae42d26",
   "metadata": {},
   "outputs": [],
   "source": [
    "with open('./data/image_dict.train.v2.pkl', 'rb') as file: \n",
    "    dictionary = pickle.load(file) "
   ]
  },
  {
   "cell_type": "markdown",
   "id": "c512ebc2",
   "metadata": {},
   "source": [
    "<br><br>Generate triplets on demand using training id labels"
   ]
  },
  {
   "cell_type": "code",
   "execution_count": 4,
   "id": "c34fb8df",
   "metadata": {},
   "outputs": [],
   "source": [
    "ids = list( dictionary.keys() ) \n",
    "\n",
    "def generate_triplets(tmf=2): \n",
    "    \n",
    "    triplets = list() \n",
    "    for _id in ids: \n",
    "        \n",
    "        tmp_ids = list(ids)\n",
    "        for a,_ in dictionary[_id]:\n",
    "            \n",
    "            if _id in tmp_ids:\n",
    "                tmp_ids.remove(_id)\n",
    "            \n",
    "            for _ in range(tmf):\n",
    "                \n",
    "                p = random.choice( dictionary[_id] )[0] \n",
    "                n = dictionary[ random.choice(tmp_ids) ][0][0] \n",
    "                \n",
    "                triplets.append([ a, p, n ])\n",
    "    \n",
    "    return triplets"
   ]
  },
  {
   "cell_type": "markdown",
   "id": "9dcd8aee",
   "metadata": {},
   "source": [
    "<br><br>Define the test sample-encoding network"
   ]
  },
  {
   "cell_type": "code",
   "execution_count": 5,
   "id": "98b94e2d",
   "metadata": {},
   "outputs": [],
   "source": [
    "class Network(nn.Module): \n",
    "    \n",
    "    def __init__(self):\n",
    "        super().__init__()\n",
    "        \n",
    "        self.cnv1 = nn.Conv2d( 3, 30, kernel_size=(5,5))\n",
    "        self.cnv2 = nn.Conv2d(30, 20, kernel_size=(4,4))\n",
    "        self.cnv3 = nn.Conv2d(20, 10, kernel_size=(3,3))\n",
    "        \n",
    "        self.bn1  = nn.BatchNorm2d(30)\n",
    "        self.bn2  = nn.BatchNorm2d(20)\n",
    "        self.bn3  = nn.BatchNorm2d(10)\n",
    "        \n",
    "        self.pool = nn.MaxPool2d(kernel_size=(3,3), stride=(2,2))\n",
    "        self.drop = nn.Dropout(p=0.25)\n",
    "        \n",
    "        self.fc1  = nn.Linear(480, 240)\n",
    "        self.fc2  = nn.Linear(240, 120)\n",
    "        self.fc3  = nn.Linear(120,  10)\n",
    "        self.fc4  = nn.Linear( 10,  10)\n",
    "        self.fc5  = nn.Linear( 10,   2)\n",
    "    \n",
    "    def forward(self, x):\n",
    "        \n",
    "        x = nn.functional.relu( self.cnv1(x) )\n",
    "        x = self.bn1(x)\n",
    "        x = self.pool(x)\n",
    "        \n",
    "        x = nn.functional.relu( self.cnv2(x) )\n",
    "        x = self.bn2(x)\n",
    "        x = self.pool(x)\n",
    "        \n",
    "        x = nn.functional.relu( self.cnv3(x) )\n",
    "        x = self.bn3(x)\n",
    "        x = self.pool(x)\n",
    "        \n",
    "        x = x.reshape(x.shape[0], -1)\n",
    "        x = self.drop(x)\n",
    "        \n",
    "        x = nn.functional.relu( self.fc1(x) )\n",
    "        x = nn.functional.relu( self.fc2(x) )\n",
    "        x = nn.functional.relu( self.fc3(x) )\n",
    "        x = nn.functional.relu( self.fc4(x) )\n",
    "        x = nn.functional.tanh( self.fc5(x) )\n",
    "        \n",
    "        return x"
   ]
  },
  {
   "cell_type": "code",
   "execution_count": 6,
   "id": "4222183e",
   "metadata": {},
   "outputs": [],
   "source": [
    "v = '4'                         # model version \n",
    "e =  0                          # starting epoch\n",
    "\n",
    "\n",
    "model = Network()\n",
    "\n",
    "optimizer = optim.Adam(model.parameters())\n",
    "criterion = nn.TripletMarginLoss(\n",
    "    margin=1.0, reduction='mean'\n",
    ")\n",
    "\n",
    "if e > 0:\n",
    "    w = './models/siamese_cnn.v{}.x{}.net'.format(v, e)\n",
    "    model.load_state_dict( torch.load(w) )"
   ]
  },
  {
   "cell_type": "markdown",
   "id": "7c64ee92",
   "metadata": {},
   "source": [
    "<br><br>Train the siamese network"
   ]
  },
  {
   "cell_type": "code",
   "execution_count": null,
   "id": "b74e117f",
   "metadata": {
    "scrolled": false
   },
   "outputs": [],
   "source": [
    "epochs =   10 \n",
    "li     = 1000\n",
    "\n",
    "model.train()\n",
    "\n",
    "performance = list()\n",
    "for epoch in range(epochs): \n",
    "    \n",
    "    model_name = 'siamese_cnn.v{}.x{}.net'.format(v, epoch+e+1)\n",
    "    print('\\n{}) v{} → {}'.format(epoch+e+1, v, model_name))\n",
    "    \n",
    "    triplets = generate_triplets(tmf=3)\n",
    "    random.shuffle( triplets ) \n",
    "    \n",
    "    current_loss = 0.0\n",
    "    for i, triplet in tqdm(list( enumerate(triplets) )):\n",
    "        \n",
    "        a, p, n = triplet\n",
    "        \n",
    "        optimizer.zero_grad()\n",
    "        \n",
    "        a = model(a)\n",
    "        p = model(p)\n",
    "        n = model(n)\n",
    "        \n",
    "        loss = criterion( a, p, n )\n",
    "        loss.backward()\n",
    "        optimizer.step()\n",
    "        \n",
    "        current_loss += loss.item()\n",
    "        performance.append( (epoch, loss.item()) )\n",
    "        \n",
    "        if (i+1) % li == 0:\n",
    "            print('loss  %5d:  %.3f' % (i+1, current_loss/li))\n",
    "            current_loss = 0.0\n",
    "\n",
    "        project.save(model, './models/{}'.format(model_name))"
   ]
  },
  {
   "cell_type": "code",
   "execution_count": null,
   "id": "ed41ec0a",
   "metadata": {},
   "outputs": [],
   "source": [
    "# SCORE BOARD \n",
    "# \n",
    "# net_design_name    | epochs | average loss      | notes\n",
    "#                    |        |                   |\n",
    "# siamese_cnn_v4     |  1     | 0.58715686274509  |\n",
    "# siamese_cnn_v4     |  2     | 0.30666666666666  |\n",
    "# siamese_cnn_v4     |  3     | 0.17466666666666  |\n",
    "# siamese_cnn_v4     |  4     | 0.13478431372549  |\n",
    "# siamese_cnn_v4     |  5     | 0.12039215686274  |\n",
    "# siamese_cnn_v4     |  6     | 0.10629411764705  |\n",
    "# siamese_cnn_v4     |  7     | 0.09441176470588  |\n",
    "# siamese_cnn_v4     |  8     | 0.09631372549019  |\n",
    "# siamese_cnn_v4     |  9     | 0.09070588235294  |\n",
    "# siamese_cnn_v4     | 10     | 0.11135294117647  |\n",
    "# siamese_cnn_v4     | 11     | 0.14139215686274  |\n",
    "# siamese_cnn_v4     | 12     | 0.19764705882352  |\n",
    "# siamese_cnn_v4     | 13     | 0.19994117647058  |\n",
    "# siamese_cnn_v4     | 14     | 0.18950980392156  |\n",
    "# siamese_cnn_v4     | 15     | 0.18447058823529  |\n",
    "# siamese_cnn_v4.2   | 16     | 0.35505882352941  | increased TML margin\n",
    "# siamese_cnn_v4.2   | 17     | 0.37145098039215  |  \"\n",
    "# siamese_cnn_v4.2   | 18     | 0.38358823529411  |  \"\n",
    "# siamese_cnn_v4.2   | 19     | 0.36721568627450  |  \"\n",
    "# siamese_cnn_v4.2   | 20     | 0.37098039215686  |  \"\n",
    "# siamese_cnn_v4.2   | 21     | 0.35529411764705  |  \"\n",
    "# siamese_cnn_v4     | 22     | 0.11717647058823  | \n",
    "# siamese_cnn_v4     | 23     | 0.16431372549019  |\n",
    "# siamese_cnn_v4     | 24     | 0.15760784313725  |\n",
    "# siamese_cnn_v4     | 25     | 0.15139215686274  |\n",
    "# siamese_cnn_v4     | 26     | 0.14656862745098  |\n",
    "# siamese_cnn_v4     | 27     | 0.15670588235294  |\n",
    "# siamese_cnn_v4     | 28     | 0.14998039215686  |\n",
    "# siamese_cnn_v4     | 29     | 0.15960784313725  |\n",
    "# siamese_cnn_v4     | 30     | 0.14258823529411  |"
   ]
  },
  {
   "cell_type": "markdown",
   "id": "5fb095eb",
   "metadata": {},
   "source": [
    "<br><br>Show performance"
   ]
  },
  {
   "cell_type": "code",
   "execution_count": 7,
   "id": "e3ab1479",
   "metadata": {},
   "outputs": [
    {
     "data": {
      "image/png": "[encoded data removed]",
      "text/plain": [
       "<Figure size 864x432 with 1 Axes>"
      ]
     },
     "metadata": {
      "needs_background": "light"
     },
     "output_type": "display_data"
    }
   ],
   "source": [
    "dat = './data/siamese_network.v4_0.performance.dat' \n",
    "project.plot_performance(dat, lims=(0,1)) "
   ]
  },
  {
   "cell_type": "markdown",
   "id": "30cfeeab",
   "metadata": {},
   "source": [
    "Show performance of previous attempt"
   ]
  },
  {
   "cell_type": "code",
   "execution_count": 8,
   "id": "d73d2e84",
   "metadata": {},
   "outputs": [
    {
     "data": {
      "image/png": "[encoded data removed]",
      "text/plain": [
       "<Figure size 864x432 with 1 Axes>"
      ]
     },
     "metadata": {
      "needs_background": "light"
     },
     "output_type": "display_data"
    }
   ],
   "source": [
    "dat = './data/siamese_network.v4_2.performance.dat' \n",
    "project.plot_performance(dat, lims=(0,1)) "
   ]
  },
  {
   "cell_type": "markdown",
   "id": "132fd584",
   "metadata": {},
   "source": [
    "<br><br>"
   ]
  }
 ],
 "metadata": {
  "kernelspec": {
   "display_name": "Python 3 (ipykernel)",
   "language": "python",
   "name": "python3"
  },
  "language_info": {
   "codemirror_mode": {
    "name": "ipython",
    "version": 3
   },
   "file_extension": ".py",
   "mimetype": "text/x-python",
   "name": "python",
   "nbconvert_exporter": "python",
   "pygments_lexer": "ipython3",
   "version": "3.8.10"
  }
 },
 "nbformat": 4,
 "nbformat_minor": 5
}
