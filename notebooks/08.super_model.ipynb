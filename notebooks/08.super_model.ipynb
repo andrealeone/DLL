{
 "cells": [
  {
   "cell_type": "markdown",
   "id": "708fd665",
   "metadata": {},
   "source": [
    "<br>\n",
    "<u>Notebook Eight</u> | \n",
    "<a href=https://leone.gdn/DLL target=_blank>Report</a> | \n",
    "<a href=https://github.com/andrealeone/DLL>Repository</a>\n",
    "<br><br>\n",
    "<b>Task 1: The Super-Model</b><br><br>\n",
    "Andrea Leone, Alessandro E. Piotti<br>\n",
    "Deep Learning Lab — University of Trento<br>\n",
    "December 2021\n",
    "<hr><br><br>"
   ]
  },
  {
   "cell_type": "code",
   "execution_count": 1,
   "id": "affb14dc",
   "metadata": {},
   "outputs": [],
   "source": [
    "import project \n",
    "import networks\n",
    "\n",
    "import os\n",
    "import numpy             as np\n",
    "import pandas            as pd\n",
    "import matplotlib.pyplot as plt\n",
    "import random\n",
    "import pickle\n",
    "import collections\n",
    "\n",
    "import torch\n",
    "import torch.nn          as nn\n",
    "import torch.optim       as optim\n",
    "import torchvision\n",
    "import networks\n",
    "\n",
    "from tqdm.notebook   import tqdm\n",
    "\n",
    "project.notebook()"
   ]
  },
  {
   "cell_type": "code",
   "execution_count": 2,
   "id": "e90a6e59",
   "metadata": {},
   "outputs": [],
   "source": [
    "images, annotations = project.load_resources() "
   ]
  },
  {
   "cell_type": "markdown",
   "id": "1e266b8e",
   "metadata": {},
   "source": [
    "<hr><br><br>"
   ]
  },
  {
   "cell_type": "markdown",
   "id": "f6daa280",
   "metadata": {},
   "source": [
    "## Super-model"
   ]
  },
  {
   "cell_type": "markdown",
   "id": "3d9dd2bc",
   "metadata": {},
   "source": [
    "<br><br>Load the data"
   ]
  },
  {
   "cell_type": "code",
   "execution_count": 3,
   "id": "754b0628",
   "metadata": {},
   "outputs": [
    {
     "data": {
      "application/vnd.jupyter.widget-view+json": {
       "model_id": "c235dfea738c4c1a81da9a71bb1ffe63",
       "version_major": 2,
       "version_minor": 0
      },
      "text/plain": [
       "  0%|          | 0/12989 [00:00<?, ?it/s]"
      ]
     },
     "metadata": {},
     "output_type": "display_data"
    }
   ],
   "source": [
    "dictionary = dict() \n",
    "split_val  = 640                # 751-640=151\n",
    "irm        = torchvision.io.ImageReadMode.RGB\n",
    "device     = torch.device('cpu') \n",
    "\n",
    "for image_file in tqdm(images):\n",
    "    \n",
    "    image_id  = image_file.split('/')[-1].split('_')[0]\n",
    "    \n",
    "    labels    = annotations.loc[int( image_id )].to_numpy() - 1 \n",
    "    tensor    = torchvision.io.read_image( image_file, irm ).float()\n",
    "\n",
    "    channels, height, width = tensor.shape\n",
    "    tensor    = tensor.reshape(1, channels, height, width).to(device)\n",
    "    \n",
    "    if image_id not in dictionary:\n",
    "        dictionary[image_id] = list()\n",
    "        dictionary[image_id].append([tensor, labels])\n",
    "    else:\n",
    "        dictionary[image_id].append([tensor, labels])\n",
    "    \n",
    "data = list(dictionary.items())\n",
    "random.Random(3).shuffle(data)\n",
    "\n",
    "train_set, test_set = project.split_dataset(data,split_val)"
   ]
  },
  {
   "cell_type": "markdown",
   "id": "91a25d6a",
   "metadata": {},
   "source": [
    "<br><br>Load the models"
   ]
  },
  {
   "cell_type": "code",
   "execution_count": 4,
   "id": "c57876fa",
   "metadata": {},
   "outputs": [],
   "source": [
    "models = { \n",
    "\n",
    "    'gender':   ( './models/gender_resnet50.v1.x7.net',   networks.ResNet50() ), # 6144\n",
    "    'hair':     ( './models/hair_resnet50.v3.x4.net',     networks.ResNet50() ), #  512\n",
    "    'hat':      ( './models/hat_resnet50.v2.x6.net',      networks.ResNet50() ), #  512\n",
    "    'clothes':  ( './models/clothes_resnet50.v1.x6.net',  networks.ResNet50() ), # 2048\n",
    "    'up':       ( './models/up_resnet50.v1.x5.net',       networks.ResNet50() ), # 2048\n",
    "    'down':     ( './models/down_resnet50.v1.x6.net',     networks.ResNet50() ), # 2048\n",
    "    'backpack': ( './models/backpack_resnet50.v1.x3.net', networks.ResNet50() ), # 2048\n",
    "    'bag':      ( './models/bag_resnet50.v1.x5.net',      networks.ResNet50() ), # 2048\n",
    "    'handbag':  ( './models/handbag_resnet50.v1.x5.net',  networks.ResNet50() ), # 2048\n",
    "\n",
    "}\n",
    "\n",
    "for k, lib in models.items(): \n",
    "\n",
    "    weights_dir, model = models[k]\n",
    "    model.load_state_dict( torch.load( weights_dir, map_location=device ) )\n",
    "\n",
    "    models[k] = model"
   ]
  },
  {
   "cell_type": "code",
   "execution_count": 5,
   "id": "d3054c0a",
   "metadata": {},
   "outputs": [],
   "source": [
    "models_ensemble = { \n",
    "\n",
    "    'age': {\n",
    "        'ensemble': ('./models/age_ensemble.v1_0.x20.net', networks.lib()['age']),\n",
    "        'models_src': [\n",
    "            ( './models/age_3cnv_5fc_f0.v4.x10.net',           networks.CNN(6144) ),\n",
    "            ( './models/age_3cnv_5fc_f1.v4.x10.net',           networks.CNN(6144) ),\n",
    "            ( './models/age_3cnv_5fc_f2.v4.x10.net',           networks.CNN(6144) ),\n",
    "            ( './models/age_3cnv_5fc_f3.v4.x10.net',           networks.CNN(6144) )\n",
    "        ]\n",
    "    },\n",
    "\n",
    "    'colors_up': {\n",
    "        'ensemble': ('./models/colors_up_ensemble.v1_2.x10.net', networks.lib()['colors_up']),\n",
    "        'models_src': [\n",
    "            ( './models/colors_up_resnet50_f0.v3_2.x22.net',   networks.ResNet50() ),\n",
    "            ( './models/colors_up_resnet50_f1.v3_2.x8.net',    networks.ResNet50() ),\n",
    "            ( './models/colors_up_resnet50_f2.v3_2.x3.net',    networks.ResNet50() ),\n",
    "            ( './models/colors_up_resnet50_f3.v3_2.x3.net',    networks.ResNet50() ),\n",
    "            ( './models/colors_up_resnet50_f4.v3_2.x5.net',    networks.ResNet50() ),\n",
    "            ( './models/colors_up_resnet50_f5.v3_2.x4.net',    networks.ResNet50() ),\n",
    "            ( './models/colors_up_resnet50_f6.v3_2.x12.net',   networks.ResNet50() ),\n",
    "            ( './models/colors_up_resnet50_f7.v3_2.x8.net',    networks.ResNet50() ),\n",
    "            ( './models/colors_up_resnet50_f8.v3_2.x4.net',    networks.ResNet50() )\n",
    "        ]\n",
    "    },\n",
    "\n",
    "    'colors_down': {\n",
    "        'ensemble': ('./models/colors_down_ensemble.v1_2.x10.net', networks.lib()['colors_down']),\n",
    "        'models_src': [\n",
    "            ( './models/colors_down_resnet50_f0.v3_2.x5.net',  networks.ResNet50() ),\n",
    "            ( './models/colors_down_resnet50_f1.v3_2.x6.net',  networks.ResNet50() ),\n",
    "            ( './models/colors_down_resnet50_f2.v3_2.x9.net',  networks.ResNet50() ),\n",
    "            ( './models/colors_down_resnet50_f3.v3_2.x15.net', networks.ResNet50() ),\n",
    "            ( './models/colors_down_resnet50_f4.v3_2.x12.net', networks.ResNet50() ),\n",
    "            ( './models/colors_down_resnet50_f5.v3_2.x11.net', networks.ResNet50() ),\n",
    "            ( './models/colors_down_resnet50_f6.v3_2.x9.net',  networks.ResNet50() ),\n",
    "            ( './models/colors_down_resnet50_f7.v3_2.x7.net',  networks.ResNet50() ),\n",
    "            ( './models/colors_down_resnet50_f8.v3_2.x4.net',  networks.ResNet50() ),\n",
    "            ( './models/colors_down_resnet50_f9.v3_2.x8.net',  networks.ResNet50() )\n",
    "        ]\n",
    "    }\n",
    "\n",
    "}\n",
    "\n",
    "for k, lib in models_ensemble.items(): \n",
    "    \n",
    "    models[k]     = {}\n",
    "    lib['models'] = []\n",
    "    \n",
    "    for weights_dir, model in lib['models_src']: \n",
    "        model.load_state_dict(\n",
    "            torch.load( weights_dir, map_location=device )\n",
    "        )\n",
    "        lib['models'].append( model )\n",
    "    del lib['models_src']\n",
    "    \n",
    "    weights_dir, model = lib['ensemble']\n",
    "    model.load_state_dict(\n",
    "        torch.load( weights_dir, map_location=device )\n",
    "    )\n",
    "    \n",
    "    lib['ensemble'] = model\n",
    "    models[k] = lib"
   ]
  },
  {
   "cell_type": "markdown",
   "id": "8c2a2a22",
   "metadata": {},
   "source": [
    "<hr>"
   ]
  },
  {
   "cell_type": "markdown",
   "id": "2592a51d",
   "metadata": {},
   "source": [
    "<br><br>Analyse the target"
   ]
  },
  {
   "cell_type": "code",
   "execution_count": 6,
   "id": "31605921",
   "metadata": {},
   "outputs": [
    {
     "data": {
      "text/plain": [
       "{'age': 2,\n",
       " 'backpack': 1,\n",
       " 'bag': 1,\n",
       " 'handbag': 1,\n",
       " 'clothes': 2,\n",
       " 'down': 1,\n",
       " 'up': 2,\n",
       " 'hair': 1,\n",
       " 'hat': 1,\n",
       " 'gender': 1,\n",
       " 'upblack': 1,\n",
       " 'upwhite': 1,\n",
       " 'upred': 1,\n",
       " 'uppurple': 1,\n",
       " 'upyellow': 2,\n",
       " 'upgray': 1,\n",
       " 'upblue': 1,\n",
       " 'upgreen': 1,\n",
       " 'downblack': 2,\n",
       " 'downwhite': 1,\n",
       " 'downpink': 1,\n",
       " 'downpurple': 1,\n",
       " 'downyellow': 1,\n",
       " 'downgray': 1,\n",
       " 'downblue': 1,\n",
       " 'downgreen': 1,\n",
       " 'downbrown': 1}"
      ]
     },
     "execution_count": 6,
     "metadata": {},
     "output_type": "execute_result"
    }
   ],
   "source": [
    "annotations.iloc[0].to_dict()"
   ]
  },
  {
   "cell_type": "markdown",
   "id": "d49f7e54",
   "metadata": {},
   "source": [
    "<br><br>Process the input for different sizes"
   ]
  },
  {
   "cell_type": "code",
   "execution_count": 7,
   "id": "a0740db8",
   "metadata": {},
   "outputs": [],
   "source": [
    "x, y = train_set[0] "
   ]
  },
  {
   "cell_type": "code",
   "execution_count": 8,
   "id": "ad7b8339",
   "metadata": {},
   "outputs": [],
   "source": [
    "def split_in_shapes(tensor): \n",
    "    \n",
    "    results = []\n",
    "    shapes  = [\n",
    "        (0,128), (0,35), (20,80), (40,100), (60,120)\n",
    "    ]\n",
    "    \n",
    "    for a,b in shapes:\n",
    "        \n",
    "        shape = [] \n",
    "        for c in tensor[0]:\n",
    "            shape.append( c[a:b].numpy() ) \n",
    "        \n",
    "        results.append( torch.tensor([shape]).float().to(device) ) \n",
    "    \n",
    "    return results"
   ]
  },
  {
   "cell_type": "markdown",
   "id": "bfa58b40",
   "metadata": {},
   "source": [
    "<br><br>Test a model ensemble"
   ]
  },
  {
   "cell_type": "code",
   "execution_count": 9,
   "id": "7b432bad",
   "metadata": {},
   "outputs": [
    {
     "data": {
      "text/plain": [
       "array([[-0.07793319,  0.31359875],\n",
       "       [-0.47591186,  0.50973964],\n",
       "       [ 0.00869999, -0.01950193],\n",
       "       [-0.00923227, -0.37455988]], dtype=float32)"
      ]
     },
     "execution_count": 9,
     "metadata": {},
     "output_type": "execute_result"
    }
   ],
   "source": [
    "np.array([ \n",
    "    model(x).detach().numpy()[0]\n",
    "    for model in models['age']['models']\n",
    "]) "
   ]
  },
  {
   "cell_type": "code",
   "execution_count": 10,
   "id": "7691d749",
   "metadata": {},
   "outputs": [
    {
     "data": {
      "text/plain": [
       "array([[-0.16983554,  2.4927192 ,  0.81516695, -0.16804755]],\n",
       "      dtype=float32)"
      ]
     },
     "execution_count": 10,
     "metadata": {},
     "output_type": "execute_result"
    }
   ],
   "source": [
    "models['age']['ensemble']( \n",
    "    torch.tensor([ \n",
    "        model(x).detach().numpy()[0]\n",
    "        for model in models['age']['models']\n",
    "    ]).reshape(-1)\n",
    ").detach().numpy() "
   ]
  },
  {
   "cell_type": "markdown",
   "id": "88308584",
   "metadata": {},
   "source": [
    "<br><br>Test a simple model"
   ]
  },
  {
   "cell_type": "code",
   "execution_count": 12,
   "id": "8fd9c841",
   "metadata": {},
   "outputs": [
    {
     "data": {
      "text/plain": [
       "array([[-2.1430619,  2.133177 ]], dtype=float32)"
      ]
     },
     "execution_count": 12,
     "metadata": {},
     "output_type": "execute_result"
    }
   ],
   "source": [
    "models['gender'](x).detach().numpy() "
   ]
  },
  {
   "cell_type": "markdown",
   "id": "2b4aa2c1",
   "metadata": {},
   "source": [
    "<br><br>Assemble all models into a single one"
   ]
  },
  {
   "cell_type": "code",
   "execution_count": 13,
   "id": "a1bd80cf",
   "metadata": {},
   "outputs": [],
   "source": [
    "def model(_input, src=models): \n",
    "    \n",
    "    vector      = list()\n",
    "    tensor_mode = split_in_shapes(_input)\n",
    "\n",
    "    def add_simple_model_result_to(vector, attribute, shape): \n",
    "    \n",
    "        vector.extend([\n",
    "            np.argmax(\n",
    "\n",
    "                src[attribute](shape)\n",
    "                    .detach().numpy()\n",
    "\n",
    "            )\n",
    "        ])\n",
    "    \n",
    "    def add_ensemble_model_result_to(vector, attribute, shape, pad=False): \n",
    "        \n",
    "        ms = src[attribute]['models']\n",
    "        i  = np.argmax(\n",
    "\n",
    "            src[attribute]['ensemble'](\n",
    "                torch.tensor([ \n",
    "\n",
    "                    model( shape ).detach().numpy()[0]\n",
    "                    for model in ms\n",
    "\n",
    "                ]).reshape(-1)\n",
    "            ).detach().numpy()\n",
    "\n",
    "        )\n",
    "        \n",
    "        if pad:\n",
    "            array = np.zeros( len(ms) - 1, dtype=int )\n",
    "            \n",
    "            if i > 0:\n",
    "                array[i - 1] = 1\n",
    "            \n",
    "            vector.extend(array)\n",
    "        \n",
    "        else:\n",
    "            vector.extend([ i ])\n",
    "    \n",
    "    add_ensemble_model_result_to(vector,\n",
    "        attribute='age', shape=tensor_mode[0]\n",
    "    )\n",
    "    \n",
    "    attribute_refs = [\n",
    "        ('backpack', 2), ('bag', 2), ('handbag', 3),\n",
    "        ('clothes', 4), ('down', 4), ('up', 2),\n",
    "        ('hair', 1), ('hat', 1), ('gender', 0)\n",
    "    ]\n",
    "    \n",
    "    for attribute, s in attribute_refs:\n",
    "        add_simple_model_result_to(vector,\n",
    "            attribute, shape=tensor_mode[s]\n",
    "        )\n",
    "    \n",
    "    add_ensemble_model_result_to(vector,\n",
    "        attribute='colors_up', shape=tensor_mode[2], pad=True\n",
    "    )\n",
    "    \n",
    "    add_ensemble_model_result_to(vector,\n",
    "        attribute='colors_down', shape=tensor_mode[4], pad=True\n",
    "    )\n",
    "    \n",
    "    return np.array(vector)"
   ]
  },
  {
   "cell_type": "markdown",
   "id": "7fcc2f9b",
   "metadata": {},
   "source": [
    "<br><br>Check the results"
   ]
  },
  {
   "cell_type": "code",
   "execution_count": 14,
   "id": "eacc24f5",
   "metadata": {},
   "outputs": [
    {
     "name": "stdout",
     "output_type": "stream",
     "text": [
      "[1 1 0 0 1 0 1 1 1 1 0 1 0 0 0 0 0 0 0 0 0 0 0 0 1 0 0]\n",
      "[1 1 0 0 1 0 1 1 0 1 0 0 1 0 0 0 0 0 0 0 0 0 0 0 1 0 0]\n"
     ]
    }
   ],
   "source": [
    "r = model(x) \n",
    "\n",
    "print(y) \n",
    "print(r) "
   ]
  },
  {
   "cell_type": "code",
   "execution_count": 15,
   "id": "6ff05d9e",
   "metadata": {},
   "outputs": [
    {
     "data": {
      "image/png": "[encoded data removed]",
      "text/plain": [
       "<Figure size 1152x576 with 1 Axes>"
      ]
     },
     "metadata": {
      "needs_background": "light"
     },
     "output_type": "display_data"
    },
    {
     "name": "stdout",
     "output_type": "stream",
     "text": [
      "[['age         :' '1' '1']\n",
      " ['backpack    :' '1' '1']\n",
      " ['bag         :' '0' '0']\n",
      " ['handbag     :' '0' '0']\n",
      " ['clothes     :' '1' '1']\n",
      " ['down        :' '0' '0']\n",
      " ['up          :' '1' '1']\n",
      " ['hair        :' '1' '1']\n",
      " ['hat         :' '1' '0']\n",
      " ['gender      :' '1' '1']\n",
      " ['upblack     :' '0' '0']\n",
      " ['upwhite     :' '1' '0']\n",
      " ['upred       :' '0' '1']\n",
      " ['uppurple    :' '0' '0']\n",
      " ['upyellow    :' '0' '0']\n",
      " ['upgray      :' '0' '0']\n",
      " ['upblue      :' '0' '0']\n",
      " ['upgreen     :' '0' '0']\n",
      " ['downblack   :' '0' '0']\n",
      " ['downwhite   :' '0' '0']\n",
      " ['downpink    :' '0' '0']\n",
      " ['downpurple  :' '0' '0']\n",
      " ['downyellow  :' '0' '0']\n",
      " ['downgray    :' '0' '0']\n",
      " ['downblue    :' '1' '1']\n",
      " ['downgreen   :' '0' '0']\n",
      " ['downbrown   :' '0' '0']]\n"
     ]
    }
   ],
   "source": [
    "project.compare_image_attributes( \n",
    "    image=x, r1=y, r2=r,\n",
    "    labels=annotations.columns\n",
    ")"
   ]
  },
  {
   "cell_type": "markdown",
   "id": "341f75ab",
   "metadata": {},
   "source": [
    "<br><br>Export the super-model"
   ]
  },
  {
   "cell_type": "code",
   "execution_count": 16,
   "id": "d2a53ab4",
   "metadata": {},
   "outputs": [],
   "source": [
    "v  = '2'                        # archive version \n",
    "\n",
    "with open('./data/image_dict.train.v{}.pkl'.format(v), 'wb') as file: \n",
    "    pickle.dump(dictionary, file)\n",
    "\n",
    "with open('./data/models.v{}.pkl'.format(v), 'wb') as file: \n",
    "    pickle.dump(models, file)"
   ]
  },
  {
   "cell_type": "markdown",
   "id": "28066d2e",
   "metadata": {},
   "source": [
    "<br><br>"
   ]
  }
 ],
 "metadata": {
  "kernelspec": {
   "display_name": "Python 3 (ipykernel)",
   "language": "python",
   "name": "python3"
  },
  "language_info": {
   "codemirror_mode": {
    "name": "ipython",
    "version": 3
   },
   "file_extension": ".py",
   "mimetype": "text/x-python",
   "name": "python",
   "nbconvert_exporter": "python",
   "pygments_lexer": "ipython3",
   "version": "3.8.10"
  }
 },
 "nbformat": 4,
 "nbformat_minor": 5
}
